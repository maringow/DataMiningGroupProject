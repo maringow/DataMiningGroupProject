{
 "cells": [
  {
   "cell_type": "markdown",
   "metadata": {},
   "source": [
    "# Gradient Boosted Classification and XGBoost Regression Models"
   ]
  },
  {
   "cell_type": "markdown",
   "metadata": {},
   "source": [
    "### Upload Relevant Datasets"
   ]
  },
  {
   "cell_type": "code",
   "execution_count": 119,
   "metadata": {},
   "outputs": [],
   "source": [
    "import pandas as pd"
   ]
  },
  {
   "cell_type": "code",
   "execution_count": 120,
   "metadata": {},
   "outputs": [],
   "source": [
    "#Upload hospitaldata_iterative.csv\n",
    "hd_iter = pd.read_csv('https://raw.githubusercontent.com/maringow/DataMiningGroupProject/master/hospitaldata_iterative.csv')"
   ]
  },
  {
   "cell_type": "code",
   "execution_count": 121,
   "metadata": {},
   "outputs": [
    {
     "data": {
      "text/html": [
       "<div>\n",
       "<style scoped>\n",
       "    .dataframe tbody tr th:only-of-type {\n",
       "        vertical-align: middle;\n",
       "    }\n",
       "\n",
       "    .dataframe tbody tr th {\n",
       "        vertical-align: top;\n",
       "    }\n",
       "\n",
       "    .dataframe thead th {\n",
       "        text-align: right;\n",
       "    }\n",
       "</style>\n",
       "<table border=\"1\" class=\"dataframe\">\n",
       "  <thead>\n",
       "    <tr style=\"text-align: right;\">\n",
       "      <th></th>\n",
       "      <th>Unnamed: 0</th>\n",
       "      <th>Unnamed: 0.1</th>\n",
       "      <th>Provider ID</th>\n",
       "      <th>Hospital Name</th>\n",
       "      <th>Address</th>\n",
       "      <th>City</th>\n",
       "      <th>State</th>\n",
       "      <th>ZIP Code</th>\n",
       "      <th>COMP_HIP_KNEE</th>\n",
       "      <th>MORT_30_AMI</th>\n",
       "      <th>...</th>\n",
       "      <th>H_COMP_3_LINEAR_SCORE</th>\n",
       "      <th>H_COMP_5_LINEAR_SCORE</th>\n",
       "      <th>H_COMP_6_LINEAR_SCORE</th>\n",
       "      <th>H_COMP_7_LINEAR_SCORE</th>\n",
       "      <th>H_HSP_RATING_LINEAR_SCORE</th>\n",
       "      <th>H_QUIET_LINEAR_SCORE</th>\n",
       "      <th>H_RECMND_LINEAR_SCORE</th>\n",
       "      <th>Number of Completed Surveys</th>\n",
       "      <th>Survey Response Rate Percent</th>\n",
       "      <th>STAR_RATING</th>\n",
       "    </tr>\n",
       "  </thead>\n",
       "  <tbody>\n",
       "    <tr>\n",
       "      <th>0</th>\n",
       "      <td>0</td>\n",
       "      <td>0</td>\n",
       "      <td>010001</td>\n",
       "      <td>SOUTHEAST ALABAMA MEDICAL CENTER</td>\n",
       "      <td>1108 ROSS CLARK CIRCLE</td>\n",
       "      <td>DOTHAN</td>\n",
       "      <td>AL</td>\n",
       "      <td>36301.0</td>\n",
       "      <td>3.0</td>\n",
       "      <td>14.5</td>\n",
       "      <td>...</td>\n",
       "      <td>75.0</td>\n",
       "      <td>70.0</td>\n",
       "      <td>85.0</td>\n",
       "      <td>79.0</td>\n",
       "      <td>83.0</td>\n",
       "      <td>86.0</td>\n",
       "      <td>84.0</td>\n",
       "      <td>506.0</td>\n",
       "      <td>21.0</td>\n",
       "      <td>2.0</td>\n",
       "    </tr>\n",
       "  </tbody>\n",
       "</table>\n",
       "<p>1 rows × 40 columns</p>\n",
       "</div>"
      ],
      "text/plain": [
       "   Unnamed: 0  Unnamed: 0.1 Provider ID                     Hospital Name  \\\n",
       "0           0             0      010001  SOUTHEAST ALABAMA MEDICAL CENTER   \n",
       "\n",
       "                  Address    City State  ZIP Code  COMP_HIP_KNEE  MORT_30_AMI  \\\n",
       "0  1108 ROSS CLARK CIRCLE  DOTHAN    AL   36301.0            3.0         14.5   \n",
       "\n",
       "   ...  H_COMP_3_LINEAR_SCORE  H_COMP_5_LINEAR_SCORE  H_COMP_6_LINEAR_SCORE  \\\n",
       "0  ...                   75.0                   70.0                   85.0   \n",
       "\n",
       "   H_COMP_7_LINEAR_SCORE  H_HSP_RATING_LINEAR_SCORE  H_QUIET_LINEAR_SCORE  \\\n",
       "0                   79.0                       83.0                  86.0   \n",
       "\n",
       "   H_RECMND_LINEAR_SCORE  Number of Completed Surveys  \\\n",
       "0                   84.0                        506.0   \n",
       "\n",
       "   Survey Response Rate Percent  STAR_RATING  \n",
       "0                          21.0          2.0  \n",
       "\n",
       "[1 rows x 40 columns]"
      ]
     },
     "execution_count": 121,
     "metadata": {},
     "output_type": "execute_result"
    }
   ],
   "source": [
    "hd_iter.head(1)"
   ]
  },
  {
   "cell_type": "code",
   "execution_count": 122,
   "metadata": {},
   "outputs": [],
   "source": [
    "#Upload hospitaldata_knn.csv\n",
    "hd_KMeans = pd.read_csv('https://raw.githubusercontent.com/maringow/DataMiningGroupProject/master/hospitaldata_knn.csv')"
   ]
  },
  {
   "cell_type": "code",
   "execution_count": 123,
   "metadata": {},
   "outputs": [
    {
     "data": {
      "text/html": [
       "<div>\n",
       "<style scoped>\n",
       "    .dataframe tbody tr th:only-of-type {\n",
       "        vertical-align: middle;\n",
       "    }\n",
       "\n",
       "    .dataframe tbody tr th {\n",
       "        vertical-align: top;\n",
       "    }\n",
       "\n",
       "    .dataframe thead th {\n",
       "        text-align: right;\n",
       "    }\n",
       "</style>\n",
       "<table border=\"1\" class=\"dataframe\">\n",
       "  <thead>\n",
       "    <tr style=\"text-align: right;\">\n",
       "      <th></th>\n",
       "      <th>Unnamed: 0</th>\n",
       "      <th>Unnamed: 0.1</th>\n",
       "      <th>Provider ID</th>\n",
       "      <th>Hospital Name</th>\n",
       "      <th>Address</th>\n",
       "      <th>City</th>\n",
       "      <th>State</th>\n",
       "      <th>ZIP Code</th>\n",
       "      <th>COMP_HIP_KNEE</th>\n",
       "      <th>MORT_30_AMI</th>\n",
       "      <th>...</th>\n",
       "      <th>H_COMP_3_LINEAR_SCORE</th>\n",
       "      <th>H_COMP_5_LINEAR_SCORE</th>\n",
       "      <th>H_COMP_6_LINEAR_SCORE</th>\n",
       "      <th>H_COMP_7_LINEAR_SCORE</th>\n",
       "      <th>H_HSP_RATING_LINEAR_SCORE</th>\n",
       "      <th>H_QUIET_LINEAR_SCORE</th>\n",
       "      <th>H_RECMND_LINEAR_SCORE</th>\n",
       "      <th>Number of Completed Surveys</th>\n",
       "      <th>Survey Response Rate Percent</th>\n",
       "      <th>STAR_RATING</th>\n",
       "    </tr>\n",
       "  </thead>\n",
       "  <tbody>\n",
       "    <tr>\n",
       "      <th>0</th>\n",
       "      <td>0</td>\n",
       "      <td>0</td>\n",
       "      <td>010001</td>\n",
       "      <td>SOUTHEAST ALABAMA MEDICAL CENTER</td>\n",
       "      <td>1108 ROSS CLARK CIRCLE</td>\n",
       "      <td>DOTHAN</td>\n",
       "      <td>AL</td>\n",
       "      <td>36301.0</td>\n",
       "      <td>3.0</td>\n",
       "      <td>14.5</td>\n",
       "      <td>...</td>\n",
       "      <td>75.0</td>\n",
       "      <td>70.0</td>\n",
       "      <td>85.0</td>\n",
       "      <td>79.0</td>\n",
       "      <td>83.0</td>\n",
       "      <td>86.0</td>\n",
       "      <td>84.0</td>\n",
       "      <td>506.0</td>\n",
       "      <td>21.0</td>\n",
       "      <td>2.0</td>\n",
       "    </tr>\n",
       "  </tbody>\n",
       "</table>\n",
       "<p>1 rows × 40 columns</p>\n",
       "</div>"
      ],
      "text/plain": [
       "   Unnamed: 0  Unnamed: 0.1 Provider ID                     Hospital Name  \\\n",
       "0           0             0      010001  SOUTHEAST ALABAMA MEDICAL CENTER   \n",
       "\n",
       "                  Address    City State  ZIP Code  COMP_HIP_KNEE  MORT_30_AMI  \\\n",
       "0  1108 ROSS CLARK CIRCLE  DOTHAN    AL   36301.0            3.0         14.5   \n",
       "\n",
       "   ...  H_COMP_3_LINEAR_SCORE  H_COMP_5_LINEAR_SCORE  H_COMP_6_LINEAR_SCORE  \\\n",
       "0  ...                   75.0                   70.0                   85.0   \n",
       "\n",
       "   H_COMP_7_LINEAR_SCORE  H_HSP_RATING_LINEAR_SCORE  H_QUIET_LINEAR_SCORE  \\\n",
       "0                   79.0                       83.0                  86.0   \n",
       "\n",
       "   H_RECMND_LINEAR_SCORE  Number of Completed Surveys  \\\n",
       "0                   84.0                        506.0   \n",
       "\n",
       "   Survey Response Rate Percent  STAR_RATING  \n",
       "0                          21.0          2.0  \n",
       "\n",
       "[1 rows x 40 columns]"
      ]
     },
     "execution_count": 123,
     "metadata": {},
     "output_type": "execute_result"
    }
   ],
   "source": [
    "hd_KMeans.head(1)"
   ]
  },
  {
   "cell_type": "code",
   "execution_count": 126,
   "metadata": {},
   "outputs": [],
   "source": [
    "#Upload hospitaldata_mean.csv\n",
    "hd_means = pd.read_csv('https://raw.githubusercontent.com/maringow/DataMiningGroupProject/master/hospitaldata_mean.csv')"
   ]
  },
  {
   "cell_type": "code",
   "execution_count": 127,
   "metadata": {},
   "outputs": [
    {
     "data": {
      "text/html": [
       "<div>\n",
       "<style scoped>\n",
       "    .dataframe tbody tr th:only-of-type {\n",
       "        vertical-align: middle;\n",
       "    }\n",
       "\n",
       "    .dataframe tbody tr th {\n",
       "        vertical-align: top;\n",
       "    }\n",
       "\n",
       "    .dataframe thead th {\n",
       "        text-align: right;\n",
       "    }\n",
       "</style>\n",
       "<table border=\"1\" class=\"dataframe\">\n",
       "  <thead>\n",
       "    <tr style=\"text-align: right;\">\n",
       "      <th></th>\n",
       "      <th>Unnamed: 0</th>\n",
       "      <th>Unnamed: 0.1</th>\n",
       "      <th>Provider ID</th>\n",
       "      <th>COMP_HIP_KNEE</th>\n",
       "      <th>MORT_30_AMI</th>\n",
       "      <th>MORT_30_CABG</th>\n",
       "      <th>MORT_30_COPD</th>\n",
       "      <th>MORT_30_HF</th>\n",
       "      <th>MORT_30_PN</th>\n",
       "      <th>MORT_30_STK</th>\n",
       "      <th>...</th>\n",
       "      <th>H_QUIET_LINEAR_SCORE</th>\n",
       "      <th>H_RECMND_LINEAR_SCORE</th>\n",
       "      <th>Hospital Name</th>\n",
       "      <th>Address</th>\n",
       "      <th>City</th>\n",
       "      <th>State</th>\n",
       "      <th>ZIP Code</th>\n",
       "      <th>Number of Completed Surveys</th>\n",
       "      <th>Survey Response Rate Percent</th>\n",
       "      <th>STAR_RATING</th>\n",
       "    </tr>\n",
       "  </thead>\n",
       "  <tbody>\n",
       "    <tr>\n",
       "      <th>0</th>\n",
       "      <td>0</td>\n",
       "      <td>0</td>\n",
       "      <td>10001</td>\n",
       "      <td>3.0</td>\n",
       "      <td>14.5</td>\n",
       "      <td>4.5</td>\n",
       "      <td>8.9</td>\n",
       "      <td>12.5</td>\n",
       "      <td>16.2</td>\n",
       "      <td>13.7</td>\n",
       "      <td>...</td>\n",
       "      <td>86</td>\n",
       "      <td>84</td>\n",
       "      <td>SOUTHEAST ALABAMA MEDICAL CENTER</td>\n",
       "      <td>1108 ROSS CLARK CIRCLE</td>\n",
       "      <td>DOTHAN</td>\n",
       "      <td>AL</td>\n",
       "      <td>36301</td>\n",
       "      <td>506</td>\n",
       "      <td>21</td>\n",
       "      <td>2</td>\n",
       "    </tr>\n",
       "  </tbody>\n",
       "</table>\n",
       "<p>1 rows × 40 columns</p>\n",
       "</div>"
      ],
      "text/plain": [
       "   Unnamed: 0  Unnamed: 0.1 Provider ID  COMP_HIP_KNEE  MORT_30_AMI  \\\n",
       "0           0             0       10001            3.0         14.5   \n",
       "\n",
       "   MORT_30_CABG  MORT_30_COPD  MORT_30_HF  MORT_30_PN  MORT_30_STK  ...  \\\n",
       "0           4.5           8.9        12.5        16.2         13.7  ...   \n",
       "\n",
       "   H_QUIET_LINEAR_SCORE  H_RECMND_LINEAR_SCORE  \\\n",
       "0                    86                     84   \n",
       "\n",
       "                      Hospital Name                 Address    City  State  \\\n",
       "0  SOUTHEAST ALABAMA MEDICAL CENTER  1108 ROSS CLARK CIRCLE  DOTHAN     AL   \n",
       "\n",
       "   ZIP Code  Number of Completed Surveys  Survey Response Rate Percent  \\\n",
       "0     36301                          506                            21   \n",
       "\n",
       "   STAR_RATING  \n",
       "0            2  \n",
       "\n",
       "[1 rows x 40 columns]"
      ]
     },
     "execution_count": 127,
     "metadata": {},
     "output_type": "execute_result"
    }
   ],
   "source": [
    "hd_means.head(1)"
   ]
  },
  {
   "cell_type": "markdown",
   "metadata": {},
   "source": [
    "## XGBoost"
   ]
  },
  {
   "cell_type": "markdown",
   "metadata": {},
   "source": [
    "### Prepare the hospitaldata_iterative Dataset for the Regression Model Run"
   ]
  },
  {
   "cell_type": "code",
   "execution_count": 128,
   "metadata": {},
   "outputs": [
    {
     "name": "stdout",
     "output_type": "stream",
     "text": [
      "<class 'pandas.core.frame.DataFrame'>\n",
      "RangeIndex: 3529 entries, 0 to 3528\n",
      "Data columns (total 40 columns):\n",
      "Unnamed: 0                      3529 non-null int64\n",
      "Unnamed: 0.1                    3529 non-null int64\n",
      "Provider ID                     3529 non-null object\n",
      "Hospital Name                   3529 non-null object\n",
      "Address                         3529 non-null object\n",
      "City                            3529 non-null object\n",
      "State                           3529 non-null object\n",
      "ZIP Code                        3529 non-null float64\n",
      "COMP_HIP_KNEE                   3529 non-null float64\n",
      "MORT_30_AMI                     3529 non-null float64\n",
      "MORT_30_CABG                    3529 non-null float64\n",
      "MORT_30_COPD                    3529 non-null float64\n",
      "MORT_30_HF                      3529 non-null float64\n",
      "MORT_30_PN                      3529 non-null float64\n",
      "MORT_30_STK                     3529 non-null float64\n",
      "PSI_10_POST_KIDNEY              3529 non-null float64\n",
      "PSI_11_POST_RESP                3529 non-null float64\n",
      "PSI_12_POSTOP_PULMEMB_DVT       3529 non-null float64\n",
      "PSI_13_POST_SEPSIS              3529 non-null float64\n",
      "PSI_14_POSTOP_DEHIS             3529 non-null float64\n",
      "PSI_15_ACC_LAC                  3529 non-null float64\n",
      "PSI_3_ULCER                     3529 non-null float64\n",
      "PSI_4_SURG_COMP                 3529 non-null float64\n",
      "PSI_6_IAT_PTX                   3529 non-null float64\n",
      "PSI_8_POST_HIP                  3529 non-null float64\n",
      "PSI_90_SAFETY                   3529 non-null float64\n",
      "PSI_9_POST_HEM                  3529 non-null float64\n",
      "H_CLEAN_LINEAR_SCORE            3529 non-null float64\n",
      "H_COMP_1_LINEAR_SCORE           3529 non-null float64\n",
      "H_COMP_2_LINEAR_SCORE           3529 non-null float64\n",
      "H_COMP_3_LINEAR_SCORE           3529 non-null float64\n",
      "H_COMP_5_LINEAR_SCORE           3529 non-null float64\n",
      "H_COMP_6_LINEAR_SCORE           3529 non-null float64\n",
      "H_COMP_7_LINEAR_SCORE           3529 non-null float64\n",
      "H_HSP_RATING_LINEAR_SCORE       3529 non-null float64\n",
      "H_QUIET_LINEAR_SCORE            3529 non-null float64\n",
      "H_RECMND_LINEAR_SCORE           3529 non-null float64\n",
      "Number of Completed Surveys     3529 non-null float64\n",
      "Survey Response Rate Percent    3529 non-null float64\n",
      "STAR_RATING                     3529 non-null float64\n",
      "dtypes: float64(33), int64(2), object(5)\n",
      "memory usage: 1.1+ MB\n"
     ]
    }
   ],
   "source": [
    "# Explore the Iter dataset\n",
    "hd_iter.info()"
   ]
  },
  {
   "cell_type": "code",
   "execution_count": 129,
   "metadata": {},
   "outputs": [],
   "source": [
    "# Drop columns flagged based on the Group Features Engineering strategy\n",
    "hd_iter.drop(['STAR_RATING', 'Survey Response Rate Percent', 'Number of Completed Surveys', 'Unnamed: 0', 'Unnamed: 0.1', 'Provider ID', 'Hospital Name', 'Address', 'City', 'State', 'ZIP Code' ], axis=1, inplace=True)"
   ]
  },
  {
   "cell_type": "code",
   "execution_count": 130,
   "metadata": {},
   "outputs": [
    {
     "name": "stdout",
     "output_type": "stream",
     "text": [
      "<class 'pandas.core.frame.DataFrame'>\n",
      "RangeIndex: 3529 entries, 0 to 3528\n",
      "Data columns (total 29 columns):\n",
      "COMP_HIP_KNEE                3529 non-null float64\n",
      "MORT_30_AMI                  3529 non-null float64\n",
      "MORT_30_CABG                 3529 non-null float64\n",
      "MORT_30_COPD                 3529 non-null float64\n",
      "MORT_30_HF                   3529 non-null float64\n",
      "MORT_30_PN                   3529 non-null float64\n",
      "MORT_30_STK                  3529 non-null float64\n",
      "PSI_10_POST_KIDNEY           3529 non-null float64\n",
      "PSI_11_POST_RESP             3529 non-null float64\n",
      "PSI_12_POSTOP_PULMEMB_DVT    3529 non-null float64\n",
      "PSI_13_POST_SEPSIS           3529 non-null float64\n",
      "PSI_14_POSTOP_DEHIS          3529 non-null float64\n",
      "PSI_15_ACC_LAC               3529 non-null float64\n",
      "PSI_3_ULCER                  3529 non-null float64\n",
      "PSI_4_SURG_COMP              3529 non-null float64\n",
      "PSI_6_IAT_PTX                3529 non-null float64\n",
      "PSI_8_POST_HIP               3529 non-null float64\n",
      "PSI_90_SAFETY                3529 non-null float64\n",
      "PSI_9_POST_HEM               3529 non-null float64\n",
      "H_CLEAN_LINEAR_SCORE         3529 non-null float64\n",
      "H_COMP_1_LINEAR_SCORE        3529 non-null float64\n",
      "H_COMP_2_LINEAR_SCORE        3529 non-null float64\n",
      "H_COMP_3_LINEAR_SCORE        3529 non-null float64\n",
      "H_COMP_5_LINEAR_SCORE        3529 non-null float64\n",
      "H_COMP_6_LINEAR_SCORE        3529 non-null float64\n",
      "H_COMP_7_LINEAR_SCORE        3529 non-null float64\n",
      "H_HSP_RATING_LINEAR_SCORE    3529 non-null float64\n",
      "H_QUIET_LINEAR_SCORE         3529 non-null float64\n",
      "H_RECMND_LINEAR_SCORE        3529 non-null float64\n",
      "dtypes: float64(29)\n",
      "memory usage: 799.6 KB\n"
     ]
    }
   ],
   "source": [
    "# Explore the Iter dataset\n",
    "hd_iter.info()"
   ]
  },
  {
   "cell_type": "code",
   "execution_count": 131,
   "metadata": {},
   "outputs": [],
   "source": [
    "#import the required packages\n",
    "%matplotlib inline\n",
    "import numpy as np\n",
    "import pandas as pd\n",
    "from scipy import stats\n",
    "import matplotlib.pyplot as plt\n",
    "import seaborn as sns\n",
    "from sklearn.model_selection import train_test_split\n",
    "# Importing Classifier Modules\n",
    "from sklearn.linear_model import LogisticRegression\n",
    "import numpy as np\n",
    "from sklearn.linear_model import LogisticRegression\n",
    "from sklearn.datasets import make_classification\n",
    "from sklearn.ensemble import RandomForestClassifier\n",
    "import matplotlib.pyplot as plt\n",
    "import seaborn as sns\n",
    "sns.set(style=\"white\")"
   ]
  },
  {
   "cell_type": "code",
   "execution_count": 132,
   "metadata": {},
   "outputs": [],
   "source": [
    "#split dataset in features and target variable\n",
    "feature_cols = ['COMP_HIP_KNEE', 'MORT_30_AMI', 'MORT_30_CABG', 'MORT_30_COPD','MORT_30_HF','MORT_30_PN','MORT_30_STK','PSI_10_POST_KIDNEY','PSI_11_POST_RESP','PSI_12_POSTOP_PULMEMB_DVT','PSI_13_POST_SEPSIS','PSI_14_POSTOP_DEHIS','PSI_15_ACC_LAC','PSI_3_ULCER','PSI_4_SURG_COMP','PSI_6_IAT_PTX','PSI_8_POST_HIP','PSI_90_SAFETY','H_CLEAN_LINEAR_SCORE','H_COMP_1_LINEAR_SCORE','H_COMP_2_LINEAR_SCORE','H_COMP_3_LINEAR_SCORE','H_COMP_5_LINEAR_SCORE','H_COMP_6_LINEAR_SCORE','H_COMP_7_LINEAR_SCORE','H_HSP_RATING_LINEAR_SCORE','H_QUIET_LINEAR_SCORE']\n",
    "X = hd_iter[feature_cols] # Features\n",
    "Y = hd_iter.H_RECMND_LINEAR_SCORE # Target variable"
   ]
  },
  {
   "cell_type": "code",
   "execution_count": 133,
   "metadata": {},
   "outputs": [],
   "source": [
    "# split X and Y into training and testing sets\n",
    "import warnings\n",
    "warnings.filterwarnings('ignore')\n",
    "from sklearn.model_selection import train_test_split\n",
    "X_train, X_test, Y_train, Y_test = train_test_split(X,Y,test_size=0.33, random_state=42)"
   ]
  },
  {
   "cell_type": "code",
   "execution_count": 134,
   "metadata": {},
   "outputs": [
    {
     "data": {
      "text/html": [
       "<div>\n",
       "<style scoped>\n",
       "    .dataframe tbody tr th:only-of-type {\n",
       "        vertical-align: middle;\n",
       "    }\n",
       "\n",
       "    .dataframe tbody tr th {\n",
       "        vertical-align: top;\n",
       "    }\n",
       "\n",
       "    .dataframe thead th {\n",
       "        text-align: right;\n",
       "    }\n",
       "</style>\n",
       "<table border=\"1\" class=\"dataframe\">\n",
       "  <thead>\n",
       "    <tr style=\"text-align: right;\">\n",
       "      <th></th>\n",
       "      <th>COMP_HIP_KNEE</th>\n",
       "      <th>MORT_30_AMI</th>\n",
       "      <th>MORT_30_CABG</th>\n",
       "      <th>MORT_30_COPD</th>\n",
       "      <th>MORT_30_HF</th>\n",
       "      <th>MORT_30_PN</th>\n",
       "      <th>MORT_30_STK</th>\n",
       "      <th>PSI_10_POST_KIDNEY</th>\n",
       "      <th>PSI_11_POST_RESP</th>\n",
       "      <th>PSI_12_POSTOP_PULMEMB_DVT</th>\n",
       "      <th>...</th>\n",
       "      <th>PSI_90_SAFETY</th>\n",
       "      <th>H_CLEAN_LINEAR_SCORE</th>\n",
       "      <th>H_COMP_1_LINEAR_SCORE</th>\n",
       "      <th>H_COMP_2_LINEAR_SCORE</th>\n",
       "      <th>H_COMP_3_LINEAR_SCORE</th>\n",
       "      <th>H_COMP_5_LINEAR_SCORE</th>\n",
       "      <th>H_COMP_6_LINEAR_SCORE</th>\n",
       "      <th>H_COMP_7_LINEAR_SCORE</th>\n",
       "      <th>H_HSP_RATING_LINEAR_SCORE</th>\n",
       "      <th>H_QUIET_LINEAR_SCORE</th>\n",
       "    </tr>\n",
       "  </thead>\n",
       "  <tbody>\n",
       "    <tr>\n",
       "      <th>2499</th>\n",
       "      <td>2.8</td>\n",
       "      <td>13.1</td>\n",
       "      <td>3.2</td>\n",
       "      <td>8.8</td>\n",
       "      <td>13.9</td>\n",
       "      <td>14.0</td>\n",
       "      <td>13.0</td>\n",
       "      <td>1.64</td>\n",
       "      <td>8.29</td>\n",
       "      <td>4.66</td>\n",
       "      <td>...</td>\n",
       "      <td>1.02</td>\n",
       "      <td>87.0</td>\n",
       "      <td>92.0</td>\n",
       "      <td>93.0</td>\n",
       "      <td>85.0</td>\n",
       "      <td>76.0</td>\n",
       "      <td>87.0</td>\n",
       "      <td>83.0</td>\n",
       "      <td>91.0</td>\n",
       "      <td>86.0</td>\n",
       "    </tr>\n",
       "    <tr>\n",
       "      <th>2357</th>\n",
       "      <td>2.7</td>\n",
       "      <td>13.6</td>\n",
       "      <td>3.6</td>\n",
       "      <td>9.4</td>\n",
       "      <td>12.2</td>\n",
       "      <td>14.6</td>\n",
       "      <td>12.9</td>\n",
       "      <td>1.21</td>\n",
       "      <td>10.32</td>\n",
       "      <td>4.34</td>\n",
       "      <td>...</td>\n",
       "      <td>1.12</td>\n",
       "      <td>80.0</td>\n",
       "      <td>90.0</td>\n",
       "      <td>91.0</td>\n",
       "      <td>81.0</td>\n",
       "      <td>74.0</td>\n",
       "      <td>87.0</td>\n",
       "      <td>80.0</td>\n",
       "      <td>86.0</td>\n",
       "      <td>74.0</td>\n",
       "    </tr>\n",
       "  </tbody>\n",
       "</table>\n",
       "<p>2 rows × 27 columns</p>\n",
       "</div>"
      ],
      "text/plain": [
       "      COMP_HIP_KNEE  MORT_30_AMI  MORT_30_CABG  MORT_30_COPD  MORT_30_HF  \\\n",
       "2499            2.8         13.1           3.2           8.8        13.9   \n",
       "2357            2.7         13.6           3.6           9.4        12.2   \n",
       "\n",
       "      MORT_30_PN  MORT_30_STK  PSI_10_POST_KIDNEY  PSI_11_POST_RESP  \\\n",
       "2499        14.0         13.0                1.64              8.29   \n",
       "2357        14.6         12.9                1.21             10.32   \n",
       "\n",
       "      PSI_12_POSTOP_PULMEMB_DVT  ...  PSI_90_SAFETY  H_CLEAN_LINEAR_SCORE  \\\n",
       "2499                       4.66  ...           1.02                  87.0   \n",
       "2357                       4.34  ...           1.12                  80.0   \n",
       "\n",
       "      H_COMP_1_LINEAR_SCORE  H_COMP_2_LINEAR_SCORE  H_COMP_3_LINEAR_SCORE  \\\n",
       "2499                   92.0                   93.0                   85.0   \n",
       "2357                   90.0                   91.0                   81.0   \n",
       "\n",
       "      H_COMP_5_LINEAR_SCORE  H_COMP_6_LINEAR_SCORE  H_COMP_7_LINEAR_SCORE  \\\n",
       "2499                   76.0                   87.0                   83.0   \n",
       "2357                   74.0                   87.0                   80.0   \n",
       "\n",
       "      H_HSP_RATING_LINEAR_SCORE  H_QUIET_LINEAR_SCORE  \n",
       "2499                       91.0                  86.0  \n",
       "2357                       86.0                  74.0  \n",
       "\n",
       "[2 rows x 27 columns]"
      ]
     },
     "execution_count": 134,
     "metadata": {},
     "output_type": "execute_result"
    }
   ],
   "source": [
    "X_train.head(2)"
   ]
  },
  {
   "cell_type": "code",
   "execution_count": 135,
   "metadata": {},
   "outputs": [
    {
     "data": {
      "text/plain": [
       "2499    92.0\n",
       "2357    85.0\n",
       "Name: H_RECMND_LINEAR_SCORE, dtype: float64"
      ]
     },
     "execution_count": 135,
     "metadata": {},
     "output_type": "execute_result"
    }
   ],
   "source": [
    "Y_train.head(2)"
   ]
  },
  {
   "cell_type": "markdown",
   "metadata": {},
   "source": [
    "### Run XGBoost on the hospitaldata_iterative Dataset"
   ]
  },
  {
   "cell_type": "code",
   "execution_count": 136,
   "metadata": {},
   "outputs": [],
   "source": [
    "import xgboost as xgb\n",
    "from xgboost import plot_importance"
   ]
  },
  {
   "cell_type": "code",
   "execution_count": 137,
   "metadata": {},
   "outputs": [
    {
     "name": "stdout",
     "output_type": "stream",
     "text": [
      "[0]\tTest-rmse:78.995\n",
      "Will train until Test-rmse hasn't improved in 10 rounds.\n",
      "[1]\tTest-rmse:71.111\n",
      "[2]\tTest-rmse:64.014\n",
      "[3]\tTest-rmse:57.6291\n",
      "[4]\tTest-rmse:51.8816\n",
      "[5]\tTest-rmse:46.7042\n",
      "[6]\tTest-rmse:42.0455\n",
      "[7]\tTest-rmse:37.8542\n",
      "[8]\tTest-rmse:34.0823\n",
      "[9]\tTest-rmse:30.6833\n",
      "[10]\tTest-rmse:27.6284\n",
      "[11]\tTest-rmse:24.8799\n",
      "[12]\tTest-rmse:22.407\n",
      "[13]\tTest-rmse:20.1804\n",
      "[14]\tTest-rmse:18.1772\n",
      "[15]\tTest-rmse:16.3744\n",
      "[16]\tTest-rmse:14.7527\n",
      "[17]\tTest-rmse:13.2952\n",
      "[18]\tTest-rmse:11.9844\n",
      "[19]\tTest-rmse:10.8062\n",
      "[20]\tTest-rmse:9.74886\n",
      "[21]\tTest-rmse:8.79642\n",
      "[22]\tTest-rmse:7.94322\n",
      "[23]\tTest-rmse:7.1801\n",
      "[24]\tTest-rmse:6.49303\n",
      "[25]\tTest-rmse:5.87411\n",
      "[26]\tTest-rmse:5.32376\n",
      "[27]\tTest-rmse:4.83231\n",
      "[28]\tTest-rmse:4.39434\n",
      "[29]\tTest-rmse:4.00009\n",
      "[30]\tTest-rmse:3.65169\n",
      "[31]\tTest-rmse:3.34173\n",
      "[32]\tTest-rmse:3.06626\n",
      "[33]\tTest-rmse:2.82421\n",
      "[34]\tTest-rmse:2.61072\n",
      "[35]\tTest-rmse:2.42424\n",
      "[36]\tTest-rmse:2.26033\n",
      "[37]\tTest-rmse:2.11751\n",
      "[38]\tTest-rmse:1.99386\n",
      "[39]\tTest-rmse:1.88885\n",
      "[40]\tTest-rmse:1.79651\n",
      "[41]\tTest-rmse:1.71868\n",
      "[42]\tTest-rmse:1.65335\n",
      "[43]\tTest-rmse:1.59821\n",
      "[44]\tTest-rmse:1.55171\n",
      "[45]\tTest-rmse:1.51274\n",
      "[46]\tTest-rmse:1.47915\n",
      "[47]\tTest-rmse:1.45102\n",
      "[48]\tTest-rmse:1.42827\n",
      "[49]\tTest-rmse:1.41063\n",
      "[50]\tTest-rmse:1.39577\n",
      "[51]\tTest-rmse:1.38287\n",
      "[52]\tTest-rmse:1.37188\n",
      "[53]\tTest-rmse:1.36364\n",
      "[54]\tTest-rmse:1.35627\n",
      "[55]\tTest-rmse:1.35038\n",
      "[56]\tTest-rmse:1.34508\n",
      "[57]\tTest-rmse:1.34057\n",
      "[58]\tTest-rmse:1.33739\n",
      "[59]\tTest-rmse:1.33459\n",
      "[60]\tTest-rmse:1.33249\n",
      "[61]\tTest-rmse:1.33047\n",
      "[62]\tTest-rmse:1.3265\n",
      "[63]\tTest-rmse:1.32455\n",
      "[64]\tTest-rmse:1.32423\n",
      "[65]\tTest-rmse:1.32302\n",
      "[66]\tTest-rmse:1.32168\n",
      "[67]\tTest-rmse:1.32155\n",
      "[68]\tTest-rmse:1.32093\n",
      "[69]\tTest-rmse:1.31913\n",
      "[70]\tTest-rmse:1.31854\n",
      "[71]\tTest-rmse:1.31706\n",
      "[72]\tTest-rmse:1.31773\n",
      "[73]\tTest-rmse:1.31733\n",
      "[74]\tTest-rmse:1.31787\n",
      "[75]\tTest-rmse:1.31895\n",
      "[76]\tTest-rmse:1.31708\n",
      "[77]\tTest-rmse:1.31738\n",
      "[78]\tTest-rmse:1.31584\n",
      "[79]\tTest-rmse:1.31499\n",
      "[80]\tTest-rmse:1.31489\n",
      "[81]\tTest-rmse:1.31478\n",
      "[82]\tTest-rmse:1.31445\n",
      "[83]\tTest-rmse:1.31465\n",
      "[84]\tTest-rmse:1.31441\n",
      "[85]\tTest-rmse:1.3148\n",
      "[86]\tTest-rmse:1.31228\n",
      "[87]\tTest-rmse:1.31255\n",
      "[88]\tTest-rmse:1.31165\n",
      "[89]\tTest-rmse:1.31055\n",
      "[90]\tTest-rmse:1.31015\n",
      "[91]\tTest-rmse:1.30955\n",
      "[92]\tTest-rmse:1.3082\n",
      "[93]\tTest-rmse:1.30929\n",
      "[94]\tTest-rmse:1.30968\n",
      "[95]\tTest-rmse:1.30858\n",
      "[96]\tTest-rmse:1.30919\n",
      "[97]\tTest-rmse:1.30971\n",
      "[98]\tTest-rmse:1.30976\n",
      "[99]\tTest-rmse:1.30914\n",
      "[100]\tTest-rmse:1.30957\n",
      "[101]\tTest-rmse:1.31011\n",
      "[102]\tTest-rmse:1.31007\n",
      "Stopping. Best iteration:\n",
      "[92]\tTest-rmse:1.3082\n",
      "\n",
      "Model's best RMSE on test set:  1.308199\n",
      "Model's best iteration:  93\n"
     ]
    }
   ],
   "source": [
    "# xgb models only accept 'DMatrix' input; convert the data here\n",
    "dtrain = xgb.DMatrix(X_train, label=Y_train)\n",
    "dtest = xgb.DMatrix(X_test, label=Y_test)\n",
    "\n",
    "# parameter grid for xgb model\n",
    "param_dict = {\n",
    "    # Parameters that we are going to tune. See discussion below for explanation of \n",
    "    # parameters and tuning\n",
    "    'max_depth':6, \n",
    "    'min_child_weight': 1,\n",
    "    'eta':.1,\n",
    "    'subsample': 1,\n",
    "    'colsample_bytree': 1,\n",
    "    # Other parameters\n",
    "    'objective':'reg:linear',\n",
    "    'eval_metric':'rmse'\n",
    "}\n",
    "\n",
    "# train XGB model on split training data using split test data\n",
    "num_boost_round=999\n",
    "model = xgb.train(\n",
    "    param_dict,\n",
    "    dtrain,\n",
    "    num_boost_round=num_boost_round,\n",
    "    evals=[(dtest, \"Test\")],\n",
    "    early_stopping_rounds=10\n",
    ")\n",
    "\n",
    "print(\"Model's best RMSE on test set: \", model.best_score)\n",
    "print(\"Model's best iteration: \", model.best_iteration+1)"
   ]
  },
  {
   "cell_type": "code",
   "execution_count": 138,
   "metadata": {},
   "outputs": [
    {
     "name": "stdout",
     "output_type": "stream",
     "text": [
      "RMSE of XGB model on training data:  0.6481981464358001\n",
      "RMSE of XGB model on test data:  1.310065897247246\n"
     ]
    }
   ],
   "source": [
    "from sklearn.metrics import mean_squared_error\n",
    "from math import sqrt\n",
    "# convert training data to DMatrix object\n",
    "dpred=xgb.DMatrix(X_train)\n",
    "\n",
    "# predict RMSE of Gradient Boosted Decision Tree model on training data\n",
    "print(\"RMSE of XGB model on training data: \",\n",
    "      np.sqrt(mean_squared_error(model.predict(dpred), Y_train)))\n",
    "RMSE_iter_t = np.sqrt(mean_squared_error(model.predict(dpred), Y_train))\n",
    "\n",
    "# predict RMSE of model on test data\n",
    "GBDT_test_pred = model.predict(xgb.DMatrix(X_test))\n",
    "print(\"RMSE of XGB model on test data: \",\n",
    "      np.sqrt(mean_squared_error(GBDT_test_pred, Y_test)))\n",
    "RMSE_iter_test = np.sqrt(mean_squared_error(GBDT_test_pred, Y_test))\n"
   ]
  },
  {
   "cell_type": "markdown",
   "metadata": {},
   "source": [
    "Root Mean Square Error (RMSE) is the standard deviation of the residuals (prediction errors). Residuals are a measure of how far from the regression line data points are; RMSE is a measure of how spread out these residuals are. In other words, it tells you how concentrated the data is around the line of best fit.\n",
    "https://www.statisticshowto.datasciencecentral.com/rmse/"
   ]
  },
  {
   "cell_type": "code",
   "execution_count": 139,
   "metadata": {},
   "outputs": [
    {
     "data": {
      "image/png": "[encoded data removed]",
      "text/plain": [
       "<Figure size 432x288 with 1 Axes>"
      ]
     },
     "metadata": {},
     "output_type": "display_data"
    }
   ],
   "source": [
    "# plot F-score of each feature using xgboost's .plot_importance() method\n",
    "plt.show(plot_importance(model))"
   ]
  },
  {
   "cell_type": "markdown",
   "metadata": {},
   "source": [
    "F Value in Regression\n",
    "The F value in regression is the result of a test where the null hypothesis is that all of the regression coefficients are equal to zero. In other words, the model has no predictive capability. Basically, the f-test compares your model with zero predictor variables (the intercept only model), and decides whether your added coefficients improved the model. If you get a significant result, then whatever coefficients you included in your model improved the model’s fit.\n",
    "https://www.statisticshowto.datasciencecentral.com/probability-and-statistics/f-statistic-value-test/"
   ]
  },
  {
   "cell_type": "markdown",
   "metadata": {},
   "source": [
    "The F statistic is a ratio of 2 different measure of variance for the data. If the null hypothesis is true then these are both estimates of the same thing and the ratio will be around 1.\n",
    "\n",
    "The numerator is computed by measuring the variance of the means and if the true means of the groups are identical then this is a function of the overall variance of the data. But if the null hypothesis is false and the means are not all equal, then this measure of variance will be larger.\n",
    "\n",
    "The denominator is an average of the sample variances for each group, which is an estimate of the overall population variance (assuming all groups have equal variances).\n",
    "\n",
    "So when the null of all means equal is true then the 2 measures (with some extra terms for degrees of freedom) will be similar and the ratio will be close to 1. If the null is false, then the numerator will be large relative to the denominator and the ratio will be greater than 1."
   ]
  },
  {
   "cell_type": "markdown",
   "metadata": {},
   "source": [
    "### Prepare the hospitaldata_knn.csv Dataset for the Regression Model Run"
   ]
  },
  {
   "cell_type": "code",
   "execution_count": 140,
   "metadata": {},
   "outputs": [
    {
     "name": "stdout",
     "output_type": "stream",
     "text": [
      "<class 'pandas.core.frame.DataFrame'>\n",
      "RangeIndex: 3529 entries, 0 to 3528\n",
      "Data columns (total 40 columns):\n",
      "Unnamed: 0                      3529 non-null int64\n",
      "Unnamed: 0.1                    3529 non-null int64\n",
      "Provider ID                     3529 non-null object\n",
      "Hospital Name                   3529 non-null object\n",
      "Address                         3529 non-null object\n",
      "City                            3529 non-null object\n",
      "State                           3529 non-null object\n",
      "ZIP Code                        3529 non-null float64\n",
      "COMP_HIP_KNEE                   3529 non-null float64\n",
      "MORT_30_AMI                     3529 non-null float64\n",
      "MORT_30_CABG                    3529 non-null float64\n",
      "MORT_30_COPD                    3529 non-null float64\n",
      "MORT_30_HF                      3529 non-null float64\n",
      "MORT_30_PN                      3529 non-null float64\n",
      "MORT_30_STK                     3529 non-null float64\n",
      "PSI_10_POST_KIDNEY              3529 non-null float64\n",
      "PSI_11_POST_RESP                3529 non-null float64\n",
      "PSI_12_POSTOP_PULMEMB_DVT       3529 non-null float64\n",
      "PSI_13_POST_SEPSIS              3529 non-null float64\n",
      "PSI_14_POSTOP_DEHIS             3529 non-null float64\n",
      "PSI_15_ACC_LAC                  3529 non-null float64\n",
      "PSI_3_ULCER                     3529 non-null float64\n",
      "PSI_4_SURG_COMP                 3529 non-null float64\n",
      "PSI_6_IAT_PTX                   3529 non-null float64\n",
      "PSI_8_POST_HIP                  3529 non-null float64\n",
      "PSI_90_SAFETY                   3529 non-null float64\n",
      "PSI_9_POST_HEM                  3529 non-null float64\n",
      "H_CLEAN_LINEAR_SCORE            3529 non-null float64\n",
      "H_COMP_1_LINEAR_SCORE           3529 non-null float64\n",
      "H_COMP_2_LINEAR_SCORE           3529 non-null float64\n",
      "H_COMP_3_LINEAR_SCORE           3529 non-null float64\n",
      "H_COMP_5_LINEAR_SCORE           3529 non-null float64\n",
      "H_COMP_6_LINEAR_SCORE           3529 non-null float64\n",
      "H_COMP_7_LINEAR_SCORE           3529 non-null float64\n",
      "H_HSP_RATING_LINEAR_SCORE       3529 non-null float64\n",
      "H_QUIET_LINEAR_SCORE            3529 non-null float64\n",
      "H_RECMND_LINEAR_SCORE           3529 non-null float64\n",
      "Number of Completed Surveys     3529 non-null float64\n",
      "Survey Response Rate Percent    3529 non-null float64\n",
      "STAR_RATING                     3529 non-null float64\n",
      "dtypes: float64(33), int64(2), object(5)\n",
      "memory usage: 1.1+ MB\n"
     ]
    }
   ],
   "source": [
    "# Explore the KNN dataset\n",
    "hd_KMeans.info()"
   ]
  },
  {
   "cell_type": "code",
   "execution_count": 141,
   "metadata": {},
   "outputs": [],
   "source": [
    "# Drop columns flagged based on the Group Features Engineering strategy\n",
    "hd_KMeans.drop(['STAR_RATING', 'Survey Response Rate Percent', 'Number of Completed Surveys', 'Unnamed: 0', 'Unnamed: 0.1', 'Provider ID', 'Hospital Name', 'Address', 'City', 'State', 'ZIP Code' ], axis=1, inplace=True)"
   ]
  },
  {
   "cell_type": "code",
   "execution_count": 142,
   "metadata": {},
   "outputs": [
    {
     "name": "stdout",
     "output_type": "stream",
     "text": [
      "<class 'pandas.core.frame.DataFrame'>\n",
      "RangeIndex: 3529 entries, 0 to 3528\n",
      "Data columns (total 29 columns):\n",
      "COMP_HIP_KNEE                3529 non-null float64\n",
      "MORT_30_AMI                  3529 non-null float64\n",
      "MORT_30_CABG                 3529 non-null float64\n",
      "MORT_30_COPD                 3529 non-null float64\n",
      "MORT_30_HF                   3529 non-null float64\n",
      "MORT_30_PN                   3529 non-null float64\n",
      "MORT_30_STK                  3529 non-null float64\n",
      "PSI_10_POST_KIDNEY           3529 non-null float64\n",
      "PSI_11_POST_RESP             3529 non-null float64\n",
      "PSI_12_POSTOP_PULMEMB_DVT    3529 non-null float64\n",
      "PSI_13_POST_SEPSIS           3529 non-null float64\n",
      "PSI_14_POSTOP_DEHIS          3529 non-null float64\n",
      "PSI_15_ACC_LAC               3529 non-null float64\n",
      "PSI_3_ULCER                  3529 non-null float64\n",
      "PSI_4_SURG_COMP              3529 non-null float64\n",
      "PSI_6_IAT_PTX                3529 non-null float64\n",
      "PSI_8_POST_HIP               3529 non-null float64\n",
      "PSI_90_SAFETY                3529 non-null float64\n",
      "PSI_9_POST_HEM               3529 non-null float64\n",
      "H_CLEAN_LINEAR_SCORE         3529 non-null float64\n",
      "H_COMP_1_LINEAR_SCORE        3529 non-null float64\n",
      "H_COMP_2_LINEAR_SCORE        3529 non-null float64\n",
      "H_COMP_3_LINEAR_SCORE        3529 non-null float64\n",
      "H_COMP_5_LINEAR_SCORE        3529 non-null float64\n",
      "H_COMP_6_LINEAR_SCORE        3529 non-null float64\n",
      "H_COMP_7_LINEAR_SCORE        3529 non-null float64\n",
      "H_HSP_RATING_LINEAR_SCORE    3529 non-null float64\n",
      "H_QUIET_LINEAR_SCORE         3529 non-null float64\n",
      "H_RECMND_LINEAR_SCORE        3529 non-null float64\n",
      "dtypes: float64(29)\n",
      "memory usage: 799.6 KB\n"
     ]
    }
   ],
   "source": [
    "# Explore the KNN dataset\n",
    "hd_KMeans.info()"
   ]
  },
  {
   "cell_type": "code",
   "execution_count": 143,
   "metadata": {},
   "outputs": [],
   "source": [
    "#split dataset in features and target variable\n",
    "X_k = hd_KMeans[feature_cols] # Features\n",
    "Y_k = hd_KMeans.H_RECMND_LINEAR_SCORE # Target variable"
   ]
  },
  {
   "cell_type": "code",
   "execution_count": 144,
   "metadata": {},
   "outputs": [],
   "source": [
    "# split X and Y into training and testing sets\n",
    "import warnings\n",
    "warnings.filterwarnings('ignore')\n",
    "from sklearn.model_selection import train_test_split\n",
    "X_train, X_test, Y_train, Y_test = train_test_split(X_k,Y_k,test_size=0.33, random_state=42)"
   ]
  },
  {
   "cell_type": "code",
   "execution_count": 145,
   "metadata": {},
   "outputs": [
    {
     "data": {
      "text/html": [
       "<div>\n",
       "<style scoped>\n",
       "    .dataframe tbody tr th:only-of-type {\n",
       "        vertical-align: middle;\n",
       "    }\n",
       "\n",
       "    .dataframe tbody tr th {\n",
       "        vertical-align: top;\n",
       "    }\n",
       "\n",
       "    .dataframe thead th {\n",
       "        text-align: right;\n",
       "    }\n",
       "</style>\n",
       "<table border=\"1\" class=\"dataframe\">\n",
       "  <thead>\n",
       "    <tr style=\"text-align: right;\">\n",
       "      <th></th>\n",
       "      <th>COMP_HIP_KNEE</th>\n",
       "      <th>MORT_30_AMI</th>\n",
       "      <th>MORT_30_CABG</th>\n",
       "      <th>MORT_30_COPD</th>\n",
       "      <th>MORT_30_HF</th>\n",
       "      <th>MORT_30_PN</th>\n",
       "      <th>MORT_30_STK</th>\n",
       "      <th>PSI_10_POST_KIDNEY</th>\n",
       "      <th>PSI_11_POST_RESP</th>\n",
       "      <th>PSI_12_POSTOP_PULMEMB_DVT</th>\n",
       "      <th>...</th>\n",
       "      <th>PSI_90_SAFETY</th>\n",
       "      <th>H_CLEAN_LINEAR_SCORE</th>\n",
       "      <th>H_COMP_1_LINEAR_SCORE</th>\n",
       "      <th>H_COMP_2_LINEAR_SCORE</th>\n",
       "      <th>H_COMP_3_LINEAR_SCORE</th>\n",
       "      <th>H_COMP_5_LINEAR_SCORE</th>\n",
       "      <th>H_COMP_6_LINEAR_SCORE</th>\n",
       "      <th>H_COMP_7_LINEAR_SCORE</th>\n",
       "      <th>H_HSP_RATING_LINEAR_SCORE</th>\n",
       "      <th>H_QUIET_LINEAR_SCORE</th>\n",
       "    </tr>\n",
       "  </thead>\n",
       "  <tbody>\n",
       "    <tr>\n",
       "      <th>2499</th>\n",
       "      <td>2.8</td>\n",
       "      <td>13.1</td>\n",
       "      <td>3.2</td>\n",
       "      <td>8.8</td>\n",
       "      <td>13.9</td>\n",
       "      <td>14.0</td>\n",
       "      <td>13.0</td>\n",
       "      <td>1.64</td>\n",
       "      <td>8.29</td>\n",
       "      <td>4.66</td>\n",
       "      <td>...</td>\n",
       "      <td>1.02</td>\n",
       "      <td>87.0</td>\n",
       "      <td>92.0</td>\n",
       "      <td>93.0</td>\n",
       "      <td>85.0</td>\n",
       "      <td>76.0</td>\n",
       "      <td>87.0</td>\n",
       "      <td>83.0</td>\n",
       "      <td>91.0</td>\n",
       "      <td>86.0</td>\n",
       "    </tr>\n",
       "    <tr>\n",
       "      <th>2357</th>\n",
       "      <td>2.7</td>\n",
       "      <td>13.6</td>\n",
       "      <td>3.6</td>\n",
       "      <td>9.4</td>\n",
       "      <td>12.2</td>\n",
       "      <td>14.6</td>\n",
       "      <td>12.9</td>\n",
       "      <td>1.21</td>\n",
       "      <td>10.32</td>\n",
       "      <td>4.34</td>\n",
       "      <td>...</td>\n",
       "      <td>1.12</td>\n",
       "      <td>80.0</td>\n",
       "      <td>90.0</td>\n",
       "      <td>91.0</td>\n",
       "      <td>81.0</td>\n",
       "      <td>74.0</td>\n",
       "      <td>87.0</td>\n",
       "      <td>80.0</td>\n",
       "      <td>86.0</td>\n",
       "      <td>74.0</td>\n",
       "    </tr>\n",
       "  </tbody>\n",
       "</table>\n",
       "<p>2 rows × 27 columns</p>\n",
       "</div>"
      ],
      "text/plain": [
       "      COMP_HIP_KNEE  MORT_30_AMI  MORT_30_CABG  MORT_30_COPD  MORT_30_HF  \\\n",
       "2499            2.8         13.1           3.2           8.8        13.9   \n",
       "2357            2.7         13.6           3.6           9.4        12.2   \n",
       "\n",
       "      MORT_30_PN  MORT_30_STK  PSI_10_POST_KIDNEY  PSI_11_POST_RESP  \\\n",
       "2499        14.0         13.0                1.64              8.29   \n",
       "2357        14.6         12.9                1.21             10.32   \n",
       "\n",
       "      PSI_12_POSTOP_PULMEMB_DVT  ...  PSI_90_SAFETY  H_CLEAN_LINEAR_SCORE  \\\n",
       "2499                       4.66  ...           1.02                  87.0   \n",
       "2357                       4.34  ...           1.12                  80.0   \n",
       "\n",
       "      H_COMP_1_LINEAR_SCORE  H_COMP_2_LINEAR_SCORE  H_COMP_3_LINEAR_SCORE  \\\n",
       "2499                   92.0                   93.0                   85.0   \n",
       "2357                   90.0                   91.0                   81.0   \n",
       "\n",
       "      H_COMP_5_LINEAR_SCORE  H_COMP_6_LINEAR_SCORE  H_COMP_7_LINEAR_SCORE  \\\n",
       "2499                   76.0                   87.0                   83.0   \n",
       "2357                   74.0                   87.0                   80.0   \n",
       "\n",
       "      H_HSP_RATING_LINEAR_SCORE  H_QUIET_LINEAR_SCORE  \n",
       "2499                       91.0                  86.0  \n",
       "2357                       86.0                  74.0  \n",
       "\n",
       "[2 rows x 27 columns]"
      ]
     },
     "execution_count": 145,
     "metadata": {},
     "output_type": "execute_result"
    }
   ],
   "source": [
    "X_train.head(2)"
   ]
  },
  {
   "cell_type": "code",
   "execution_count": 146,
   "metadata": {},
   "outputs": [
    {
     "data": {
      "text/plain": [
       "2499    92.0\n",
       "2357    85.0\n",
       "Name: H_RECMND_LINEAR_SCORE, dtype: float64"
      ]
     },
     "execution_count": 146,
     "metadata": {},
     "output_type": "execute_result"
    }
   ],
   "source": [
    "Y_train.head(2)"
   ]
  },
  {
   "cell_type": "markdown",
   "metadata": {},
   "source": [
    "### Run XGBoost on the hospitaldata_knn Dataset"
   ]
  },
  {
   "cell_type": "code",
   "execution_count": 147,
   "metadata": {},
   "outputs": [
    {
     "name": "stdout",
     "output_type": "stream",
     "text": [
      "[0]\tTest-rmse:78.995\n",
      "Will train until Test-rmse hasn't improved in 10 rounds.\n",
      "[1]\tTest-rmse:71.111\n",
      "[2]\tTest-rmse:64.014\n",
      "[3]\tTest-rmse:57.6291\n",
      "[4]\tTest-rmse:51.8816\n",
      "[5]\tTest-rmse:46.7042\n",
      "[6]\tTest-rmse:42.0455\n",
      "[7]\tTest-rmse:37.8542\n",
      "[8]\tTest-rmse:34.0823\n",
      "[9]\tTest-rmse:30.6833\n",
      "[10]\tTest-rmse:27.6284\n",
      "[11]\tTest-rmse:24.8799\n",
      "[12]\tTest-rmse:22.407\n",
      "[13]\tTest-rmse:20.1804\n",
      "[14]\tTest-rmse:18.1772\n",
      "[15]\tTest-rmse:16.3744\n",
      "[16]\tTest-rmse:14.7527\n",
      "[17]\tTest-rmse:13.2952\n",
      "[18]\tTest-rmse:11.9844\n",
      "[19]\tTest-rmse:10.8055\n",
      "[20]\tTest-rmse:9.74798\n",
      "[21]\tTest-rmse:8.79561\n",
      "[22]\tTest-rmse:7.94182\n",
      "[23]\tTest-rmse:7.17118\n",
      "[24]\tTest-rmse:6.48391\n",
      "[25]\tTest-rmse:5.86907\n",
      "[26]\tTest-rmse:5.31781\n",
      "[27]\tTest-rmse:4.82748\n",
      "[28]\tTest-rmse:4.39016\n",
      "[29]\tTest-rmse:3.99836\n",
      "[30]\tTest-rmse:3.65117\n",
      "[31]\tTest-rmse:3.3451\n",
      "[32]\tTest-rmse:3.07196\n",
      "[33]\tTest-rmse:2.83048\n",
      "[34]\tTest-rmse:2.61553\n",
      "[35]\tTest-rmse:2.42884\n",
      "[36]\tTest-rmse:2.26754\n",
      "[37]\tTest-rmse:2.1263\n",
      "[38]\tTest-rmse:2.00295\n",
      "[39]\tTest-rmse:1.89879\n",
      "[40]\tTest-rmse:1.80834\n",
      "[41]\tTest-rmse:1.7316\n",
      "[42]\tTest-rmse:1.66885\n",
      "[43]\tTest-rmse:1.61444\n",
      "[44]\tTest-rmse:1.56724\n",
      "[45]\tTest-rmse:1.52876\n",
      "[46]\tTest-rmse:1.49782\n",
      "[47]\tTest-rmse:1.47007\n",
      "[48]\tTest-rmse:1.44644\n",
      "[49]\tTest-rmse:1.4296\n",
      "[50]\tTest-rmse:1.41421\n",
      "[51]\tTest-rmse:1.40227\n",
      "[52]\tTest-rmse:1.39365\n",
      "[53]\tTest-rmse:1.38565\n",
      "[54]\tTest-rmse:1.37814\n",
      "[55]\tTest-rmse:1.3722\n",
      "[56]\tTest-rmse:1.36755\n",
      "[57]\tTest-rmse:1.36256\n",
      "[58]\tTest-rmse:1.35822\n",
      "[59]\tTest-rmse:1.35543\n",
      "[60]\tTest-rmse:1.35375\n",
      "[61]\tTest-rmse:1.35241\n",
      "[62]\tTest-rmse:1.35013\n",
      "[63]\tTest-rmse:1.34886\n",
      "[64]\tTest-rmse:1.34836\n",
      "[65]\tTest-rmse:1.34729\n",
      "[66]\tTest-rmse:1.3466\n",
      "[67]\tTest-rmse:1.34674\n",
      "[68]\tTest-rmse:1.3454\n",
      "[69]\tTest-rmse:1.3457\n",
      "[70]\tTest-rmse:1.34584\n",
      "[71]\tTest-rmse:1.34689\n",
      "[72]\tTest-rmse:1.34601\n",
      "[73]\tTest-rmse:1.34648\n",
      "[74]\tTest-rmse:1.34654\n",
      "[75]\tTest-rmse:1.34743\n",
      "[76]\tTest-rmse:1.34741\n",
      "[77]\tTest-rmse:1.34706\n",
      "[78]\tTest-rmse:1.34711\n",
      "Stopping. Best iteration:\n",
      "[68]\tTest-rmse:1.3454\n",
      "\n",
      "Model's best RMSE on test set:  1.345396\n",
      "Model's best iteration:  69\n"
     ]
    }
   ],
   "source": [
    "# xgb models only accept 'DMatrix' input; convert the data here\n",
    "dtrain = xgb.DMatrix(X_train, label=Y_train)\n",
    "dtest = xgb.DMatrix(X_test, label=Y_test)\n",
    "\n",
    "# parameter grid for xgb model\n",
    "param_dict = {\n",
    "    # Parameters that we are going to tune. See discussion below for explanation of \n",
    "    # parameters and tuning\n",
    "    'max_depth':6, \n",
    "    'min_child_weight': 1,\n",
    "    'eta':.1,\n",
    "    'subsample': 1,\n",
    "    'colsample_bytree': 1,\n",
    "    # Other parameters\n",
    "    'objective':'reg:linear',\n",
    "    'eval_metric':'rmse'\n",
    "}\n",
    "\n",
    "# train XGB model on split training data using split test data\n",
    "num_boost_round=999\n",
    "model = xgb.train(\n",
    "    param_dict,\n",
    "    dtrain,\n",
    "    num_boost_round=num_boost_round,\n",
    "    evals=[(dtest, \"Test\")],\n",
    "    early_stopping_rounds=10\n",
    ")\n",
    "\n",
    "print(\"Model's best RMSE on test set: \", model.best_score)\n",
    "print(\"Model's best iteration: \", model.best_iteration+1)"
   ]
  },
  {
   "cell_type": "code",
   "execution_count": 148,
   "metadata": {},
   "outputs": [
    {
     "name": "stdout",
     "output_type": "stream",
     "text": [
      "RMSE of XGB model on training data:  0.8589708529100836\n",
      "RMSE of XGB model on test data:  1.3471061889410627\n"
     ]
    }
   ],
   "source": [
    "from sklearn.metrics import mean_squared_error\n",
    "from math import sqrt\n",
    "# convert training data to DMatrix object\n",
    "dpred=xgb.DMatrix(X_train)\n",
    "\n",
    "# predict RMSE of Gradient Boosted Decision Tree model on training data\n",
    "print(\"RMSE of XGB model on training data: \",\n",
    "      np.sqrt(mean_squared_error(model.predict(dpred), Y_train)))\n",
    "RMSE_knn_t = np.sqrt(mean_squared_error(model.predict(dpred), Y_train))\n",
    "\n",
    "# predict RMSE of model on test data\n",
    "GBDT_test_pred = model.predict(xgb.DMatrix(X_test))\n",
    "print(\"RMSE of XGB model on test data: \",\n",
    "      np.sqrt(mean_squared_error(GBDT_test_pred, Y_test)))\n",
    "RMSE_knn_test = np.sqrt(mean_squared_error(GBDT_test_pred, Y_test))"
   ]
  },
  {
   "cell_type": "code",
   "execution_count": 149,
   "metadata": {},
   "outputs": [
    {
     "data": {
      "image/png": "[encoded data removed]",
      "text/plain": [
       "<Figure size 432x288 with 1 Axes>"
      ]
     },
     "metadata": {},
     "output_type": "display_data"
    }
   ],
   "source": [
    "# plot F-score of each feature using xgboost's .plot_importance() method\n",
    "plt.show(plot_importance(model))"
   ]
  },
  {
   "cell_type": "markdown",
   "metadata": {},
   "source": [
    "### Prepare the hospitaldata_mean.csv Dataset for the Regression Model Run"
   ]
  },
  {
   "cell_type": "code",
   "execution_count": 150,
   "metadata": {},
   "outputs": [
    {
     "name": "stdout",
     "output_type": "stream",
     "text": [
      "<class 'pandas.core.frame.DataFrame'>\n",
      "RangeIndex: 3529 entries, 0 to 3528\n",
      "Data columns (total 40 columns):\n",
      "Unnamed: 0                      3529 non-null int64\n",
      "Unnamed: 0.1                    3529 non-null int64\n",
      "Provider ID                     3529 non-null object\n",
      "COMP_HIP_KNEE                   3529 non-null float64\n",
      "MORT_30_AMI                     3529 non-null float64\n",
      "MORT_30_CABG                    3529 non-null float64\n",
      "MORT_30_COPD                    3529 non-null float64\n",
      "MORT_30_HF                      3529 non-null float64\n",
      "MORT_30_PN                      3529 non-null float64\n",
      "MORT_30_STK                     3529 non-null float64\n",
      "PSI_10_POST_KIDNEY              3529 non-null float64\n",
      "PSI_11_POST_RESP                3529 non-null float64\n",
      "PSI_12_POSTOP_PULMEMB_DVT       3529 non-null float64\n",
      "PSI_13_POST_SEPSIS              3529 non-null float64\n",
      "PSI_14_POSTOP_DEHIS             3529 non-null float64\n",
      "PSI_15_ACC_LAC                  3529 non-null float64\n",
      "PSI_3_ULCER                     3529 non-null float64\n",
      "PSI_4_SURG_COMP                 3529 non-null float64\n",
      "PSI_6_IAT_PTX                   3529 non-null float64\n",
      "PSI_8_POST_HIP                  3529 non-null float64\n",
      "PSI_90_SAFETY                   3529 non-null float64\n",
      "PSI_9_POST_HEM                  3529 non-null float64\n",
      "H_CLEAN_LINEAR_SCORE            3529 non-null int64\n",
      "H_COMP_1_LINEAR_SCORE           3529 non-null int64\n",
      "H_COMP_2_LINEAR_SCORE           3529 non-null int64\n",
      "H_COMP_3_LINEAR_SCORE           3529 non-null int64\n",
      "H_COMP_5_LINEAR_SCORE           3529 non-null int64\n",
      "H_COMP_6_LINEAR_SCORE           3529 non-null int64\n",
      "H_COMP_7_LINEAR_SCORE           3529 non-null int64\n",
      "H_HSP_RATING_LINEAR_SCORE       3529 non-null int64\n",
      "H_QUIET_LINEAR_SCORE            3529 non-null int64\n",
      "H_RECMND_LINEAR_SCORE           3529 non-null int64\n",
      "Hospital Name                   3529 non-null object\n",
      "Address                         3529 non-null object\n",
      "City                            3529 non-null object\n",
      "State                           3529 non-null object\n",
      "ZIP Code                        3529 non-null int64\n",
      "Number of Completed Surveys     3529 non-null int64\n",
      "Survey Response Rate Percent    3529 non-null int64\n",
      "STAR_RATING                     3529 non-null int64\n",
      "dtypes: float64(19), int64(16), object(5)\n",
      "memory usage: 1.1+ MB\n"
     ]
    }
   ],
   "source": [
    "# Explore the Means dataset\n",
    "hd_means.info()"
   ]
  },
  {
   "cell_type": "code",
   "execution_count": 151,
   "metadata": {},
   "outputs": [],
   "source": [
    "# Drop columns flagged based on the Group Features Engineering strategy\n",
    "hd_means.drop(['STAR_RATING', 'Survey Response Rate Percent', 'Number of Completed Surveys', 'Unnamed: 0', 'Unnamed: 0.1', 'Provider ID', 'Hospital Name', 'Address', 'City', 'State', 'ZIP Code' ], axis=1, inplace=True)"
   ]
  },
  {
   "cell_type": "code",
   "execution_count": 152,
   "metadata": {},
   "outputs": [
    {
     "name": "stdout",
     "output_type": "stream",
     "text": [
      "<class 'pandas.core.frame.DataFrame'>\n",
      "RangeIndex: 3529 entries, 0 to 3528\n",
      "Data columns (total 29 columns):\n",
      "COMP_HIP_KNEE                3529 non-null float64\n",
      "MORT_30_AMI                  3529 non-null float64\n",
      "MORT_30_CABG                 3529 non-null float64\n",
      "MORT_30_COPD                 3529 non-null float64\n",
      "MORT_30_HF                   3529 non-null float64\n",
      "MORT_30_PN                   3529 non-null float64\n",
      "MORT_30_STK                  3529 non-null float64\n",
      "PSI_10_POST_KIDNEY           3529 non-null float64\n",
      "PSI_11_POST_RESP             3529 non-null float64\n",
      "PSI_12_POSTOP_PULMEMB_DVT    3529 non-null float64\n",
      "PSI_13_POST_SEPSIS           3529 non-null float64\n",
      "PSI_14_POSTOP_DEHIS          3529 non-null float64\n",
      "PSI_15_ACC_LAC               3529 non-null float64\n",
      "PSI_3_ULCER                  3529 non-null float64\n",
      "PSI_4_SURG_COMP              3529 non-null float64\n",
      "PSI_6_IAT_PTX                3529 non-null float64\n",
      "PSI_8_POST_HIP               3529 non-null float64\n",
      "PSI_90_SAFETY                3529 non-null float64\n",
      "PSI_9_POST_HEM               3529 non-null float64\n",
      "H_CLEAN_LINEAR_SCORE         3529 non-null int64\n",
      "H_COMP_1_LINEAR_SCORE        3529 non-null int64\n",
      "H_COMP_2_LINEAR_SCORE        3529 non-null int64\n",
      "H_COMP_3_LINEAR_SCORE        3529 non-null int64\n",
      "H_COMP_5_LINEAR_SCORE        3529 non-null int64\n",
      "H_COMP_6_LINEAR_SCORE        3529 non-null int64\n",
      "H_COMP_7_LINEAR_SCORE        3529 non-null int64\n",
      "H_HSP_RATING_LINEAR_SCORE    3529 non-null int64\n",
      "H_QUIET_LINEAR_SCORE         3529 non-null int64\n",
      "H_RECMND_LINEAR_SCORE        3529 non-null int64\n",
      "dtypes: float64(19), int64(10)\n",
      "memory usage: 799.6 KB\n"
     ]
    }
   ],
   "source": [
    "# Explore the Means dataset\n",
    "hd_means.info()"
   ]
  },
  {
   "cell_type": "code",
   "execution_count": 153,
   "metadata": {},
   "outputs": [],
   "source": [
    "#split dataset in features and target variable\n",
    "X_m = hd_means[feature_cols] # Features\n",
    "Y_m = hd_means.H_RECMND_LINEAR_SCORE # Target variable"
   ]
  },
  {
   "cell_type": "code",
   "execution_count": 154,
   "metadata": {},
   "outputs": [],
   "source": [
    "# split X and Y into training and testing sets\n",
    "import warnings\n",
    "warnings.filterwarnings('ignore')\n",
    "from sklearn.model_selection import train_test_split\n",
    "X_train, X_test, Y_train, Y_test = train_test_split(X_m,Y_m,test_size=0.33, random_state=42)"
   ]
  },
  {
   "cell_type": "markdown",
   "metadata": {},
   "source": [
    "### Run XGBoost on the hospitaldata_mean Dataset"
   ]
  },
  {
   "cell_type": "code",
   "execution_count": 155,
   "metadata": {},
   "outputs": [
    {
     "name": "stdout",
     "output_type": "stream",
     "text": [
      "[0]\tTest-rmse:78.995\n",
      "Will train until Test-rmse hasn't improved in 10 rounds.\n",
      "[1]\tTest-rmse:71.111\n",
      "[2]\tTest-rmse:64.014\n",
      "[3]\tTest-rmse:57.6291\n",
      "[4]\tTest-rmse:51.8816\n",
      "[5]\tTest-rmse:46.7042\n",
      "[6]\tTest-rmse:42.0455\n",
      "[7]\tTest-rmse:37.8542\n",
      "[8]\tTest-rmse:34.0823\n",
      "[9]\tTest-rmse:30.6833\n",
      "[10]\tTest-rmse:27.6284\n",
      "[11]\tTest-rmse:24.8799\n",
      "[12]\tTest-rmse:22.407\n",
      "[13]\tTest-rmse:20.1804\n",
      "[14]\tTest-rmse:18.1772\n",
      "[15]\tTest-rmse:16.3744\n",
      "[16]\tTest-rmse:14.7527\n",
      "[17]\tTest-rmse:13.2952\n",
      "[18]\tTest-rmse:11.9844\n",
      "[19]\tTest-rmse:10.8067\n",
      "[20]\tTest-rmse:9.74805\n",
      "[21]\tTest-rmse:8.79706\n",
      "[22]\tTest-rmse:7.94277\n",
      "[23]\tTest-rmse:7.17638\n",
      "[24]\tTest-rmse:6.48802\n",
      "[25]\tTest-rmse:5.87411\n",
      "[26]\tTest-rmse:5.32474\n",
      "[27]\tTest-rmse:4.83129\n",
      "[28]\tTest-rmse:4.39277\n",
      "[29]\tTest-rmse:3.99906\n",
      "[30]\tTest-rmse:3.65018\n",
      "[31]\tTest-rmse:3.34053\n",
      "[32]\tTest-rmse:3.06744\n",
      "[33]\tTest-rmse:2.82485\n",
      "[34]\tTest-rmse:2.61304\n",
      "[35]\tTest-rmse:2.42526\n",
      "[36]\tTest-rmse:2.2619\n",
      "[37]\tTest-rmse:2.1218\n",
      "[38]\tTest-rmse:1.9979\n",
      "[39]\tTest-rmse:1.89335\n",
      "[40]\tTest-rmse:1.80377\n",
      "[41]\tTest-rmse:1.72852\n",
      "[42]\tTest-rmse:1.66363\n",
      "[43]\tTest-rmse:1.60717\n",
      "[44]\tTest-rmse:1.56063\n",
      "[45]\tTest-rmse:1.52332\n",
      "[46]\tTest-rmse:1.49143\n",
      "[47]\tTest-rmse:1.46387\n",
      "[48]\tTest-rmse:1.44267\n",
      "[49]\tTest-rmse:1.42381\n",
      "[50]\tTest-rmse:1.40831\n",
      "[51]\tTest-rmse:1.39411\n",
      "[52]\tTest-rmse:1.38454\n",
      "[53]\tTest-rmse:1.37351\n",
      "[54]\tTest-rmse:1.36589\n",
      "[55]\tTest-rmse:1.36068\n",
      "[56]\tTest-rmse:1.35651\n",
      "[57]\tTest-rmse:1.35253\n",
      "[58]\tTest-rmse:1.34987\n",
      "[59]\tTest-rmse:1.34595\n",
      "[60]\tTest-rmse:1.34444\n",
      "[61]\tTest-rmse:1.34264\n",
      "[62]\tTest-rmse:1.34152\n",
      "[63]\tTest-rmse:1.34121\n",
      "[64]\tTest-rmse:1.34003\n",
      "[65]\tTest-rmse:1.34064\n",
      "[66]\tTest-rmse:1.33948\n",
      "[67]\tTest-rmse:1.33912\n",
      "[68]\tTest-rmse:1.33948\n",
      "[69]\tTest-rmse:1.34007\n",
      "[70]\tTest-rmse:1.34008\n",
      "[71]\tTest-rmse:1.3393\n",
      "[72]\tTest-rmse:1.33881\n",
      "[73]\tTest-rmse:1.33868\n",
      "[74]\tTest-rmse:1.33841\n",
      "[75]\tTest-rmse:1.33889\n",
      "[76]\tTest-rmse:1.33963\n",
      "[77]\tTest-rmse:1.34006\n",
      "[78]\tTest-rmse:1.3403\n",
      "[79]\tTest-rmse:1.34147\n",
      "[80]\tTest-rmse:1.34047\n",
      "[81]\tTest-rmse:1.34103\n",
      "[82]\tTest-rmse:1.34045\n",
      "[83]\tTest-rmse:1.34075\n",
      "[84]\tTest-rmse:1.34071\n",
      "Stopping. Best iteration:\n",
      "[74]\tTest-rmse:1.33841\n",
      "\n",
      "Model's best RMSE on test set:  1.33841\n",
      "Model's best iteration:  75\n"
     ]
    }
   ],
   "source": [
    "# xgb models only accept 'DMatrix' input; convert the data here\n",
    "dtrain = xgb.DMatrix(X_train, label=Y_train)\n",
    "dtest = xgb.DMatrix(X_test, label=Y_test)\n",
    "\n",
    "# parameter grid for xgb model\n",
    "param_dict = {\n",
    "    # Parameters that we are going to tune. See discussion below for explanation of \n",
    "    # parameters and tuning\n",
    "    'max_depth':6, \n",
    "    'min_child_weight': 1,\n",
    "    'eta':.1,\n",
    "    'subsample': 1,\n",
    "    'colsample_bytree': 1,\n",
    "    # Other parameters\n",
    "    'objective':'reg:linear',\n",
    "    'eval_metric':'rmse'\n",
    "}\n",
    "\n",
    "# train XGB model on split training data using split test data\n",
    "num_boost_round=999\n",
    "model = xgb.train(\n",
    "    param_dict,\n",
    "    dtrain,\n",
    "    num_boost_round=num_boost_round,\n",
    "    evals=[(dtest, \"Test\")],\n",
    "    early_stopping_rounds=10\n",
    ")\n",
    "\n",
    "print(\"Model's best RMSE on test set: \", model.best_score)\n",
    "print(\"Model's best iteration: \", model.best_iteration+1)"
   ]
  },
  {
   "cell_type": "code",
   "execution_count": 156,
   "metadata": {},
   "outputs": [
    {
     "name": "stdout",
     "output_type": "stream",
     "text": [
      "RMSE of XGB model on training data:  0.8563673282875041\n",
      "RMSE of XGB model on test data:  1.3407072651250194\n"
     ]
    }
   ],
   "source": [
    "from sklearn.metrics import mean_squared_error\n",
    "from math import sqrt\n",
    "# convert training data to DMatrix object\n",
    "dpred=xgb.DMatrix(X_train)\n",
    "\n",
    "# predict RMSE of Gradient Boosted Decision Tree model on training data\n",
    "print(\"RMSE of XGB model on training data: \",\n",
    "      np.sqrt(mean_squared_error(model.predict(dpred), Y_train)))\n",
    "RMSE_means_t = np.sqrt(mean_squared_error(model.predict(dpred), Y_train))\n",
    "\n",
    "# predict RMSE of model on test data\n",
    "GBDT_test_pred = model.predict(xgb.DMatrix(X_test))\n",
    "print(\"RMSE of XGB model on test data: \",\n",
    "      np.sqrt(mean_squared_error(GBDT_test_pred, Y_test)))\n",
    "RMSE_means_test = np.sqrt(mean_squared_error(GBDT_test_pred, Y_test))"
   ]
  },
  {
   "cell_type": "code",
   "execution_count": 157,
   "metadata": {},
   "outputs": [
    {
     "data": {
      "image/png": "[encoded data removed]",
      "text/plain": [
       "<Figure size 432x288 with 1 Axes>"
      ]
     },
     "metadata": {},
     "output_type": "display_data"
    }
   ],
   "source": [
    "# plot F-score of each feature using xgboost's .plot_importance() method\n",
    "plt.show(plot_importance(model))"
   ]
  },
  {
   "cell_type": "markdown",
   "metadata": {},
   "source": [
    "## Gradient Decent"
   ]
  },
  {
   "cell_type": "markdown",
   "metadata": {},
   "source": [
    "### Prepare the hospitaldata_iterative Dataset for the Classification Model Run"
   ]
  },
  {
   "cell_type": "code",
   "execution_count": 158,
   "metadata": {},
   "outputs": [],
   "source": [
    "#Upload hospitaldata_iterative.csv\n",
    "hd_iter = pd.read_csv('https://raw.githubusercontent.com/maringow/DataMiningGroupProject/master/hospitaldata_iterative.csv')"
   ]
  },
  {
   "cell_type": "code",
   "execution_count": 159,
   "metadata": {},
   "outputs": [
    {
     "name": "stdout",
     "output_type": "stream",
     "text": [
      "<class 'pandas.core.frame.DataFrame'>\n",
      "RangeIndex: 3529 entries, 0 to 3528\n",
      "Data columns (total 40 columns):\n",
      "Unnamed: 0                      3529 non-null int64\n",
      "Unnamed: 0.1                    3529 non-null int64\n",
      "Provider ID                     3529 non-null object\n",
      "Hospital Name                   3529 non-null object\n",
      "Address                         3529 non-null object\n",
      "City                            3529 non-null object\n",
      "State                           3529 non-null object\n",
      "ZIP Code                        3529 non-null float64\n",
      "COMP_HIP_KNEE                   3529 non-null float64\n",
      "MORT_30_AMI                     3529 non-null float64\n",
      "MORT_30_CABG                    3529 non-null float64\n",
      "MORT_30_COPD                    3529 non-null float64\n",
      "MORT_30_HF                      3529 non-null float64\n",
      "MORT_30_PN                      3529 non-null float64\n",
      "MORT_30_STK                     3529 non-null float64\n",
      "PSI_10_POST_KIDNEY              3529 non-null float64\n",
      "PSI_11_POST_RESP                3529 non-null float64\n",
      "PSI_12_POSTOP_PULMEMB_DVT       3529 non-null float64\n",
      "PSI_13_POST_SEPSIS              3529 non-null float64\n",
      "PSI_14_POSTOP_DEHIS             3529 non-null float64\n",
      "PSI_15_ACC_LAC                  3529 non-null float64\n",
      "PSI_3_ULCER                     3529 non-null float64\n",
      "PSI_4_SURG_COMP                 3529 non-null float64\n",
      "PSI_6_IAT_PTX                   3529 non-null float64\n",
      "PSI_8_POST_HIP                  3529 non-null float64\n",
      "PSI_90_SAFETY                   3529 non-null float64\n",
      "PSI_9_POST_HEM                  3529 non-null float64\n",
      "H_CLEAN_LINEAR_SCORE            3529 non-null float64\n",
      "H_COMP_1_LINEAR_SCORE           3529 non-null float64\n",
      "H_COMP_2_LINEAR_SCORE           3529 non-null float64\n",
      "H_COMP_3_LINEAR_SCORE           3529 non-null float64\n",
      "H_COMP_5_LINEAR_SCORE           3529 non-null float64\n",
      "H_COMP_6_LINEAR_SCORE           3529 non-null float64\n",
      "H_COMP_7_LINEAR_SCORE           3529 non-null float64\n",
      "H_HSP_RATING_LINEAR_SCORE       3529 non-null float64\n",
      "H_QUIET_LINEAR_SCORE            3529 non-null float64\n",
      "H_RECMND_LINEAR_SCORE           3529 non-null float64\n",
      "Number of Completed Surveys     3529 non-null float64\n",
      "Survey Response Rate Percent    3529 non-null float64\n",
      "STAR_RATING                     3529 non-null float64\n",
      "dtypes: float64(33), int64(2), object(5)\n",
      "memory usage: 1.1+ MB\n"
     ]
    }
   ],
   "source": [
    "# Explore the Iter dataset\n",
    "hd_iter.info()"
   ]
  },
  {
   "cell_type": "code",
   "execution_count": 160,
   "metadata": {},
   "outputs": [],
   "source": [
    "# Drop columns flagged based on the Group Features Engineering strategy\n",
    "hd_iter.drop(['H_RECMND_LINEAR_SCORE', 'Survey Response Rate Percent', 'Number of Completed Surveys', 'Unnamed: 0', 'Unnamed: 0.1', 'Provider ID', 'Hospital Name', 'Address', 'City', 'State', 'ZIP Code' ], axis=1, inplace=True)"
   ]
  },
  {
   "cell_type": "code",
   "execution_count": 161,
   "metadata": {},
   "outputs": [
    {
     "name": "stdout",
     "output_type": "stream",
     "text": [
      "<class 'pandas.core.frame.DataFrame'>\n",
      "RangeIndex: 3529 entries, 0 to 3528\n",
      "Data columns (total 29 columns):\n",
      "COMP_HIP_KNEE                3529 non-null float64\n",
      "MORT_30_AMI                  3529 non-null float64\n",
      "MORT_30_CABG                 3529 non-null float64\n",
      "MORT_30_COPD                 3529 non-null float64\n",
      "MORT_30_HF                   3529 non-null float64\n",
      "MORT_30_PN                   3529 non-null float64\n",
      "MORT_30_STK                  3529 non-null float64\n",
      "PSI_10_POST_KIDNEY           3529 non-null float64\n",
      "PSI_11_POST_RESP             3529 non-null float64\n",
      "PSI_12_POSTOP_PULMEMB_DVT    3529 non-null float64\n",
      "PSI_13_POST_SEPSIS           3529 non-null float64\n",
      "PSI_14_POSTOP_DEHIS          3529 non-null float64\n",
      "PSI_15_ACC_LAC               3529 non-null float64\n",
      "PSI_3_ULCER                  3529 non-null float64\n",
      "PSI_4_SURG_COMP              3529 non-null float64\n",
      "PSI_6_IAT_PTX                3529 non-null float64\n",
      "PSI_8_POST_HIP               3529 non-null float64\n",
      "PSI_90_SAFETY                3529 non-null float64\n",
      "PSI_9_POST_HEM               3529 non-null float64\n",
      "H_CLEAN_LINEAR_SCORE         3529 non-null float64\n",
      "H_COMP_1_LINEAR_SCORE        3529 non-null float64\n",
      "H_COMP_2_LINEAR_SCORE        3529 non-null float64\n",
      "H_COMP_3_LINEAR_SCORE        3529 non-null float64\n",
      "H_COMP_5_LINEAR_SCORE        3529 non-null float64\n",
      "H_COMP_6_LINEAR_SCORE        3529 non-null float64\n",
      "H_COMP_7_LINEAR_SCORE        3529 non-null float64\n",
      "H_HSP_RATING_LINEAR_SCORE    3529 non-null float64\n",
      "H_QUIET_LINEAR_SCORE         3529 non-null float64\n",
      "STAR_RATING                  3529 non-null float64\n",
      "dtypes: float64(29)\n",
      "memory usage: 799.6 KB\n"
     ]
    }
   ],
   "source": [
    "# Explore the Iter dataset\n",
    "hd_iter.info()"
   ]
  },
  {
   "cell_type": "code",
   "execution_count": 162,
   "metadata": {},
   "outputs": [],
   "source": [
    "#split dataset in features and target variable\n",
    "X_ig = hd_iter[feature_cols] # Features\n",
    "Y_ig = hd_iter.STAR_RATING # Target variable"
   ]
  },
  {
   "cell_type": "markdown",
   "metadata": {},
   "source": [
    "### Run Gradient Boosted on the hospitaldata_iterative Dataset"
   ]
  },
  {
   "cell_type": "code",
   "execution_count": 163,
   "metadata": {},
   "outputs": [],
   "source": [
    "# Fit the Gradient Boosted Model\n",
    "from sklearn.ensemble import GradientBoostingClassifier\n",
    "X_train, X_test, Y_train, Y_test = train_test_split(\n",
    "    X_ig, Y_ig, random_state=0)\n",
    "\n",
    "gbrt = GradientBoostingClassifier(random_state=0)\n",
    "gbrt.fit(X_train, Y_train)\n",
    "gbrt.score(X_train, Y_train)\n",
    "acc_gbrt = round(gbrt.score(X_train, Y_train) * 100, 2)"
   ]
  },
  {
   "cell_type": "code",
   "execution_count": 164,
   "metadata": {},
   "outputs": [
    {
     "name": "stdout",
     "output_type": "stream",
     "text": [
      "Accuracy on training set: 0.926\n",
      "Accuracy on test set: 0.818\n"
     ]
    }
   ],
   "source": [
    "# Check the Gradient Boosted Accuracy against the test dataset\n",
    "print(\"Accuracy on training set: {:.3f}\".format(gbrt.score(X_train, Y_train)))\n",
    "acc_train_iter = gbrt.score(X_train, Y_train)\n",
    "print(\"Accuracy on test set: {:.3f}\".format(gbrt.score(X_test, Y_test)))\n",
    "acc_test_iter = gbrt.score(X_test, Y_test)"
   ]
  },
  {
   "cell_type": "code",
   "execution_count": 165,
   "metadata": {},
   "outputs": [
    {
     "data": {
      "image/png": "[encoded data removed]",
      "text/plain": [
       "<Figure size 432x288 with 1 Axes>"
      ]
     },
     "metadata": {},
     "output_type": "display_data"
    }
   ],
   "source": [
    "# Check the importance of the features\n",
    "import pandas as pd\n",
    "import matplotlib.pyplot as plt\n",
    "# Create a pd.Series of features importances\n",
    "importances_gbrt = pd.Series(gbrt.feature_importances_,\n",
    "index = X.columns)\n",
    "# Sort importances_fgbrt\n",
    "sorted_importances_gbrt = importances_gbrt.sort_values()\n",
    "# Make a horizontal bar plot\n",
    "sorted_importances_gbrt.plot(kind='barh', color='blue')\n",
    "plt.show()"
   ]
  },
  {
   "cell_type": "code",
   "execution_count": 166,
   "metadata": {},
   "outputs": [
    {
     "data": {
      "text/plain": [
       "array([[ 39,  12,   0,   0,   0],\n",
       "       [  3, 135,  44,   0,   0],\n",
       "       [  0,  20, 326,  25,   0],\n",
       "       [  0,   0,  43, 191,   2],\n",
       "       [  0,   0,   0,  12,  31]])"
      ]
     },
     "execution_count": 166,
     "metadata": {},
     "output_type": "execute_result"
    }
   ],
   "source": [
    "# import the metrics class to compute the confusion matrix\n",
    "from sklearn import metrics\n",
    "Y_pred=gbrt.predict(X_test)\n",
    "cnf_matrix = metrics.confusion_matrix(Y_test, Y_pred)\n",
    "cnf_matrix"
   ]
  },
  {
   "cell_type": "code",
   "execution_count": 167,
   "metadata": {},
   "outputs": [
    {
     "data": {
      "text/plain": [
       "Text(0.5, 257.44, 'Predicted label')"
      ]
     },
     "execution_count": 167,
     "metadata": {},
     "output_type": "execute_result"
    },
    {
     "data": {
      "image/png": "[encoded data removed]",
      "text/plain": [
       "<Figure size 432x288 with 2 Axes>"
      ]
     },
     "metadata": {
      "needs_background": "light"
     },
     "output_type": "display_data"
    }
   ],
   "source": [
    "# import required modules\n",
    "import numpy as np\n",
    "import matplotlib.pyplot as plt\n",
    "import seaborn as sns\n",
    "%matplotlib inline\n",
    "\n",
    "# compute the confusion matrix heatmap\n",
    "class_names=[0,1] # name  of classes\n",
    "fig, ax = plt.subplots()\n",
    "tick_marks = np.arange(len(class_names))\n",
    "plt.xticks(tick_marks, class_names)\n",
    "plt.yticks(tick_marks, class_names)\n",
    "# create heatmap\n",
    "sns.heatmap(pd.DataFrame(cnf_matrix), annot=True, cmap=\"YlGnBu\" ,fmt='g')\n",
    "ax.xaxis.set_label_position(\"top\")\n",
    "plt.tight_layout()\n",
    "plt.title('Confusion matrix', y=1.1)\n",
    "plt.ylabel('Actual label')\n",
    "plt.xlabel('Predicted label')"
   ]
  },
  {
   "cell_type": "code",
   "execution_count": 168,
   "metadata": {},
   "outputs": [
    {
     "name": "stdout",
     "output_type": "stream",
     "text": [
      "Scores: [0.78358209 0.75471698 0.77735849 0.7509434  0.75       0.76893939\n",
      " 0.78409091 0.79166667 0.82954545 0.79087452]\n",
      "Mean: 0.778171790643402\n",
      "Standard Deviation: 0.022843147151134006\n"
     ]
    }
   ],
   "source": [
    "# Cross Validation\n",
    "from sklearn.model_selection import cross_val_score\n",
    "gbrt = GradientBoostingClassifier(random_state=0)\n",
    "scores = cross_val_score(gbrt, X_train, Y_train, cv=10, scoring = \"accuracy\")\n",
    "print(\"Scores:\", scores)\n",
    "print(\"Mean:\", scores.mean())\n",
    "print(\"Standard Deviation:\", scores.std())"
   ]
  },
  {
   "cell_type": "markdown",
   "metadata": {},
   "source": [
    "### Prepare the hospitaldata_knn Dataset for the Classification Model Run"
   ]
  },
  {
   "cell_type": "code",
   "execution_count": 169,
   "metadata": {},
   "outputs": [],
   "source": [
    "#Upload hospitaldata_knn.csv\n",
    "hd_KMeans_G = pd.read_csv('https://raw.githubusercontent.com/maringow/DataMiningGroupProject/master/hospitaldata_knn.csv')"
   ]
  },
  {
   "cell_type": "code",
   "execution_count": 170,
   "metadata": {},
   "outputs": [
    {
     "name": "stdout",
     "output_type": "stream",
     "text": [
      "<class 'pandas.core.frame.DataFrame'>\n",
      "RangeIndex: 3529 entries, 0 to 3528\n",
      "Data columns (total 40 columns):\n",
      "Unnamed: 0                      3529 non-null int64\n",
      "Unnamed: 0.1                    3529 non-null int64\n",
      "Provider ID                     3529 non-null object\n",
      "Hospital Name                   3529 non-null object\n",
      "Address                         3529 non-null object\n",
      "City                            3529 non-null object\n",
      "State                           3529 non-null object\n",
      "ZIP Code                        3529 non-null float64\n",
      "COMP_HIP_KNEE                   3529 non-null float64\n",
      "MORT_30_AMI                     3529 non-null float64\n",
      "MORT_30_CABG                    3529 non-null float64\n",
      "MORT_30_COPD                    3529 non-null float64\n",
      "MORT_30_HF                      3529 non-null float64\n",
      "MORT_30_PN                      3529 non-null float64\n",
      "MORT_30_STK                     3529 non-null float64\n",
      "PSI_10_POST_KIDNEY              3529 non-null float64\n",
      "PSI_11_POST_RESP                3529 non-null float64\n",
      "PSI_12_POSTOP_PULMEMB_DVT       3529 non-null float64\n",
      "PSI_13_POST_SEPSIS              3529 non-null float64\n",
      "PSI_14_POSTOP_DEHIS             3529 non-null float64\n",
      "PSI_15_ACC_LAC                  3529 non-null float64\n",
      "PSI_3_ULCER                     3529 non-null float64\n",
      "PSI_4_SURG_COMP                 3529 non-null float64\n",
      "PSI_6_IAT_PTX                   3529 non-null float64\n",
      "PSI_8_POST_HIP                  3529 non-null float64\n",
      "PSI_90_SAFETY                   3529 non-null float64\n",
      "PSI_9_POST_HEM                  3529 non-null float64\n",
      "H_CLEAN_LINEAR_SCORE            3529 non-null float64\n",
      "H_COMP_1_LINEAR_SCORE           3529 non-null float64\n",
      "H_COMP_2_LINEAR_SCORE           3529 non-null float64\n",
      "H_COMP_3_LINEAR_SCORE           3529 non-null float64\n",
      "H_COMP_5_LINEAR_SCORE           3529 non-null float64\n",
      "H_COMP_6_LINEAR_SCORE           3529 non-null float64\n",
      "H_COMP_7_LINEAR_SCORE           3529 non-null float64\n",
      "H_HSP_RATING_LINEAR_SCORE       3529 non-null float64\n",
      "H_QUIET_LINEAR_SCORE            3529 non-null float64\n",
      "H_RECMND_LINEAR_SCORE           3529 non-null float64\n",
      "Number of Completed Surveys     3529 non-null float64\n",
      "Survey Response Rate Percent    3529 non-null float64\n",
      "STAR_RATING                     3529 non-null float64\n",
      "dtypes: float64(33), int64(2), object(5)\n",
      "memory usage: 1.1+ MB\n"
     ]
    }
   ],
   "source": [
    "# Explore the KNN dataset\n",
    "hd_KMeans_G.info()"
   ]
  },
  {
   "cell_type": "code",
   "execution_count": 171,
   "metadata": {},
   "outputs": [],
   "source": [
    "# Drop columns flagged based on the Group Features Engineering strategy\n",
    "hd_KMeans_G.drop(['H_RECMND_LINEAR_SCORE', 'Survey Response Rate Percent', 'Number of Completed Surveys', 'Unnamed: 0', 'Unnamed: 0.1', 'Provider ID', 'Hospital Name', 'Address', 'City', 'State', 'ZIP Code' ], axis=1, inplace=True)"
   ]
  },
  {
   "cell_type": "code",
   "execution_count": 172,
   "metadata": {},
   "outputs": [
    {
     "name": "stdout",
     "output_type": "stream",
     "text": [
      "<class 'pandas.core.frame.DataFrame'>\n",
      "RangeIndex: 3529 entries, 0 to 3528\n",
      "Data columns (total 29 columns):\n",
      "COMP_HIP_KNEE                3529 non-null float64\n",
      "MORT_30_AMI                  3529 non-null float64\n",
      "MORT_30_CABG                 3529 non-null float64\n",
      "MORT_30_COPD                 3529 non-null float64\n",
      "MORT_30_HF                   3529 non-null float64\n",
      "MORT_30_PN                   3529 non-null float64\n",
      "MORT_30_STK                  3529 non-null float64\n",
      "PSI_10_POST_KIDNEY           3529 non-null float64\n",
      "PSI_11_POST_RESP             3529 non-null float64\n",
      "PSI_12_POSTOP_PULMEMB_DVT    3529 non-null float64\n",
      "PSI_13_POST_SEPSIS           3529 non-null float64\n",
      "PSI_14_POSTOP_DEHIS          3529 non-null float64\n",
      "PSI_15_ACC_LAC               3529 non-null float64\n",
      "PSI_3_ULCER                  3529 non-null float64\n",
      "PSI_4_SURG_COMP              3529 non-null float64\n",
      "PSI_6_IAT_PTX                3529 non-null float64\n",
      "PSI_8_POST_HIP               3529 non-null float64\n",
      "PSI_90_SAFETY                3529 non-null float64\n",
      "PSI_9_POST_HEM               3529 non-null float64\n",
      "H_CLEAN_LINEAR_SCORE         3529 non-null float64\n",
      "H_COMP_1_LINEAR_SCORE        3529 non-null float64\n",
      "H_COMP_2_LINEAR_SCORE        3529 non-null float64\n",
      "H_COMP_3_LINEAR_SCORE        3529 non-null float64\n",
      "H_COMP_5_LINEAR_SCORE        3529 non-null float64\n",
      "H_COMP_6_LINEAR_SCORE        3529 non-null float64\n",
      "H_COMP_7_LINEAR_SCORE        3529 non-null float64\n",
      "H_HSP_RATING_LINEAR_SCORE    3529 non-null float64\n",
      "H_QUIET_LINEAR_SCORE         3529 non-null float64\n",
      "STAR_RATING                  3529 non-null float64\n",
      "dtypes: float64(29)\n",
      "memory usage: 799.6 KB\n"
     ]
    }
   ],
   "source": [
    "# Explore the KNN dataset\n",
    "hd_KMeans_G.info()"
   ]
  },
  {
   "cell_type": "code",
   "execution_count": 173,
   "metadata": {},
   "outputs": [],
   "source": [
    "#split dataset in features and target variable\n",
    "X_kg = hd_KMeans_G[feature_cols] # Features\n",
    "Y_kg = hd_KMeans_G.STAR_RATING # Target variable"
   ]
  },
  {
   "cell_type": "markdown",
   "metadata": {},
   "source": [
    "### Run Gradient Boosted on the hospitaldata_knn Dataset"
   ]
  },
  {
   "cell_type": "code",
   "execution_count": 174,
   "metadata": {},
   "outputs": [],
   "source": [
    "# Fit the Gradient Boosted Model\n",
    "from sklearn.ensemble import GradientBoostingClassifier\n",
    "X_train, X_test, Y_train, Y_test = train_test_split(\n",
    "    X_kg, Y_kg, random_state=0)\n",
    "\n",
    "gbrt = GradientBoostingClassifier(random_state=0)\n",
    "gbrt.fit(X_train, Y_train)\n",
    "gbrt.score(X_train, Y_train)\n",
    "acc_gbrt = round(gbrt.score(X_train, Y_train) * 100, 2)"
   ]
  },
  {
   "cell_type": "code",
   "execution_count": 175,
   "metadata": {},
   "outputs": [
    {
     "name": "stdout",
     "output_type": "stream",
     "text": [
      "Accuracy on training set: 0.922\n",
      "Accuracy on test set: 0.806\n"
     ]
    }
   ],
   "source": [
    "# Check the Gradient Boosted Accuracy against the test dataset\n",
    "print(\"Accuracy on training set: {:.3f}\".format(gbrt.score(X_train, Y_train)))\n",
    "acc_train_kmeans = gbrt.score(X_train, Y_train)\n",
    "print(\"Accuracy on test set: {:.3f}\".format(gbrt.score(X_test, Y_test)))\n",
    "acc_test_kmeans = gbrt.score(X_test, Y_test)"
   ]
  },
  {
   "cell_type": "code",
   "execution_count": 176,
   "metadata": {},
   "outputs": [
    {
     "data": {
      "image/png": "[encoded data removed]",
      "text/plain": [
       "<Figure size 432x288 with 1 Axes>"
      ]
     },
     "metadata": {
      "needs_background": "light"
     },
     "output_type": "display_data"
    }
   ],
   "source": [
    "# Check the importance of the features\n",
    "import pandas as pd\n",
    "import matplotlib.pyplot as plt\n",
    "# Create a pd.Series of features importances\n",
    "importances_gbrt = pd.Series(gbrt.feature_importances_,\n",
    "index = X.columns)\n",
    "# Sort importances_fgbrt\n",
    "sorted_importances_gbrt = importances_gbrt.sort_values()\n",
    "# Make a horizontal bar plot\n",
    "sorted_importances_gbrt.plot(kind='barh', color='blue')\n",
    "plt.show()"
   ]
  },
  {
   "cell_type": "code",
   "execution_count": 177,
   "metadata": {},
   "outputs": [
    {
     "data": {
      "text/plain": [
       "array([[ 37,  14,   0,   0,   0],\n",
       "       [  5, 134,  43,   0,   0],\n",
       "       [  0,  20, 324,  27,   0],\n",
       "       [  0,   0,  45, 183,   8],\n",
       "       [  0,   0,   0,   9,  34]])"
      ]
     },
     "execution_count": 177,
     "metadata": {},
     "output_type": "execute_result"
    }
   ],
   "source": [
    "# import the metrics class to compute the confusion matrix\n",
    "from sklearn import metrics\n",
    "Y_pred=gbrt.predict(X_test)\n",
    "cnf_matrix = metrics.confusion_matrix(Y_test, Y_pred)\n",
    "cnf_matrix"
   ]
  },
  {
   "cell_type": "code",
   "execution_count": 178,
   "metadata": {},
   "outputs": [
    {
     "data": {
      "text/plain": [
       "Text(0.5, 257.44, 'Predicted label')"
      ]
     },
     "execution_count": 178,
     "metadata": {},
     "output_type": "execute_result"
    },
    {
     "data": {
      "image/png": "[encoded data removed]",
      "text/plain": [
       "<Figure size 432x288 with 2 Axes>"
      ]
     },
     "metadata": {
      "needs_background": "light"
     },
     "output_type": "display_data"
    }
   ],
   "source": [
    "# import required modules\n",
    "import numpy as np\n",
    "import matplotlib.pyplot as plt\n",
    "import seaborn as sns\n",
    "%matplotlib inline\n",
    "\n",
    "# compute the confusion matrix heatmap\n",
    "class_names=[0,1] # name  of classes\n",
    "fig, ax = plt.subplots()\n",
    "tick_marks = np.arange(len(class_names))\n",
    "plt.xticks(tick_marks, class_names)\n",
    "plt.yticks(tick_marks, class_names)\n",
    "# create heatmap\n",
    "sns.heatmap(pd.DataFrame(cnf_matrix), annot=True, cmap=\"YlGnBu\" ,fmt='g')\n",
    "ax.xaxis.set_label_position(\"top\")\n",
    "plt.tight_layout()\n",
    "plt.title('Confusion matrix', y=1.1)\n",
    "plt.ylabel('Actual label')\n",
    "plt.xlabel('Predicted label')"
   ]
  },
  {
   "cell_type": "code",
   "execution_count": 179,
   "metadata": {},
   "outputs": [
    {
     "name": "stdout",
     "output_type": "stream",
     "text": [
      "Scores: [0.7761194  0.76603774 0.77735849 0.7509434  0.74621212 0.76136364\n",
      " 0.79545455 0.76893939 0.81060606 0.78707224]\n",
      "Mean: 0.774010702654835\n",
      "Standard Deviation: 0.018813328194241603\n"
     ]
    }
   ],
   "source": [
    "# Cross Validation\n",
    "from sklearn.model_selection import cross_val_score\n",
    "gbrt = GradientBoostingClassifier(random_state=0)\n",
    "scores = cross_val_score(gbrt, X_train, Y_train, cv=10, scoring = \"accuracy\")\n",
    "print(\"Scores:\", scores)\n",
    "print(\"Mean:\", scores.mean())\n",
    "print(\"Standard Deviation:\", scores.std())"
   ]
  },
  {
   "cell_type": "markdown",
   "metadata": {},
   "source": [
    "### Prepare the hospitaldata_mean Dataset for the Classification Model Run"
   ]
  },
  {
   "cell_type": "code",
   "execution_count": 180,
   "metadata": {},
   "outputs": [],
   "source": [
    "#Upload hospitaldata_mean.csv\n",
    "hd_means_GB = pd.read_csv('https://raw.githubusercontent.com/maringow/DataMiningGroupProject/master/hospitaldata_mean.csv')"
   ]
  },
  {
   "cell_type": "code",
   "execution_count": 181,
   "metadata": {},
   "outputs": [
    {
     "name": "stdout",
     "output_type": "stream",
     "text": [
      "<class 'pandas.core.frame.DataFrame'>\n",
      "RangeIndex: 3529 entries, 0 to 3528\n",
      "Data columns (total 40 columns):\n",
      "Unnamed: 0                      3529 non-null int64\n",
      "Unnamed: 0.1                    3529 non-null int64\n",
      "Provider ID                     3529 non-null object\n",
      "COMP_HIP_KNEE                   3529 non-null float64\n",
      "MORT_30_AMI                     3529 non-null float64\n",
      "MORT_30_CABG                    3529 non-null float64\n",
      "MORT_30_COPD                    3529 non-null float64\n",
      "MORT_30_HF                      3529 non-null float64\n",
      "MORT_30_PN                      3529 non-null float64\n",
      "MORT_30_STK                     3529 non-null float64\n",
      "PSI_10_POST_KIDNEY              3529 non-null float64\n",
      "PSI_11_POST_RESP                3529 non-null float64\n",
      "PSI_12_POSTOP_PULMEMB_DVT       3529 non-null float64\n",
      "PSI_13_POST_SEPSIS              3529 non-null float64\n",
      "PSI_14_POSTOP_DEHIS             3529 non-null float64\n",
      "PSI_15_ACC_LAC                  3529 non-null float64\n",
      "PSI_3_ULCER                     3529 non-null float64\n",
      "PSI_4_SURG_COMP                 3529 non-null float64\n",
      "PSI_6_IAT_PTX                   3529 non-null float64\n",
      "PSI_8_POST_HIP                  3529 non-null float64\n",
      "PSI_90_SAFETY                   3529 non-null float64\n",
      "PSI_9_POST_HEM                  3529 non-null float64\n",
      "H_CLEAN_LINEAR_SCORE            3529 non-null int64\n",
      "H_COMP_1_LINEAR_SCORE           3529 non-null int64\n",
      "H_COMP_2_LINEAR_SCORE           3529 non-null int64\n",
      "H_COMP_3_LINEAR_SCORE           3529 non-null int64\n",
      "H_COMP_5_LINEAR_SCORE           3529 non-null int64\n",
      "H_COMP_6_LINEAR_SCORE           3529 non-null int64\n",
      "H_COMP_7_LINEAR_SCORE           3529 non-null int64\n",
      "H_HSP_RATING_LINEAR_SCORE       3529 non-null int64\n",
      "H_QUIET_LINEAR_SCORE            3529 non-null int64\n",
      "H_RECMND_LINEAR_SCORE           3529 non-null int64\n",
      "Hospital Name                   3529 non-null object\n",
      "Address                         3529 non-null object\n",
      "City                            3529 non-null object\n",
      "State                           3529 non-null object\n",
      "ZIP Code                        3529 non-null int64\n",
      "Number of Completed Surveys     3529 non-null int64\n",
      "Survey Response Rate Percent    3529 non-null int64\n",
      "STAR_RATING                     3529 non-null int64\n",
      "dtypes: float64(19), int64(16), object(5)\n",
      "memory usage: 1.1+ MB\n"
     ]
    }
   ],
   "source": [
    "# Explore the Means dataset\n",
    "hd_means_GB.info()"
   ]
  },
  {
   "cell_type": "code",
   "execution_count": 182,
   "metadata": {},
   "outputs": [],
   "source": [
    "# Drop columns flagged based on the Group Features Engineering strategy\n",
    "hd_means_GB.drop(['H_RECMND_LINEAR_SCORE', 'Survey Response Rate Percent', 'Number of Completed Surveys', 'Unnamed: 0', 'Unnamed: 0.1', 'Provider ID', 'Hospital Name', 'Address', 'City', 'State', 'ZIP Code' ], axis=1, inplace=True)"
   ]
  },
  {
   "cell_type": "code",
   "execution_count": 183,
   "metadata": {},
   "outputs": [
    {
     "name": "stdout",
     "output_type": "stream",
     "text": [
      "<class 'pandas.core.frame.DataFrame'>\n",
      "RangeIndex: 3529 entries, 0 to 3528\n",
      "Data columns (total 29 columns):\n",
      "COMP_HIP_KNEE                3529 non-null float64\n",
      "MORT_30_AMI                  3529 non-null float64\n",
      "MORT_30_CABG                 3529 non-null float64\n",
      "MORT_30_COPD                 3529 non-null float64\n",
      "MORT_30_HF                   3529 non-null float64\n",
      "MORT_30_PN                   3529 non-null float64\n",
      "MORT_30_STK                  3529 non-null float64\n",
      "PSI_10_POST_KIDNEY           3529 non-null float64\n",
      "PSI_11_POST_RESP             3529 non-null float64\n",
      "PSI_12_POSTOP_PULMEMB_DVT    3529 non-null float64\n",
      "PSI_13_POST_SEPSIS           3529 non-null float64\n",
      "PSI_14_POSTOP_DEHIS          3529 non-null float64\n",
      "PSI_15_ACC_LAC               3529 non-null float64\n",
      "PSI_3_ULCER                  3529 non-null float64\n",
      "PSI_4_SURG_COMP              3529 non-null float64\n",
      "PSI_6_IAT_PTX                3529 non-null float64\n",
      "PSI_8_POST_HIP               3529 non-null float64\n",
      "PSI_90_SAFETY                3529 non-null float64\n",
      "PSI_9_POST_HEM               3529 non-null float64\n",
      "H_CLEAN_LINEAR_SCORE         3529 non-null int64\n",
      "H_COMP_1_LINEAR_SCORE        3529 non-null int64\n",
      "H_COMP_2_LINEAR_SCORE        3529 non-null int64\n",
      "H_COMP_3_LINEAR_SCORE        3529 non-null int64\n",
      "H_COMP_5_LINEAR_SCORE        3529 non-null int64\n",
      "H_COMP_6_LINEAR_SCORE        3529 non-null int64\n",
      "H_COMP_7_LINEAR_SCORE        3529 non-null int64\n",
      "H_HSP_RATING_LINEAR_SCORE    3529 non-null int64\n",
      "H_QUIET_LINEAR_SCORE         3529 non-null int64\n",
      "STAR_RATING                  3529 non-null int64\n",
      "dtypes: float64(19), int64(10)\n",
      "memory usage: 799.6 KB\n"
     ]
    }
   ],
   "source": [
    "# Explore the Means dataset\n",
    "hd_means_GB.info()"
   ]
  },
  {
   "cell_type": "code",
   "execution_count": 184,
   "metadata": {},
   "outputs": [],
   "source": [
    "#split dataset in features and target variable\n",
    "X_mg = hd_means_GB[feature_cols] # Features\n",
    "Y_mg = hd_means_GB.STAR_RATING # Target variable"
   ]
  },
  {
   "cell_type": "markdown",
   "metadata": {},
   "source": [
    "### Run Gradient Boosted on the hospitaldata_mean Dataset"
   ]
  },
  {
   "cell_type": "code",
   "execution_count": 185,
   "metadata": {},
   "outputs": [],
   "source": [
    "# Fit the Gradient Boosted Model\n",
    "from sklearn.ensemble import GradientBoostingClassifier\n",
    "X_train, X_test, Y_train, Y_test = train_test_split(\n",
    "    X_mg, Y_mg, random_state=0)\n",
    "\n",
    "gbrt = GradientBoostingClassifier(random_state=0)\n",
    "gbrt.fit(X_train, Y_train)\n",
    "gbrt.score(X_train, Y_train)\n",
    "acc_gbrt = round(gbrt.score(X_train, Y_train) * 100, 2)"
   ]
  },
  {
   "cell_type": "code",
   "execution_count": 186,
   "metadata": {},
   "outputs": [
    {
     "name": "stdout",
     "output_type": "stream",
     "text": [
      "Accuracy on training set: 0.916\n",
      "Accuracy on test set: 0.815\n"
     ]
    }
   ],
   "source": [
    "# Check the Gradient Boosted Accuracy against the test dataset\n",
    "print(\"Accuracy on training set: {:.3f}\".format(gbrt.score(X_train, Y_train)))\n",
    "acc_train_means  = gbrt.score(X_train, Y_train)\n",
    "print(\"Accuracy on test set: {:.3f}\".format(gbrt.score(X_test, Y_test)))\n",
    "acc_test_means = gbrt.score(X_test, Y_test)"
   ]
  },
  {
   "cell_type": "code",
   "execution_count": 187,
   "metadata": {},
   "outputs": [
    {
     "data": {
      "image/png": "[encoded data removed]",
      "text/plain": [
       "<Figure size 432x288 with 1 Axes>"
      ]
     },
     "metadata": {
      "needs_background": "light"
     },
     "output_type": "display_data"
    }
   ],
   "source": [
    "# Check the importance of the features\n",
    "import pandas as pd\n",
    "import matplotlib.pyplot as plt\n",
    "# Create a pd.Series of features importances\n",
    "importances_gbrt = pd.Series(gbrt.feature_importances_,\n",
    "index = X.columns)\n",
    "# Sort importances_fgbrt\n",
    "sorted_importances_gbrt = importances_gbrt.sort_values()\n",
    "# Make a horizontal bar plot\n",
    "sorted_importances_gbrt.plot(kind='barh', color='blue')\n",
    "plt.show()"
   ]
  },
  {
   "cell_type": "code",
   "execution_count": 188,
   "metadata": {},
   "outputs": [
    {
     "data": {
      "text/plain": [
       "array([[ 37,  14,   0,   0,   0],\n",
       "       [  3, 136,  43,   0,   0],\n",
       "       [  0,  17, 330,  24,   0],\n",
       "       [  0,   0,  46, 185,   5],\n",
       "       [  0,   0,   0,  11,  32]])"
      ]
     },
     "execution_count": 188,
     "metadata": {},
     "output_type": "execute_result"
    }
   ],
   "source": [
    "# import the metrics class to compute the confusion matrix\n",
    "from sklearn import metrics\n",
    "Y_pred=gbrt.predict(X_test)\n",
    "cnf_matrix = metrics.confusion_matrix(Y_test, Y_pred)\n",
    "cnf_matrix"
   ]
  },
  {
   "cell_type": "code",
   "execution_count": 189,
   "metadata": {},
   "outputs": [
    {
     "data": {
      "text/plain": [
       "Text(0.5, 257.44, 'Predicted label')"
      ]
     },
     "execution_count": 189,
     "metadata": {},
     "output_type": "execute_result"
    },
    {
     "data": {
      "image/png": "[encoded data removed]",
      "text/plain": [
       "<Figure size 432x288 with 2 Axes>"
      ]
     },
     "metadata": {
      "needs_background": "light"
     },
     "output_type": "display_data"
    }
   ],
   "source": [
    "# import required modules\n",
    "import numpy as np\n",
    "import matplotlib.pyplot as plt\n",
    "import seaborn as sns\n",
    "%matplotlib inline\n",
    "\n",
    "# compute the confusion matrix heatmap\n",
    "class_names=[0,1] # name  of classes\n",
    "fig, ax = plt.subplots()\n",
    "tick_marks = np.arange(len(class_names))\n",
    "plt.xticks(tick_marks, class_names)\n",
    "plt.yticks(tick_marks, class_names)\n",
    "# create heatmap\n",
    "sns.heatmap(pd.DataFrame(cnf_matrix), annot=True, cmap=\"YlGnBu\" ,fmt='g')\n",
    "ax.xaxis.set_label_position(\"top\")\n",
    "plt.tight_layout()\n",
    "plt.title('Confusion matrix', y=1.1)\n",
    "plt.ylabel('Actual label')\n",
    "plt.xlabel('Predicted label')"
   ]
  },
  {
   "cell_type": "code",
   "execution_count": 190,
   "metadata": {},
   "outputs": [
    {
     "name": "stdout",
     "output_type": "stream",
     "text": [
      "Scores: [0.79850746 0.74716981 0.76603774 0.77735849 0.75       0.78030303\n",
      " 0.79166667 0.76893939 0.82954545 0.76425856]\n",
      "Mean: 0.7773786601010042\n",
      "Standard Deviation: 0.02326938057829828\n"
     ]
    }
   ],
   "source": [
    "# Cross Validation\n",
    "from sklearn.model_selection import cross_val_score\n",
    "gbrt = GradientBoostingClassifier(random_state=0)\n",
    "scores = cross_val_score(gbrt, X_train, Y_train, cv=10, scoring = \"accuracy\")\n",
    "print(\"Scores:\", scores)\n",
    "print(\"Mean:\", scores.mean())\n",
    "print(\"Standard Deviation:\", scores.std())"
   ]
  },
  {
   "cell_type": "markdown",
   "metadata": {},
   "source": [
    "## XGBoost Regression Summary"
   ]
  },
  {
   "cell_type": "code",
   "execution_count": 193,
   "metadata": {},
   "outputs": [
    {
     "data": {
      "text/html": [
       "<div>\n",
       "<style scoped>\n",
       "    .dataframe tbody tr th:only-of-type {\n",
       "        vertical-align: middle;\n",
       "    }\n",
       "\n",
       "    .dataframe tbody tr th {\n",
       "        vertical-align: top;\n",
       "    }\n",
       "\n",
       "    .dataframe thead th {\n",
       "        text-align: right;\n",
       "    }\n",
       "</style>\n",
       "<table border=\"1\" class=\"dataframe\">\n",
       "  <thead>\n",
       "    <tr style=\"text-align: right;\">\n",
       "      <th></th>\n",
       "      <th>RMSE_Train</th>\n",
       "      <th>RMSE_Test</th>\n",
       "    </tr>\n",
       "    <tr>\n",
       "      <th>Model</th>\n",
       "      <th></th>\n",
       "      <th></th>\n",
       "    </tr>\n",
       "  </thead>\n",
       "  <tbody>\n",
       "    <tr>\n",
       "      <th>XGBoost Iterative</th>\n",
       "      <td>0.648198</td>\n",
       "      <td>1.310066</td>\n",
       "    </tr>\n",
       "    <tr>\n",
       "      <th>XGBoost Means</th>\n",
       "      <td>0.856367</td>\n",
       "      <td>1.340707</td>\n",
       "    </tr>\n",
       "    <tr>\n",
       "      <th>XGBoost KMeans</th>\n",
       "      <td>0.858971</td>\n",
       "      <td>1.347106</td>\n",
       "    </tr>\n",
       "  </tbody>\n",
       "</table>\n",
       "</div>"
      ],
      "text/plain": [
       "                   RMSE_Train  RMSE_Test\n",
       "Model                                   \n",
       "XGBoost Iterative    0.648198   1.310066\n",
       "XGBoost Means        0.856367   1.340707\n",
       "XGBoost KMeans       0.858971   1.347106"
      ]
     },
     "execution_count": 193,
     "metadata": {},
     "output_type": "execute_result"
    }
   ],
   "source": [
    "results = pd.DataFrame({\n",
    "    'Model': ['XGBoost Iterative', \n",
    "              'XGBoost KMeans', \n",
    "              'XGBoost Means'],\n",
    "    'RMSE_Train': [RMSE_iter_t, RMSE_knn_t, RMSE_means_t],\n",
    "    'RMSE_Test': [RMSE_iter_test, RMSE_knn_test, RMSE_means_test]})\n",
    "result_df = results.sort_values(by='RMSE_Test', ascending=True)\n",
    "result_df = result_df.set_index('Model')\n",
    "result_df"
   ]
  },
  {
   "cell_type": "markdown",
   "metadata": {},
   "source": [
    "## Gradient Boosted Classification Summary"
   ]
  },
  {
   "cell_type": "code",
   "execution_count": 192,
   "metadata": {},
   "outputs": [
    {
     "data": {
      "text/html": [
       "<div>\n",
       "<style scoped>\n",
       "    .dataframe tbody tr th:only-of-type {\n",
       "        vertical-align: middle;\n",
       "    }\n",
       "\n",
       "    .dataframe tbody tr th {\n",
       "        vertical-align: top;\n",
       "    }\n",
       "\n",
       "    .dataframe thead th {\n",
       "        text-align: right;\n",
       "    }\n",
       "</style>\n",
       "<table border=\"1\" class=\"dataframe\">\n",
       "  <thead>\n",
       "    <tr style=\"text-align: right;\">\n",
       "      <th></th>\n",
       "      <th>Score_Train</th>\n",
       "      <th>Score_Test</th>\n",
       "    </tr>\n",
       "    <tr>\n",
       "      <th>Model</th>\n",
       "      <th></th>\n",
       "      <th></th>\n",
       "    </tr>\n",
       "  </thead>\n",
       "  <tbody>\n",
       "    <tr>\n",
       "      <th>Gradient Boosted Iterative</th>\n",
       "      <td>0.925926</td>\n",
       "      <td>0.817667</td>\n",
       "    </tr>\n",
       "    <tr>\n",
       "      <th>Gradient Boosted Means</th>\n",
       "      <td>0.915722</td>\n",
       "      <td>0.815402</td>\n",
       "    </tr>\n",
       "    <tr>\n",
       "      <th>Gradient Boosted KMeans</th>\n",
       "      <td>0.922147</td>\n",
       "      <td>0.806342</td>\n",
       "    </tr>\n",
       "  </tbody>\n",
       "</table>\n",
       "</div>"
      ],
      "text/plain": [
       "                            Score_Train  Score_Test\n",
       "Model                                              \n",
       "Gradient Boosted Iterative     0.925926    0.817667\n",
       "Gradient Boosted Means         0.915722    0.815402\n",
       "Gradient Boosted KMeans        0.922147    0.806342"
      ]
     },
     "execution_count": 192,
     "metadata": {},
     "output_type": "execute_result"
    }
   ],
   "source": [
    "results = pd.DataFrame({\n",
    "    'Model': ['Gradient Boosted Iterative', \n",
    "              'Gradient Boosted KMeans', \n",
    "              'Gradient Boosted Means'],\n",
    "    'Score_Train': [acc_train_iter, acc_train_kmeans, acc_train_means],\n",
    "    'Score_Test': [acc_test_iter, acc_test_kmeans, acc_test_means]})\n",
    "result_df = results.sort_values(by='Score_Test', ascending=False)\n",
    "result_df = result_df.set_index('Model')\n",
    "result_df"
   ]
  },
  {
   "cell_type": "markdown",
   "metadata": {},
   "source": [
    "## Recommended Model = Gradient Boosted Classification Using Dataset with Iterative Missing values Imputation"
   ]
  }
 ],
 "metadata": {
  "kernelspec": {
   "display_name": "Python 3",
   "language": "python",
   "name": "python3"
  },
  "language_info": {
   "codemirror_mode": {
    "name": "ipython",
    "version": 3
   },
   "file_extension": ".py",
   "mimetype": "text/x-python",
   "name": "python",
   "nbconvert_exporter": "python",
   "pygments_lexer": "ipython3",
   "version": "3.6.8"
  }
 },
 "nbformat": 4,
 "nbformat_minor": 2
}
