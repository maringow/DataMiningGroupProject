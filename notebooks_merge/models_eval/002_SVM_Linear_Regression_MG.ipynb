{
 "cells": [
  {
   "cell_type": "code",
   "execution_count": 28,
   "metadata": {},
   "outputs": [
    {
     "data": {
      "text/html": [
       "<div>\n",
       "<style scoped>\n",
       "    .dataframe tbody tr th:only-of-type {\n",
       "        vertical-align: middle;\n",
       "    }\n",
       "\n",
       "    .dataframe tbody tr th {\n",
       "        vertical-align: top;\n",
       "    }\n",
       "\n",
       "    .dataframe thead th {\n",
       "        text-align: right;\n",
       "    }\n",
       "</style>\n",
       "<table border=\"1\" class=\"dataframe\">\n",
       "  <thead>\n",
       "    <tr style=\"text-align: right;\">\n",
       "      <th></th>\n",
       "      <th>Unnamed: 0</th>\n",
       "      <th>Unnamed: 0.1</th>\n",
       "      <th>Provider ID</th>\n",
       "      <th>COMP_HIP_KNEE</th>\n",
       "      <th>MORT_30_AMI</th>\n",
       "      <th>MORT_30_CABG</th>\n",
       "      <th>MORT_30_COPD</th>\n",
       "      <th>MORT_30_HF</th>\n",
       "      <th>MORT_30_PN</th>\n",
       "      <th>MORT_30_STK</th>\n",
       "      <th>...</th>\n",
       "      <th>H_QUIET_LINEAR_SCORE</th>\n",
       "      <th>H_RECMND_LINEAR_SCORE</th>\n",
       "      <th>Hospital Name</th>\n",
       "      <th>Address</th>\n",
       "      <th>City</th>\n",
       "      <th>State</th>\n",
       "      <th>ZIP Code</th>\n",
       "      <th>Number of Completed Surveys</th>\n",
       "      <th>Survey Response Rate Percent</th>\n",
       "      <th>STAR_RATING</th>\n",
       "    </tr>\n",
       "  </thead>\n",
       "  <tbody>\n",
       "    <tr>\n",
       "      <th>0</th>\n",
       "      <td>0</td>\n",
       "      <td>0</td>\n",
       "      <td>10001</td>\n",
       "      <td>3.0</td>\n",
       "      <td>14.500000</td>\n",
       "      <td>4.500000</td>\n",
       "      <td>8.9</td>\n",
       "      <td>12.5</td>\n",
       "      <td>16.2</td>\n",
       "      <td>13.7</td>\n",
       "      <td>...</td>\n",
       "      <td>86</td>\n",
       "      <td>84</td>\n",
       "      <td>SOUTHEAST ALABAMA MEDICAL CENTER</td>\n",
       "      <td>1108 ROSS CLARK CIRCLE</td>\n",
       "      <td>DOTHAN</td>\n",
       "      <td>AL</td>\n",
       "      <td>36301</td>\n",
       "      <td>506</td>\n",
       "      <td>21</td>\n",
       "      <td>2</td>\n",
       "    </tr>\n",
       "    <tr>\n",
       "      <th>1</th>\n",
       "      <td>1</td>\n",
       "      <td>1</td>\n",
       "      <td>10005</td>\n",
       "      <td>3.0</td>\n",
       "      <td>15.500000</td>\n",
       "      <td>3.230405</td>\n",
       "      <td>10.9</td>\n",
       "      <td>15.3</td>\n",
       "      <td>20.8</td>\n",
       "      <td>15.7</td>\n",
       "      <td>...</td>\n",
       "      <td>85</td>\n",
       "      <td>88</td>\n",
       "      <td>MARSHALL MEDICAL CENTER SOUTH</td>\n",
       "      <td>2505 U S HIGHWAY 431 NORTH</td>\n",
       "      <td>BOAZ</td>\n",
       "      <td>AL</td>\n",
       "      <td>35957</td>\n",
       "      <td>1135</td>\n",
       "      <td>34</td>\n",
       "      <td>3</td>\n",
       "    </tr>\n",
       "    <tr>\n",
       "      <th>2</th>\n",
       "      <td>2</td>\n",
       "      <td>2</td>\n",
       "      <td>10006</td>\n",
       "      <td>3.6</td>\n",
       "      <td>14.900000</td>\n",
       "      <td>3.200000</td>\n",
       "      <td>8.8</td>\n",
       "      <td>13.2</td>\n",
       "      <td>17.2</td>\n",
       "      <td>17.2</td>\n",
       "      <td>...</td>\n",
       "      <td>82</td>\n",
       "      <td>84</td>\n",
       "      <td>ELIZA COFFEE MEMORIAL HOSPITAL</td>\n",
       "      <td>205 MARENGO STREET</td>\n",
       "      <td>FLORENCE</td>\n",
       "      <td>AL</td>\n",
       "      <td>35631</td>\n",
       "      <td>579</td>\n",
       "      <td>22</td>\n",
       "      <td>2</td>\n",
       "    </tr>\n",
       "    <tr>\n",
       "      <th>3</th>\n",
       "      <td>3</td>\n",
       "      <td>3</td>\n",
       "      <td>10007</td>\n",
       "      <td>2.8</td>\n",
       "      <td>13.172227</td>\n",
       "      <td>3.230405</td>\n",
       "      <td>8.3</td>\n",
       "      <td>13.3</td>\n",
       "      <td>21.6</td>\n",
       "      <td>15.9</td>\n",
       "      <td>...</td>\n",
       "      <td>86</td>\n",
       "      <td>85</td>\n",
       "      <td>MIZELL MEMORIAL HOSPITAL</td>\n",
       "      <td>702 N MAIN ST</td>\n",
       "      <td>OPP</td>\n",
       "      <td>AL</td>\n",
       "      <td>36467</td>\n",
       "      <td>185</td>\n",
       "      <td>27</td>\n",
       "      <td>2</td>\n",
       "    </tr>\n",
       "    <tr>\n",
       "      <th>4</th>\n",
       "      <td>4</td>\n",
       "      <td>4</td>\n",
       "      <td>10011</td>\n",
       "      <td>2.6</td>\n",
       "      <td>14.100000</td>\n",
       "      <td>3.700000</td>\n",
       "      <td>8.9</td>\n",
       "      <td>13.1</td>\n",
       "      <td>16.1</td>\n",
       "      <td>12.4</td>\n",
       "      <td>...</td>\n",
       "      <td>81</td>\n",
       "      <td>86</td>\n",
       "      <td>ST VINCENT'S EAST</td>\n",
       "      <td>50 MEDICAL PARK EAST DRIVE</td>\n",
       "      <td>BIRMINGHAM</td>\n",
       "      <td>AL</td>\n",
       "      <td>35235</td>\n",
       "      <td>2193</td>\n",
       "      <td>33</td>\n",
       "      <td>3</td>\n",
       "    </tr>\n",
       "  </tbody>\n",
       "</table>\n",
       "<p>5 rows × 40 columns</p>\n",
       "</div>"
      ],
      "text/plain": [
       "   Unnamed: 0  Unnamed: 0.1 Provider ID  COMP_HIP_KNEE  MORT_30_AMI  \\\n",
       "0           0             0       10001            3.0    14.500000   \n",
       "1           1             1       10005            3.0    15.500000   \n",
       "2           2             2       10006            3.6    14.900000   \n",
       "3           3             3       10007            2.8    13.172227   \n",
       "4           4             4       10011            2.6    14.100000   \n",
       "\n",
       "   MORT_30_CABG  MORT_30_COPD  MORT_30_HF  MORT_30_PN  MORT_30_STK  ...  \\\n",
       "0      4.500000           8.9        12.5        16.2         13.7  ...   \n",
       "1      3.230405          10.9        15.3        20.8         15.7  ...   \n",
       "2      3.200000           8.8        13.2        17.2         17.2  ...   \n",
       "3      3.230405           8.3        13.3        21.6         15.9  ...   \n",
       "4      3.700000           8.9        13.1        16.1         12.4  ...   \n",
       "\n",
       "   H_QUIET_LINEAR_SCORE  H_RECMND_LINEAR_SCORE  \\\n",
       "0                    86                     84   \n",
       "1                    85                     88   \n",
       "2                    82                     84   \n",
       "3                    86                     85   \n",
       "4                    81                     86   \n",
       "\n",
       "                      Hospital Name                     Address        City  \\\n",
       "0  SOUTHEAST ALABAMA MEDICAL CENTER      1108 ROSS CLARK CIRCLE      DOTHAN   \n",
       "1     MARSHALL MEDICAL CENTER SOUTH  2505 U S HIGHWAY 431 NORTH        BOAZ   \n",
       "2    ELIZA COFFEE MEMORIAL HOSPITAL          205 MARENGO STREET    FLORENCE   \n",
       "3          MIZELL MEMORIAL HOSPITAL               702 N MAIN ST         OPP   \n",
       "4                 ST VINCENT'S EAST  50 MEDICAL PARK EAST DRIVE  BIRMINGHAM   \n",
       "\n",
       "   State  ZIP Code  Number of Completed Surveys  Survey Response Rate Percent  \\\n",
       "0     AL     36301                          506                            21   \n",
       "1     AL     35957                         1135                            34   \n",
       "2     AL     35631                          579                            22   \n",
       "3     AL     36467                          185                            27   \n",
       "4     AL     35235                         2193                            33   \n",
       "\n",
       "   STAR_RATING  \n",
       "0            2  \n",
       "1            3  \n",
       "2            2  \n",
       "3            2  \n",
       "4            3  \n",
       "\n",
       "[5 rows x 40 columns]"
      ]
     },
     "execution_count": 28,
     "metadata": {},
     "output_type": "execute_result"
    }
   ],
   "source": [
    "import pandas as pd\n",
    "import statsmodels.api as sm\n",
    "from sklearn.metrics import mean_squared_error as MSE\n",
    "from sklearn.model_selection import train_test_split\n",
    "from sklearn import svm\n",
    "from sklearn.metrics import classification_report\n",
    "from sklearn.preprocessing import StandardScaler\n",
    "\n",
    "# read in all three filled datasets\n",
    "mean = pd.read_csv('hospitaldata_mean.csv')  # filled with mean values\n",
    "iterative = pd.read_csv('hospitaldata_iterative.csv')  # filled with linear regression\n",
    "knn = pd.read_csv('hospitaldata_knn.csv')  # filled with knn\n",
    "\n",
    "mean.head()"
   ]
  },
  {
   "cell_type": "code",
   "execution_count": 13,
   "metadata": {},
   "outputs": [],
   "source": [
    "def run_OLS(df):\n",
    "    \n",
    "    # split train and test data\n",
    "    xtrain, xtest, ytrain, ytest = train_test_split(\n",
    "        df[['COMP_HIP_KNEE', 'MORT_30_AMI', 'MORT_30_CABG', 'MORT_30_COPD', 'MORT_30_HF', 'MORT_30_PN',\n",
    "                  'MORT_30_STK', 'PSI_10_POST_KIDNEY', 'PSI_11_POST_RESP', 'PSI_12_POSTOP_PULMEMB_DVT', 'PSI_13_POST_SEPSIS',\n",
    "                  'PSI_14_POSTOP_DEHIS', 'PSI_15_ACC_LAC', 'PSI_3_ULCER', 'PSI_4_SURG_COMP', 'PSI_6_IAT_PTX',\n",
    "                  'PSI_8_POST_HIP', 'PSI_90_SAFETY', 'PSI_9_POST_HEM', 'H_CLEAN_LINEAR_SCORE', 'H_COMP_1_LINEAR_SCORE', 'H_COMP_2_LINEAR_SCORE', 'H_COMP_3_LINEAR_SCORE',\n",
    "                  'H_COMP_5_LINEAR_SCORE', 'H_COMP_6_LINEAR_SCORE', 'H_COMP_7_LINEAR_SCORE', 'H_HSP_RATING_LINEAR_SCORE',\n",
    "                  'H_QUIET_LINEAR_SCORE', 'Number of Completed Surveys', 'Survey Response Rate Percent']], \n",
    "        df[['H_RECMND_LINEAR_SCORE']], test_size=0.2, random_state=0)\n",
    "\n",
    "    X = xtrain\n",
    "    y = ytrain\n",
    "\n",
    "    # fit multiple regression model\n",
    "    model = sm.OLS(y, X).fit()\n",
    "    predictions = model.predict(X) # make the predictions by the model\n",
    "\n",
    "    # Print out the statistics\n",
    "    model.summary()\n",
    "    \n",
    "    # Compute y_pred_ols\n",
    "    y_pred_ols = model.predict(xtest)\n",
    "\n",
    "    # Compute mse_dt\n",
    "    mse_ols = MSE(ytest, y_pred_ols)\n",
    "\n",
    "    # Compute rmse_dt\n",
    "    rmse_ols = mse_ols**(1/2)\n",
    "\n",
    "    # Print rmse_dt\n",
    "    print(\"Test set RMSE of OLS: {:.2f}\".format(rmse_ols))"
   ]
  },
  {
   "cell_type": "code",
   "execution_count": 19,
   "metadata": {},
   "outputs": [
    {
     "name": "stdout",
     "output_type": "stream",
     "text": [
      "Test set RMSE of OLS: 1.34\n"
     ]
    }
   ],
   "source": [
    "run_OLS(mean)"
   ]
  },
  {
   "cell_type": "code",
   "execution_count": 20,
   "metadata": {},
   "outputs": [
    {
     "name": "stdout",
     "output_type": "stream",
     "text": [
      "Test set RMSE of OLS: 1.34\n"
     ]
    }
   ],
   "source": [
    "run_OLS(iterative)"
   ]
  },
  {
   "cell_type": "code",
   "execution_count": 21,
   "metadata": {},
   "outputs": [
    {
     "name": "stdout",
     "output_type": "stream",
     "text": [
      "Test set RMSE of OLS: 1.34\n"
     ]
    }
   ],
   "source": [
    "run_OLS(knn)"
   ]
  },
  {
   "cell_type": "markdown",
   "metadata": {},
   "source": [
    "No difference between the 3 filled datasets when using multiple linear regression. All achieved RMSE of 1.34. "
   ]
  },
  {
   "cell_type": "code",
   "execution_count": 40,
   "metadata": {},
   "outputs": [],
   "source": [
    "def run_SVM(df, kernel_type):\n",
    "    \n",
    "    # split trainn and test data\n",
    "    xtrain, xtest, ytrain, ytest = train_test_split(\n",
    "        df[['COMP_HIP_KNEE', 'MORT_30_AMI', 'MORT_30_CABG', 'MORT_30_COPD', 'MORT_30_HF', 'MORT_30_PN',\n",
    "                  'MORT_30_STK', 'PSI_10_POST_KIDNEY', 'PSI_11_POST_RESP', 'PSI_12_POSTOP_PULMEMB_DVT', 'PSI_13_POST_SEPSIS',\n",
    "                  'PSI_14_POSTOP_DEHIS', 'PSI_15_ACC_LAC', 'PSI_3_ULCER', 'PSI_4_SURG_COMP', 'PSI_6_IAT_PTX',\n",
    "                  'PSI_8_POST_HIP', 'PSI_90_SAFETY', 'PSI_9_POST_HEM', 'H_CLEAN_LINEAR_SCORE', 'H_COMP_1_LINEAR_SCORE', 'H_COMP_2_LINEAR_SCORE', 'H_COMP_3_LINEAR_SCORE',\n",
    "                  'H_COMP_5_LINEAR_SCORE', 'H_COMP_6_LINEAR_SCORE', 'H_COMP_7_LINEAR_SCORE', 'H_HSP_RATING_LINEAR_SCORE',\n",
    "                  'H_QUIET_LINEAR_SCORE', 'Number of Completed Surveys', 'Survey Response Rate Percent']], \n",
    "        df[['STAR_RATING']], test_size=0.2, random_state=0)\n",
    "    \n",
    "    # scale data\n",
    "    scaler = StandardScaler()\n",
    "    xtrain = scaler.fit_transform(xtrain)\n",
    "    xtest = scaler.fit_transform(xtest)\n",
    "\n",
    "    # run SVM\n",
    "    svc = svm.SVC(kernel=kernel_type, C=1)\n",
    "    svc.fit(xtrain, ytrain)\n",
    "    y_pred_svm = svc.predict(xtest)\n",
    "    print(classification_report(ytest, y_pred_svm))"
   ]
  },
  {
   "cell_type": "code",
   "execution_count": 41,
   "metadata": {},
   "outputs": [
    {
     "name": "stderr",
     "output_type": "stream",
     "text": [
      "C:\\Users\\mgow\\AppData\\Local\\Continuum\\anaconda3\\lib\\site-packages\\sklearn\\utils\\validation.py:724: DataConversionWarning: A column-vector y was passed when a 1d array was expected. Please change the shape of y to (n_samples, ), for example using ravel().\n",
      "  y = column_or_1d(y, warn=True)\n"
     ]
    },
    {
     "name": "stdout",
     "output_type": "stream",
     "text": [
      "              precision    recall  f1-score   support\n",
      "\n",
      "           1       0.97      0.75      0.85        40\n",
      "           2       0.82      0.72      0.77       143\n",
      "           3       0.77      0.88      0.82       302\n",
      "           4       0.82      0.74      0.78       190\n",
      "           5       0.73      0.71      0.72        31\n",
      "\n",
      "    accuracy                           0.80       706\n",
      "   macro avg       0.82      0.76      0.79       706\n",
      "weighted avg       0.80      0.80      0.80       706\n",
      "\n"
     ]
    }
   ],
   "source": [
    "run_SVM(mean, 'linear')"
   ]
  },
  {
   "cell_type": "code",
   "execution_count": 38,
   "metadata": {},
   "outputs": [
    {
     "name": "stderr",
     "output_type": "stream",
     "text": [
      "C:\\Users\\mgow\\AppData\\Local\\Continuum\\anaconda3\\lib\\site-packages\\sklearn\\utils\\validation.py:724: DataConversionWarning: A column-vector y was passed when a 1d array was expected. Please change the shape of y to (n_samples, ), for example using ravel().\n",
      "  y = column_or_1d(y, warn=True)\n"
     ]
    },
    {
     "name": "stdout",
     "output_type": "stream",
     "text": [
      "              precision    recall  f1-score   support\n",
      "\n",
      "         1.0       0.88      0.38      0.53        40\n",
      "         2.0       0.71      0.63      0.67       143\n",
      "         3.0       0.72      0.89      0.80       302\n",
      "         4.0       0.81      0.70      0.75       190\n",
      "         5.0       0.73      0.61      0.67        31\n",
      "\n",
      "    accuracy                           0.75       706\n",
      "   macro avg       0.77      0.64      0.68       706\n",
      "weighted avg       0.75      0.75      0.74       706\n",
      "\n"
     ]
    }
   ],
   "source": [
    "df = knn\n",
    "xtrain, xtest, ytrain, ytest = train_test_split(\n",
    "    df[['COMP_HIP_KNEE', 'MORT_30_AMI', 'MORT_30_CABG', 'MORT_30_COPD', 'MORT_30_HF', 'MORT_30_PN',\n",
    "              'MORT_30_STK', 'PSI_10_POST_KIDNEY', 'PSI_11_POST_RESP', 'PSI_12_POSTOP_PULMEMB_DVT', 'PSI_13_POST_SEPSIS',\n",
    "              'PSI_14_POSTOP_DEHIS', 'PSI_15_ACC_LAC', 'PSI_3_ULCER', 'PSI_4_SURG_COMP', 'PSI_6_IAT_PTX',\n",
    "              'PSI_8_POST_HIP', 'PSI_90_SAFETY', 'PSI_9_POST_HEM', 'H_CLEAN_LINEAR_SCORE', 'H_COMP_1_LINEAR_SCORE', 'H_COMP_2_LINEAR_SCORE', 'H_COMP_3_LINEAR_SCORE',\n",
    "              'H_COMP_5_LINEAR_SCORE', 'H_COMP_6_LINEAR_SCORE', 'H_COMP_7_LINEAR_SCORE', 'H_HSP_RATING_LINEAR_SCORE',\n",
    "              'H_QUIET_LINEAR_SCORE', 'Number of Completed Surveys', 'Survey Response Rate Percent']], \n",
    "    df[['STAR_RATING']], test_size=0.2, random_state=0)\n",
    "scaler = StandardScaler()\n",
    "xtrain = scaler.fit_transform(xtrain)\n",
    "xtest = scaler.fit_transform(xtest)\n",
    "\n",
    "# run SVM\n",
    "svc = svm.SVC(kernel='rbf', C=1)\n",
    "svc.fit(xtrain, ytrain)\n",
    "y_pred_svm = svc.predict(xtest)\n",
    "print(classification_report(ytest, y_pred_svm))"
   ]
  },
  {
   "cell_type": "code",
   "execution_count": 42,
   "metadata": {},
   "outputs": [
    {
     "name": "stderr",
     "output_type": "stream",
     "text": [
      "C:\\Users\\mgow\\AppData\\Local\\Continuum\\anaconda3\\lib\\site-packages\\sklearn\\utils\\validation.py:724: DataConversionWarning: A column-vector y was passed when a 1d array was expected. Please change the shape of y to (n_samples, ), for example using ravel().\n",
      "  y = column_or_1d(y, warn=True)\n"
     ]
    },
    {
     "name": "stdout",
     "output_type": "stream",
     "text": [
      "              precision    recall  f1-score   support\n",
      "\n",
      "           1       0.88      0.38      0.53        40\n",
      "           2       0.71      0.62      0.66       143\n",
      "           3       0.72      0.89      0.80       302\n",
      "           4       0.80      0.72      0.76       190\n",
      "           5       0.81      0.55      0.65        31\n",
      "\n",
      "    accuracy                           0.75       706\n",
      "   macro avg       0.78      0.63      0.68       706\n",
      "weighted avg       0.75      0.75      0.74       706\n",
      "\n"
     ]
    }
   ],
   "source": [
    "run_SVM(mean, 'rbf')"
   ]
  },
  {
   "cell_type": "code",
   "execution_count": 43,
   "metadata": {},
   "outputs": [
    {
     "name": "stderr",
     "output_type": "stream",
     "text": [
      "C:\\Users\\mgow\\AppData\\Local\\Continuum\\anaconda3\\lib\\site-packages\\sklearn\\utils\\validation.py:724: DataConversionWarning: A column-vector y was passed when a 1d array was expected. Please change the shape of y to (n_samples, ), for example using ravel().\n",
      "  y = column_or_1d(y, warn=True)\n"
     ]
    },
    {
     "name": "stdout",
     "output_type": "stream",
     "text": [
      "              precision    recall  f1-score   support\n",
      "\n",
      "           1       0.88      0.53      0.66        40\n",
      "           2       0.60      0.35      0.44       143\n",
      "           3       0.60      0.91      0.72       302\n",
      "           4       0.80      0.47      0.59       190\n",
      "           5       0.76      0.61      0.68        31\n",
      "\n",
      "    accuracy                           0.64       706\n",
      "   macro avg       0.72      0.57      0.62       706\n",
      "weighted avg       0.67      0.64      0.62       706\n",
      "\n"
     ]
    }
   ],
   "source": [
    "run_SVM(mean, 'poly')"
   ]
  },
  {
   "cell_type": "code",
   "execution_count": 44,
   "metadata": {},
   "outputs": [
    {
     "name": "stderr",
     "output_type": "stream",
     "text": [
      "C:\\Users\\mgow\\AppData\\Local\\Continuum\\anaconda3\\lib\\site-packages\\sklearn\\utils\\validation.py:724: DataConversionWarning: A column-vector y was passed when a 1d array was expected. Please change the shape of y to (n_samples, ), for example using ravel().\n",
      "  y = column_or_1d(y, warn=True)\n"
     ]
    },
    {
     "name": "stdout",
     "output_type": "stream",
     "text": [
      "              precision    recall  f1-score   support\n",
      "\n",
      "         1.0       0.97      0.75      0.85        40\n",
      "         2.0       0.82      0.73      0.77       143\n",
      "         3.0       0.78      0.89      0.83       302\n",
      "         4.0       0.82      0.76      0.79       190\n",
      "         5.0       0.78      0.68      0.72        31\n",
      "\n",
      "    accuracy                           0.80       706\n",
      "   macro avg       0.83      0.76      0.79       706\n",
      "weighted avg       0.81      0.80      0.80       706\n",
      "\n"
     ]
    }
   ],
   "source": [
    "run_SVM(iterative, 'linear')"
   ]
  },
  {
   "cell_type": "code",
   "execution_count": 45,
   "metadata": {},
   "outputs": [
    {
     "name": "stderr",
     "output_type": "stream",
     "text": [
      "C:\\Users\\mgow\\AppData\\Local\\Continuum\\anaconda3\\lib\\site-packages\\sklearn\\utils\\validation.py:724: DataConversionWarning: A column-vector y was passed when a 1d array was expected. Please change the shape of y to (n_samples, ), for example using ravel().\n",
      "  y = column_or_1d(y, warn=True)\n"
     ]
    },
    {
     "name": "stdout",
     "output_type": "stream",
     "text": [
      "              precision    recall  f1-score   support\n",
      "\n",
      "         1.0       0.89      0.42      0.58        40\n",
      "         2.0       0.71      0.63      0.67       143\n",
      "         3.0       0.72      0.88      0.79       302\n",
      "         4.0       0.79      0.71      0.75       190\n",
      "         5.0       0.78      0.58      0.67        31\n",
      "\n",
      "    accuracy                           0.75       706\n",
      "   macro avg       0.78      0.65      0.69       706\n",
      "weighted avg       0.75      0.75      0.74       706\n",
      "\n"
     ]
    }
   ],
   "source": [
    "run_SVM(iterative, 'rbf')"
   ]
  },
  {
   "cell_type": "code",
   "execution_count": 46,
   "metadata": {},
   "outputs": [
    {
     "name": "stderr",
     "output_type": "stream",
     "text": [
      "C:\\Users\\mgow\\AppData\\Local\\Continuum\\anaconda3\\lib\\site-packages\\sklearn\\utils\\validation.py:724: DataConversionWarning: A column-vector y was passed when a 1d array was expected. Please change the shape of y to (n_samples, ), for example using ravel().\n",
      "  y = column_or_1d(y, warn=True)\n"
     ]
    },
    {
     "name": "stdout",
     "output_type": "stream",
     "text": [
      "              precision    recall  f1-score   support\n",
      "\n",
      "         1.0       0.92      0.57      0.71        40\n",
      "         2.0       0.61      0.37      0.46       143\n",
      "         3.0       0.60      0.89      0.72       302\n",
      "         4.0       0.79      0.49      0.60       190\n",
      "         5.0       0.79      0.61      0.69        31\n",
      "\n",
      "    accuracy                           0.65       706\n",
      "   macro avg       0.74      0.59      0.64       706\n",
      "weighted avg       0.68      0.65      0.63       706\n",
      "\n"
     ]
    }
   ],
   "source": [
    "run_SVM(iterative, 'poly')"
   ]
  },
  {
   "cell_type": "code",
   "execution_count": 47,
   "metadata": {},
   "outputs": [
    {
     "name": "stderr",
     "output_type": "stream",
     "text": [
      "C:\\Users\\mgow\\AppData\\Local\\Continuum\\anaconda3\\lib\\site-packages\\sklearn\\utils\\validation.py:724: DataConversionWarning: A column-vector y was passed when a 1d array was expected. Please change the shape of y to (n_samples, ), for example using ravel().\n",
      "  y = column_or_1d(y, warn=True)\n"
     ]
    },
    {
     "name": "stdout",
     "output_type": "stream",
     "text": [
      "              precision    recall  f1-score   support\n",
      "\n",
      "         1.0       0.97      0.70      0.81        40\n",
      "         2.0       0.80      0.72      0.76       143\n",
      "         3.0       0.77      0.88      0.83       302\n",
      "         4.0       0.81      0.76      0.78       190\n",
      "         5.0       0.74      0.65      0.69        31\n",
      "\n",
      "    accuracy                           0.80       706\n",
      "   macro avg       0.82      0.74      0.77       706\n",
      "weighted avg       0.80      0.80      0.79       706\n",
      "\n"
     ]
    }
   ],
   "source": [
    "run_SVM(knn, 'linear')"
   ]
  },
  {
   "cell_type": "code",
   "execution_count": 48,
   "metadata": {},
   "outputs": [
    {
     "name": "stderr",
     "output_type": "stream",
     "text": [
      "C:\\Users\\mgow\\AppData\\Local\\Continuum\\anaconda3\\lib\\site-packages\\sklearn\\utils\\validation.py:724: DataConversionWarning: A column-vector y was passed when a 1d array was expected. Please change the shape of y to (n_samples, ), for example using ravel().\n",
      "  y = column_or_1d(y, warn=True)\n"
     ]
    },
    {
     "name": "stdout",
     "output_type": "stream",
     "text": [
      "              precision    recall  f1-score   support\n",
      "\n",
      "         1.0       0.88      0.38      0.53        40\n",
      "         2.0       0.71      0.63      0.67       143\n",
      "         3.0       0.72      0.89      0.80       302\n",
      "         4.0       0.81      0.70      0.75       190\n",
      "         5.0       0.73      0.61      0.67        31\n",
      "\n",
      "    accuracy                           0.75       706\n",
      "   macro avg       0.77      0.64      0.68       706\n",
      "weighted avg       0.75      0.75      0.74       706\n",
      "\n"
     ]
    }
   ],
   "source": [
    "run_SVM(knn, 'rbf')"
   ]
  },
  {
   "cell_type": "code",
   "execution_count": 49,
   "metadata": {},
   "outputs": [
    {
     "name": "stderr",
     "output_type": "stream",
     "text": [
      "C:\\Users\\mgow\\AppData\\Local\\Continuum\\anaconda3\\lib\\site-packages\\sklearn\\utils\\validation.py:724: DataConversionWarning: A column-vector y was passed when a 1d array was expected. Please change the shape of y to (n_samples, ), for example using ravel().\n",
      "  y = column_or_1d(y, warn=True)\n"
     ]
    },
    {
     "name": "stdout",
     "output_type": "stream",
     "text": [
      "              precision    recall  f1-score   support\n",
      "\n",
      "         1.0       0.84      0.53      0.65        40\n",
      "         2.0       0.58      0.35      0.44       143\n",
      "         3.0       0.60      0.90      0.72       302\n",
      "         4.0       0.80      0.49      0.61       190\n",
      "         5.0       0.79      0.61      0.69        31\n",
      "\n",
      "    accuracy                           0.64       706\n",
      "   macro avg       0.72      0.58      0.62       706\n",
      "weighted avg       0.67      0.64      0.63       706\n",
      "\n"
     ]
    }
   ],
   "source": [
    "run_SVM(knn, 'poly')"
   ]
  },
  {
   "cell_type": "markdown",
   "metadata": {},
   "source": [
    "The filled datasets also performed roughly the same, with a linear kernel achieving accuracy of .80, rbf .75, and poly .64-.65. "
   ]
  }
 ],
 "metadata": {
  "kernelspec": {
   "display_name": "Python 3",
   "language": "python",
   "name": "python3"
  },
  "language_info": {
   "codemirror_mode": {
    "name": "ipython",
    "version": 3
   },
   "file_extension": ".py",
   "mimetype": "text/x-python",
   "name": "python",
   "nbconvert_exporter": "python",
   "pygments_lexer": "ipython3",
   "version": "3.7.1"
  }
 },
 "nbformat": 4,
 "nbformat_minor": 2
}
