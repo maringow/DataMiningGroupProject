{
 "cells": [
  {
   "cell_type": "markdown",
   "metadata": {},
   "source": [
    "## Import Latest Cleaned Data Set"
   ]
  },
  {
   "cell_type": "code",
   "execution_count": 1,
   "metadata": {},
   "outputs": [],
   "source": [
    "#Import required packages\n",
    "import pandas as pd\n",
    "import numpy as np\n",
    "from sklearn.ensemble import RandomForestRegressor\n",
    "from sklearn.preprocessing import StandardScaler\n",
    "import matplotlib.pyplot as plt"
   ]
  },
  {
   "cell_type": "code",
   "execution_count": 2,
   "metadata": {},
   "outputs": [],
   "source": [
    "#Import data\n",
    "df_mean = pd.read_csv('hospitaldata_mean.csv.txt')  # filled with mean values\n",
    "df_iterative = pd.read_csv('hospitaldata_iterative.csv.txt')  # filled with linear regression\n",
    "df_knn = pd.read_csv('hospitaldata_knn.csv.txt')  # filled with knn"
   ]
  },
  {
   "cell_type": "code",
   "execution_count": 3,
   "metadata": {
    "scrolled": false
   },
   "outputs": [
    {
     "data": {
      "text/html": [
       "<div>\n",
       "<style scoped>\n",
       "    .dataframe tbody tr th:only-of-type {\n",
       "        vertical-align: middle;\n",
       "    }\n",
       "\n",
       "    .dataframe tbody tr th {\n",
       "        vertical-align: top;\n",
       "    }\n",
       "\n",
       "    .dataframe thead th {\n",
       "        text-align: right;\n",
       "    }\n",
       "</style>\n",
       "<table border=\"1\" class=\"dataframe\">\n",
       "  <thead>\n",
       "    <tr style=\"text-align: right;\">\n",
       "      <th></th>\n",
       "      <th>Unnamed: 0</th>\n",
       "      <th>Unnamed: 0.1</th>\n",
       "      <th>Provider ID</th>\n",
       "      <th>COMP_HIP_KNEE</th>\n",
       "      <th>MORT_30_AMI</th>\n",
       "      <th>MORT_30_CABG</th>\n",
       "      <th>MORT_30_COPD</th>\n",
       "      <th>MORT_30_HF</th>\n",
       "      <th>MORT_30_PN</th>\n",
       "      <th>MORT_30_STK</th>\n",
       "      <th>...</th>\n",
       "      <th>H_QUIET_LINEAR_SCORE</th>\n",
       "      <th>H_RECMND_LINEAR_SCORE</th>\n",
       "      <th>Hospital Name</th>\n",
       "      <th>Address</th>\n",
       "      <th>City</th>\n",
       "      <th>State</th>\n",
       "      <th>ZIP Code</th>\n",
       "      <th>Number of Completed Surveys</th>\n",
       "      <th>Survey Response Rate Percent</th>\n",
       "      <th>STAR_RATING</th>\n",
       "    </tr>\n",
       "  </thead>\n",
       "  <tbody>\n",
       "    <tr>\n",
       "      <th>0</th>\n",
       "      <td>0</td>\n",
       "      <td>0</td>\n",
       "      <td>10001</td>\n",
       "      <td>3.0</td>\n",
       "      <td>14.500000</td>\n",
       "      <td>4.500000</td>\n",
       "      <td>8.9</td>\n",
       "      <td>12.5</td>\n",
       "      <td>16.2</td>\n",
       "      <td>13.7</td>\n",
       "      <td>...</td>\n",
       "      <td>86</td>\n",
       "      <td>84</td>\n",
       "      <td>SOUTHEAST ALABAMA MEDICAL CENTER</td>\n",
       "      <td>1108 ROSS CLARK CIRCLE</td>\n",
       "      <td>DOTHAN</td>\n",
       "      <td>AL</td>\n",
       "      <td>36301</td>\n",
       "      <td>506</td>\n",
       "      <td>21</td>\n",
       "      <td>2</td>\n",
       "    </tr>\n",
       "    <tr>\n",
       "      <th>1</th>\n",
       "      <td>1</td>\n",
       "      <td>1</td>\n",
       "      <td>10005</td>\n",
       "      <td>3.0</td>\n",
       "      <td>15.500000</td>\n",
       "      <td>3.230405</td>\n",
       "      <td>10.9</td>\n",
       "      <td>15.3</td>\n",
       "      <td>20.8</td>\n",
       "      <td>15.7</td>\n",
       "      <td>...</td>\n",
       "      <td>85</td>\n",
       "      <td>88</td>\n",
       "      <td>MARSHALL MEDICAL CENTER SOUTH</td>\n",
       "      <td>2505 U S HIGHWAY 431 NORTH</td>\n",
       "      <td>BOAZ</td>\n",
       "      <td>AL</td>\n",
       "      <td>35957</td>\n",
       "      <td>1135</td>\n",
       "      <td>34</td>\n",
       "      <td>3</td>\n",
       "    </tr>\n",
       "    <tr>\n",
       "      <th>2</th>\n",
       "      <td>2</td>\n",
       "      <td>2</td>\n",
       "      <td>10006</td>\n",
       "      <td>3.6</td>\n",
       "      <td>14.900000</td>\n",
       "      <td>3.200000</td>\n",
       "      <td>8.8</td>\n",
       "      <td>13.2</td>\n",
       "      <td>17.2</td>\n",
       "      <td>17.2</td>\n",
       "      <td>...</td>\n",
       "      <td>82</td>\n",
       "      <td>84</td>\n",
       "      <td>ELIZA COFFEE MEMORIAL HOSPITAL</td>\n",
       "      <td>205 MARENGO STREET</td>\n",
       "      <td>FLORENCE</td>\n",
       "      <td>AL</td>\n",
       "      <td>35631</td>\n",
       "      <td>579</td>\n",
       "      <td>22</td>\n",
       "      <td>2</td>\n",
       "    </tr>\n",
       "    <tr>\n",
       "      <th>3</th>\n",
       "      <td>3</td>\n",
       "      <td>3</td>\n",
       "      <td>10007</td>\n",
       "      <td>2.8</td>\n",
       "      <td>13.172227</td>\n",
       "      <td>3.230405</td>\n",
       "      <td>8.3</td>\n",
       "      <td>13.3</td>\n",
       "      <td>21.6</td>\n",
       "      <td>15.9</td>\n",
       "      <td>...</td>\n",
       "      <td>86</td>\n",
       "      <td>85</td>\n",
       "      <td>MIZELL MEMORIAL HOSPITAL</td>\n",
       "      <td>702 N MAIN ST</td>\n",
       "      <td>OPP</td>\n",
       "      <td>AL</td>\n",
       "      <td>36467</td>\n",
       "      <td>185</td>\n",
       "      <td>27</td>\n",
       "      <td>2</td>\n",
       "    </tr>\n",
       "    <tr>\n",
       "      <th>4</th>\n",
       "      <td>4</td>\n",
       "      <td>4</td>\n",
       "      <td>10011</td>\n",
       "      <td>2.6</td>\n",
       "      <td>14.100000</td>\n",
       "      <td>3.700000</td>\n",
       "      <td>8.9</td>\n",
       "      <td>13.1</td>\n",
       "      <td>16.1</td>\n",
       "      <td>12.4</td>\n",
       "      <td>...</td>\n",
       "      <td>81</td>\n",
       "      <td>86</td>\n",
       "      <td>ST VINCENT'S EAST</td>\n",
       "      <td>50 MEDICAL PARK EAST DRIVE</td>\n",
       "      <td>BIRMINGHAM</td>\n",
       "      <td>AL</td>\n",
       "      <td>35235</td>\n",
       "      <td>2193</td>\n",
       "      <td>33</td>\n",
       "      <td>3</td>\n",
       "    </tr>\n",
       "  </tbody>\n",
       "</table>\n",
       "<p>5 rows × 40 columns</p>\n",
       "</div>"
      ],
      "text/plain": [
       "   Unnamed: 0  Unnamed: 0.1 Provider ID  COMP_HIP_KNEE  MORT_30_AMI  \\\n",
       "0           0             0       10001            3.0    14.500000   \n",
       "1           1             1       10005            3.0    15.500000   \n",
       "2           2             2       10006            3.6    14.900000   \n",
       "3           3             3       10007            2.8    13.172227   \n",
       "4           4             4       10011            2.6    14.100000   \n",
       "\n",
       "   MORT_30_CABG  MORT_30_COPD  MORT_30_HF  MORT_30_PN  MORT_30_STK  \\\n",
       "0      4.500000           8.9        12.5        16.2         13.7   \n",
       "1      3.230405          10.9        15.3        20.8         15.7   \n",
       "2      3.200000           8.8        13.2        17.2         17.2   \n",
       "3      3.230405           8.3        13.3        21.6         15.9   \n",
       "4      3.700000           8.9        13.1        16.1         12.4   \n",
       "\n",
       "      ...       H_QUIET_LINEAR_SCORE  H_RECMND_LINEAR_SCORE  \\\n",
       "0     ...                         86                     84   \n",
       "1     ...                         85                     88   \n",
       "2     ...                         82                     84   \n",
       "3     ...                         86                     85   \n",
       "4     ...                         81                     86   \n",
       "\n",
       "                      Hospital Name                     Address        City  \\\n",
       "0  SOUTHEAST ALABAMA MEDICAL CENTER      1108 ROSS CLARK CIRCLE      DOTHAN   \n",
       "1     MARSHALL MEDICAL CENTER SOUTH  2505 U S HIGHWAY 431 NORTH        BOAZ   \n",
       "2    ELIZA COFFEE MEMORIAL HOSPITAL          205 MARENGO STREET    FLORENCE   \n",
       "3          MIZELL MEMORIAL HOSPITAL               702 N MAIN ST         OPP   \n",
       "4                 ST VINCENT'S EAST  50 MEDICAL PARK EAST DRIVE  BIRMINGHAM   \n",
       "\n",
       "   State  ZIP Code  Number of Completed Surveys  Survey Response Rate Percent  \\\n",
       "0     AL     36301                          506                            21   \n",
       "1     AL     35957                         1135                            34   \n",
       "2     AL     35631                          579                            22   \n",
       "3     AL     36467                          185                            27   \n",
       "4     AL     35235                         2193                            33   \n",
       "\n",
       "   STAR_RATING  \n",
       "0            2  \n",
       "1            3  \n",
       "2            2  \n",
       "3            2  \n",
       "4            3  \n",
       "\n",
       "[5 rows x 40 columns]"
      ]
     },
     "execution_count": 3,
     "metadata": {},
     "output_type": "execute_result"
    }
   ],
   "source": [
    "df_mean.head()"
   ]
  },
  {
   "cell_type": "code",
   "execution_count": 4,
   "metadata": {},
   "outputs": [],
   "source": [
    "df_mean.drop([\"Unnamed: 0\", \"Unnamed: 0.1\", \"Provider ID\", \"Hospital Name\", \"Address\", \"City\", \"State\", \"ZIP Code\"], \\\n",
    "             axis = 1, inplace = True)\n",
    "df_iterative.drop([\"Unnamed: 0\", \"Unnamed: 0.1\", \"Provider ID\", \"Hospital Name\", \"Address\", \"City\", \"State\", \"ZIP Code\"], \\\n",
    "             axis = 1, inplace = True)\n",
    "df_knn.drop([\"Unnamed: 0\", \"Unnamed: 0.1\", \"Provider ID\", \"Hospital Name\", \"Address\", \"City\", \"State\", \"ZIP Code\"], \\\n",
    "             axis = 1, inplace = True)"
   ]
  },
  {
   "cell_type": "code",
   "execution_count": 5,
   "metadata": {
    "scrolled": true
   },
   "outputs": [
    {
     "data": {
      "text/html": [
       "<div>\n",
       "<style scoped>\n",
       "    .dataframe tbody tr th:only-of-type {\n",
       "        vertical-align: middle;\n",
       "    }\n",
       "\n",
       "    .dataframe tbody tr th {\n",
       "        vertical-align: top;\n",
       "    }\n",
       "\n",
       "    .dataframe thead th {\n",
       "        text-align: right;\n",
       "    }\n",
       "</style>\n",
       "<table border=\"1\" class=\"dataframe\">\n",
       "  <thead>\n",
       "    <tr style=\"text-align: right;\">\n",
       "      <th></th>\n",
       "      <th>COMP_HIP_KNEE</th>\n",
       "      <th>MORT_30_AMI</th>\n",
       "      <th>MORT_30_CABG</th>\n",
       "      <th>MORT_30_COPD</th>\n",
       "      <th>MORT_30_HF</th>\n",
       "      <th>MORT_30_PN</th>\n",
       "      <th>MORT_30_STK</th>\n",
       "      <th>PSI_10_POST_KIDNEY</th>\n",
       "      <th>PSI_11_POST_RESP</th>\n",
       "      <th>PSI_12_POSTOP_PULMEMB_DVT</th>\n",
       "      <th>...</th>\n",
       "      <th>H_COMP_3_LINEAR_SCORE</th>\n",
       "      <th>H_COMP_5_LINEAR_SCORE</th>\n",
       "      <th>H_COMP_6_LINEAR_SCORE</th>\n",
       "      <th>H_COMP_7_LINEAR_SCORE</th>\n",
       "      <th>H_HSP_RATING_LINEAR_SCORE</th>\n",
       "      <th>H_QUIET_LINEAR_SCORE</th>\n",
       "      <th>H_RECMND_LINEAR_SCORE</th>\n",
       "      <th>Number of Completed Surveys</th>\n",
       "      <th>Survey Response Rate Percent</th>\n",
       "      <th>STAR_RATING</th>\n",
       "    </tr>\n",
       "  </thead>\n",
       "  <tbody>\n",
       "    <tr>\n",
       "      <th>0</th>\n",
       "      <td>3.0</td>\n",
       "      <td>14.500000</td>\n",
       "      <td>4.500000</td>\n",
       "      <td>8.9</td>\n",
       "      <td>12.5</td>\n",
       "      <td>16.2</td>\n",
       "      <td>13.7</td>\n",
       "      <td>0.65</td>\n",
       "      <td>6.02</td>\n",
       "      <td>5.57</td>\n",
       "      <td>...</td>\n",
       "      <td>75.0</td>\n",
       "      <td>70.0</td>\n",
       "      <td>85.0</td>\n",
       "      <td>79.0</td>\n",
       "      <td>83.0</td>\n",
       "      <td>86.0</td>\n",
       "      <td>84.0</td>\n",
       "      <td>506.0</td>\n",
       "      <td>21.0</td>\n",
       "      <td>2.0</td>\n",
       "    </tr>\n",
       "    <tr>\n",
       "      <th>1</th>\n",
       "      <td>3.0</td>\n",
       "      <td>15.500000</td>\n",
       "      <td>3.996645</td>\n",
       "      <td>10.9</td>\n",
       "      <td>15.3</td>\n",
       "      <td>20.8</td>\n",
       "      <td>15.7</td>\n",
       "      <td>1.10</td>\n",
       "      <td>12.17</td>\n",
       "      <td>3.17</td>\n",
       "      <td>...</td>\n",
       "      <td>85.0</td>\n",
       "      <td>81.0</td>\n",
       "      <td>88.0</td>\n",
       "      <td>81.0</td>\n",
       "      <td>88.0</td>\n",
       "      <td>85.0</td>\n",
       "      <td>88.0</td>\n",
       "      <td>1135.0</td>\n",
       "      <td>34.0</td>\n",
       "      <td>3.0</td>\n",
       "    </tr>\n",
       "    <tr>\n",
       "      <th>2</th>\n",
       "      <td>3.6</td>\n",
       "      <td>14.900000</td>\n",
       "      <td>3.200000</td>\n",
       "      <td>8.8</td>\n",
       "      <td>13.2</td>\n",
       "      <td>17.2</td>\n",
       "      <td>17.2</td>\n",
       "      <td>1.28</td>\n",
       "      <td>7.19</td>\n",
       "      <td>3.31</td>\n",
       "      <td>...</td>\n",
       "      <td>83.0</td>\n",
       "      <td>76.0</td>\n",
       "      <td>83.0</td>\n",
       "      <td>80.0</td>\n",
       "      <td>84.0</td>\n",
       "      <td>82.0</td>\n",
       "      <td>84.0</td>\n",
       "      <td>579.0</td>\n",
       "      <td>22.0</td>\n",
       "      <td>2.0</td>\n",
       "    </tr>\n",
       "    <tr>\n",
       "      <th>3</th>\n",
       "      <td>2.8</td>\n",
       "      <td>14.439599</td>\n",
       "      <td>3.997644</td>\n",
       "      <td>8.3</td>\n",
       "      <td>13.3</td>\n",
       "      <td>21.6</td>\n",
       "      <td>15.9</td>\n",
       "      <td>1.30</td>\n",
       "      <td>9.46</td>\n",
       "      <td>4.76</td>\n",
       "      <td>...</td>\n",
       "      <td>84.0</td>\n",
       "      <td>79.0</td>\n",
       "      <td>85.0</td>\n",
       "      <td>80.0</td>\n",
       "      <td>85.0</td>\n",
       "      <td>86.0</td>\n",
       "      <td>85.0</td>\n",
       "      <td>185.0</td>\n",
       "      <td>27.0</td>\n",
       "      <td>2.0</td>\n",
       "    </tr>\n",
       "    <tr>\n",
       "      <th>4</th>\n",
       "      <td>2.6</td>\n",
       "      <td>14.100000</td>\n",
       "      <td>3.700000</td>\n",
       "      <td>8.9</td>\n",
       "      <td>13.1</td>\n",
       "      <td>16.1</td>\n",
       "      <td>12.4</td>\n",
       "      <td>1.74</td>\n",
       "      <td>15.22</td>\n",
       "      <td>4.53</td>\n",
       "      <td>...</td>\n",
       "      <td>83.0</td>\n",
       "      <td>77.0</td>\n",
       "      <td>86.0</td>\n",
       "      <td>82.0</td>\n",
       "      <td>87.0</td>\n",
       "      <td>81.0</td>\n",
       "      <td>86.0</td>\n",
       "      <td>2193.0</td>\n",
       "      <td>33.0</td>\n",
       "      <td>3.0</td>\n",
       "    </tr>\n",
       "  </tbody>\n",
       "</table>\n",
       "<p>5 rows × 32 columns</p>\n",
       "</div>"
      ],
      "text/plain": [
       "   COMP_HIP_KNEE  MORT_30_AMI  MORT_30_CABG  MORT_30_COPD  MORT_30_HF  \\\n",
       "0            3.0    14.500000      4.500000           8.9        12.5   \n",
       "1            3.0    15.500000      3.996645          10.9        15.3   \n",
       "2            3.6    14.900000      3.200000           8.8        13.2   \n",
       "3            2.8    14.439599      3.997644           8.3        13.3   \n",
       "4            2.6    14.100000      3.700000           8.9        13.1   \n",
       "\n",
       "   MORT_30_PN  MORT_30_STK  PSI_10_POST_KIDNEY  PSI_11_POST_RESP  \\\n",
       "0        16.2         13.7                0.65              6.02   \n",
       "1        20.8         15.7                1.10             12.17   \n",
       "2        17.2         17.2                1.28              7.19   \n",
       "3        21.6         15.9                1.30              9.46   \n",
       "4        16.1         12.4                1.74             15.22   \n",
       "\n",
       "   PSI_12_POSTOP_PULMEMB_DVT     ...       H_COMP_3_LINEAR_SCORE  \\\n",
       "0                       5.57     ...                        75.0   \n",
       "1                       3.17     ...                        85.0   \n",
       "2                       3.31     ...                        83.0   \n",
       "3                       4.76     ...                        84.0   \n",
       "4                       4.53     ...                        83.0   \n",
       "\n",
       "   H_COMP_5_LINEAR_SCORE  H_COMP_6_LINEAR_SCORE  H_COMP_7_LINEAR_SCORE  \\\n",
       "0                   70.0                   85.0                   79.0   \n",
       "1                   81.0                   88.0                   81.0   \n",
       "2                   76.0                   83.0                   80.0   \n",
       "3                   79.0                   85.0                   80.0   \n",
       "4                   77.0                   86.0                   82.0   \n",
       "\n",
       "   H_HSP_RATING_LINEAR_SCORE  H_QUIET_LINEAR_SCORE  H_RECMND_LINEAR_SCORE  \\\n",
       "0                       83.0                  86.0                   84.0   \n",
       "1                       88.0                  85.0                   88.0   \n",
       "2                       84.0                  82.0                   84.0   \n",
       "3                       85.0                  86.0                   85.0   \n",
       "4                       87.0                  81.0                   86.0   \n",
       "\n",
       "   Number of Completed Surveys  Survey Response Rate Percent  STAR_RATING  \n",
       "0                        506.0                          21.0          2.0  \n",
       "1                       1135.0                          34.0          3.0  \n",
       "2                        579.0                          22.0          2.0  \n",
       "3                        185.0                          27.0          2.0  \n",
       "4                       2193.0                          33.0          3.0  \n",
       "\n",
       "[5 rows x 32 columns]"
      ]
     },
     "execution_count": 5,
     "metadata": {},
     "output_type": "execute_result"
    }
   ],
   "source": [
    "df_iterative.head()"
   ]
  },
  {
   "cell_type": "code",
   "execution_count": 6,
   "metadata": {},
   "outputs": [],
   "source": [
    "#Drop Star Rating given this is a Regression Model\n",
    "df_mean.drop([\"STAR_RATING\"], axis = 1, inplace = True)\n",
    "df_iterative.drop([\"STAR_RATING\"], axis = 1, inplace = True)\n",
    "df_knn.drop([\"STAR_RATING\"], axis = 1, inplace = True)"
   ]
  },
  {
   "cell_type": "markdown",
   "metadata": {},
   "source": [
    "## Model Development"
   ]
  },
  {
   "cell_type": "markdown",
   "metadata": {},
   "source": [
    "<b>Note:</b> The following exercie was performed on each of our data sets, however for the purposes for further analysis we chose the iterative data set based on our iniital modeling results."
   ]
  },
  {
   "cell_type": "markdown",
   "metadata": {},
   "source": [
    "### Iterative Imputation Data Set with Full Data Set"
   ]
  },
  {
   "cell_type": "markdown",
   "metadata": {},
   "source": [
    "#### Set Up Random Forest Regression Model"
   ]
  },
  {
   "cell_type": "code",
   "execution_count": 7,
   "metadata": {},
   "outputs": [],
   "source": [
    "from sklearn.ensemble import RandomForestRegressor\n",
    "rf = RandomForestRegressor(random_state=0, max_depth=4)"
   ]
  },
  {
   "cell_type": "markdown",
   "metadata": {},
   "source": [
    "#### Set Up X and Y / Train and Test Data Sets"
   ]
  },
  {
   "cell_type": "code",
   "execution_count": 8,
   "metadata": {},
   "outputs": [],
   "source": [
    "dataset = df_iterative\n",
    "y = dataset.loc[:,[\"H_RECMND_LINEAR_SCORE\"]]\n",
    "x = dataset.loc[:,dataset.columns != \"H_RECMND_LINEAR_SCORE\"]"
   ]
  },
  {
   "cell_type": "code",
   "execution_count": 9,
   "metadata": {},
   "outputs": [],
   "source": [
    "#Define train_x and train_y\n",
    "from sklearn.model_selection import train_test_split\n",
    "x_train,x_test,y_train,y_test=train_test_split(x,y,test_size=0.2,random_state=0)"
   ]
  },
  {
   "cell_type": "markdown",
   "metadata": {},
   "source": [
    "#### Run Initial Model"
   ]
  },
  {
   "cell_type": "code",
   "execution_count": 10,
   "metadata": {
    "scrolled": true
   },
   "outputs": [
    {
     "name": "stderr",
     "output_type": "stream",
     "text": [
      "C:\\Users\\zainj\\Anaconda3\\envs\\py37\\lib\\site-packages\\sklearn\\ensemble\\forest.py:246: FutureWarning: The default value of n_estimators will change from 10 in version 0.20 to 100 in 0.22.\n",
      "  \"10 in version 0.20 to 100 in 0.22.\", FutureWarning)\n",
      "C:\\Users\\zainj\\Anaconda3\\envs\\py37\\lib\\site-packages\\ipykernel_launcher.py:1: DataConversionWarning: A column-vector y was passed when a 1d array was expected. Please change the shape of y to (n_samples,), for example using ravel().\n",
      "  \"\"\"Entry point for launching an IPython kernel.\n"
     ]
    }
   ],
   "source": [
    "rf.fit(x_train, y_train)\n",
    "y_pred = rf.predict(x_test)"
   ]
  },
  {
   "cell_type": "markdown",
   "metadata": {},
   "source": [
    "####  Evaluate Outputs"
   ]
  },
  {
   "cell_type": "code",
   "execution_count": 11,
   "metadata": {
    "scrolled": true
   },
   "outputs": [
    {
     "data": {
      "text/plain": [
       "<matplotlib.collections.PathCollection at 0x178d1f2b208>"
      ]
     },
     "execution_count": 11,
     "metadata": {},
     "output_type": "execute_result"
    },
    {
     "data": {
      "image/png": "[encoded data removed]",
      "text/plain": [
       "<Figure size 432x288 with 1 Axes>"
      ]
     },
     "metadata": {
      "needs_background": "light"
     },
     "output_type": "display_data"
    }
   ],
   "source": [
    "#look at x vs. y_test\n",
    "plt.scatter(x = range(x_test.shape[0]), y = y_test)"
   ]
  },
  {
   "cell_type": "code",
   "execution_count": 12,
   "metadata": {},
   "outputs": [
    {
     "data": {
      "text/plain": [
       "<matplotlib.collections.PathCollection at 0x178d1ec99b0>"
      ]
     },
     "execution_count": 12,
     "metadata": {},
     "output_type": "execute_result"
    },
    {
     "data": {
      "image/png": "[encoded data removed]",
      "text/plain": [
       "<Figure size 432x288 with 1 Axes>"
      ]
     },
     "metadata": {
      "needs_background": "light"
     },
     "output_type": "display_data"
    }
   ],
   "source": [
    "#look at x vs. y_pred\n",
    "plt.scatter(x = range(x_test.shape[0]), y = y_pred)"
   ]
  },
  {
   "cell_type": "code",
   "execution_count": 13,
   "metadata": {},
   "outputs": [
    {
     "data": {
      "text/plain": [
       "<matplotlib.collections.PathCollection at 0x178d2375588>"
      ]
     },
     "execution_count": 13,
     "metadata": {},
     "output_type": "execute_result"
    },
    {
     "data": {
      "image/png": "[encoded data removed]",
      "text/plain": [
       "<Figure size 432x288 with 1 Axes>"
      ]
     },
     "metadata": {
      "needs_background": "light"
     },
     "output_type": "display_data"
    }
   ],
   "source": [
    "#look at y_test vs. y_pred\n",
    "plt.scatter(x = y_test, y = y_pred)"
   ]
  },
  {
   "cell_type": "code",
   "execution_count": 14,
   "metadata": {},
   "outputs": [
    {
     "data": {
      "text/plain": [
       "<matplotlib.collections.PathCollection at 0x178d2411ef0>"
      ]
     },
     "execution_count": 14,
     "metadata": {},
     "output_type": "execute_result"
    },
    {
     "data": {
      "image/png": "[encoded data removed]",
      "text/plain": [
       "<Figure size 432x288 with 1 Axes>"
      ]
     },
     "metadata": {
      "needs_background": "light"
     },
     "output_type": "display_data"
    }
   ],
   "source": [
    "#look at residuals\n",
    "resids = y_test[\"H_RECMND_LINEAR_SCORE\"] - y_pred\n",
    "\n",
    "plt.scatter(x = range(x_test.shape[0]), y = resids)"
   ]
  },
  {
   "cell_type": "code",
   "execution_count": 15,
   "metadata": {
    "scrolled": true
   },
   "outputs": [
    {
     "data": {
      "image/png": "[encoded data removed]",
      "text/plain": [
       "<Figure size 432x288 with 1 Axes>"
      ]
     },
     "metadata": {
      "needs_background": "light"
     },
     "output_type": "display_data"
    }
   ],
   "source": [
    "# Create a pd.Series of features importances\n",
    "importances_rf = pd.Series(rf.feature_importances_,\n",
    "index = x.columns)\n",
    "# Sort importances_rf\n",
    "sorted_importances_rf = importances_rf.sort_values()\n",
    "# Make a horizontal bar plot\n",
    "sorted_importances_rf.plot(kind='barh', color='blue')\n",
    "plt.show()"
   ]
  },
  {
   "cell_type": "markdown",
   "metadata": {},
   "source": [
    "####  Perform Cross Validation of Model"
   ]
  },
  {
   "cell_type": "markdown",
   "metadata": {},
   "source": [
    "##### Test RMSE"
   ]
  },
  {
   "cell_type": "code",
   "execution_count": 16,
   "metadata": {},
   "outputs": [
    {
     "name": "stdout",
     "output_type": "stream",
     "text": [
      "Test RMSE: 1.41057\n"
     ]
    }
   ],
   "source": [
    "from sklearn.metrics import mean_squared_error as MSE\n",
    "mse = MSE(y_test, y_pred)\n",
    "rmse = mse**(1/2)\n",
    "\n",
    "# Compute mse_dt\n",
    "mse_dt = MSE(y_test, y_pred)\n",
    "\n",
    "# Compute rmse_dt\n",
    "rmse_dt = mse_dt**(1/2)\n",
    "\n",
    "# Print rmse_dt\n",
    "print(\"Test RMSE: {:.5f}\".format(rmse_dt))"
   ]
  },
  {
   "cell_type": "markdown",
   "metadata": {},
   "source": [
    "##### CV RMSE"
   ]
  },
  {
   "cell_type": "code",
   "execution_count": 17,
   "metadata": {},
   "outputs": [
    {
     "name": "stdout",
     "output_type": "stream",
     "text": [
      "CV RMSE: 1.43683\n"
     ]
    }
   ],
   "source": [
    "from sklearn.model_selection import cross_val_score\n",
    "# Compute the array containing the 10-folds CV MSEs\n",
    "MSE_CV_scores = - cross_val_score(rf, x_train, y_train, cv=10, \n",
    "                                  scoring='neg_mean_squared_error', \n",
    "                                  n_jobs=-1) \n",
    "\n",
    "# Compute the 10-folds CV RMSE\n",
    "RMSE_CV = (MSE_CV_scores.mean())**(1/2)\n",
    "\n",
    "# Print RMSE_CV\n",
    "print(\"CV RMSE: {:.5f}\".format(RMSE_CV))"
   ]
  },
  {
   "cell_type": "markdown",
   "metadata": {},
   "source": [
    "##### Train MSE"
   ]
  },
  {
   "cell_type": "code",
   "execution_count": 18,
   "metadata": {
    "scrolled": true
   },
   "outputs": [
    {
     "name": "stdout",
     "output_type": "stream",
     "text": [
      "Train RMSE: 1.38119\n"
     ]
    }
   ],
   "source": [
    "# Predict the labels of the training set\n",
    "y_pred_train = rf.predict(x_train)\n",
    "\n",
    "# Evaluate the training set RMSE of dt\n",
    "RMSE_train = (MSE(y_train, y_pred_train))**(1/2)\n",
    "\n",
    "# Print RMSE_train\n",
    "print('Train RMSE: {:.5f}'.format(RMSE_train))"
   ]
  },
  {
   "cell_type": "markdown",
   "metadata": {},
   "source": [
    "####  Analysis"
   ]
  },
  {
   "cell_type": "markdown",
   "metadata": {},
   "source": [
    "Based on the results of our cross-validation, our model is likely overfitting. This may be due to our relatively small data set size and/or our use of a large number of features. For further analysis, we recommend feature engineering to see if we can reduce our overfitting problem."
   ]
  },
  {
   "cell_type": "markdown",
   "metadata": {},
   "source": [
    "### Iterative Imputation Data Set with Modified Data Set to Reduce Overfitting"
   ]
  },
  {
   "cell_type": "markdown",
   "metadata": {},
   "source": [
    "#### Set Up Random Forest Regression Model"
   ]
  },
  {
   "cell_type": "code",
   "execution_count": 19,
   "metadata": {},
   "outputs": [],
   "source": [
    "from sklearn.ensemble import RandomForestRegressor\n",
    "rf = RandomForestRegressor(random_state=0, max_depth = 4)"
   ]
  },
  {
   "cell_type": "code",
   "execution_count": 20,
   "metadata": {},
   "outputs": [
    {
     "data": {
      "text/html": [
       "<div>\n",
       "<style scoped>\n",
       "    .dataframe tbody tr th:only-of-type {\n",
       "        vertical-align: middle;\n",
       "    }\n",
       "\n",
       "    .dataframe tbody tr th {\n",
       "        vertical-align: top;\n",
       "    }\n",
       "\n",
       "    .dataframe thead th {\n",
       "        text-align: right;\n",
       "    }\n",
       "</style>\n",
       "<table border=\"1\" class=\"dataframe\">\n",
       "  <thead>\n",
       "    <tr style=\"text-align: right;\">\n",
       "      <th></th>\n",
       "      <th>COMP_HIP_KNEE</th>\n",
       "      <th>MORT_30_AMI</th>\n",
       "      <th>MORT_30_CABG</th>\n",
       "      <th>MORT_30_COPD</th>\n",
       "      <th>MORT_30_HF</th>\n",
       "      <th>MORT_30_PN</th>\n",
       "      <th>MORT_30_STK</th>\n",
       "      <th>PSI_10_POST_KIDNEY</th>\n",
       "      <th>PSI_11_POST_RESP</th>\n",
       "      <th>PSI_12_POSTOP_PULMEMB_DVT</th>\n",
       "      <th>...</th>\n",
       "      <th>H_COMP_2_LINEAR_SCORE</th>\n",
       "      <th>H_COMP_3_LINEAR_SCORE</th>\n",
       "      <th>H_COMP_5_LINEAR_SCORE</th>\n",
       "      <th>H_COMP_6_LINEAR_SCORE</th>\n",
       "      <th>H_COMP_7_LINEAR_SCORE</th>\n",
       "      <th>H_HSP_RATING_LINEAR_SCORE</th>\n",
       "      <th>H_QUIET_LINEAR_SCORE</th>\n",
       "      <th>H_RECMND_LINEAR_SCORE</th>\n",
       "      <th>Number of Completed Surveys</th>\n",
       "      <th>Survey Response Rate Percent</th>\n",
       "    </tr>\n",
       "  </thead>\n",
       "  <tbody>\n",
       "    <tr>\n",
       "      <th>0</th>\n",
       "      <td>3.0</td>\n",
       "      <td>14.500000</td>\n",
       "      <td>4.500000</td>\n",
       "      <td>8.9</td>\n",
       "      <td>12.5</td>\n",
       "      <td>16.2</td>\n",
       "      <td>13.7</td>\n",
       "      <td>0.65</td>\n",
       "      <td>6.02</td>\n",
       "      <td>5.57</td>\n",
       "      <td>...</td>\n",
       "      <td>90.0</td>\n",
       "      <td>75.0</td>\n",
       "      <td>70.0</td>\n",
       "      <td>85.0</td>\n",
       "      <td>79.0</td>\n",
       "      <td>83.0</td>\n",
       "      <td>86.0</td>\n",
       "      <td>84.0</td>\n",
       "      <td>506.0</td>\n",
       "      <td>21.0</td>\n",
       "    </tr>\n",
       "    <tr>\n",
       "      <th>1</th>\n",
       "      <td>3.0</td>\n",
       "      <td>15.500000</td>\n",
       "      <td>3.996645</td>\n",
       "      <td>10.9</td>\n",
       "      <td>15.3</td>\n",
       "      <td>20.8</td>\n",
       "      <td>15.7</td>\n",
       "      <td>1.10</td>\n",
       "      <td>12.17</td>\n",
       "      <td>3.17</td>\n",
       "      <td>...</td>\n",
       "      <td>94.0</td>\n",
       "      <td>85.0</td>\n",
       "      <td>81.0</td>\n",
       "      <td>88.0</td>\n",
       "      <td>81.0</td>\n",
       "      <td>88.0</td>\n",
       "      <td>85.0</td>\n",
       "      <td>88.0</td>\n",
       "      <td>1135.0</td>\n",
       "      <td>34.0</td>\n",
       "    </tr>\n",
       "    <tr>\n",
       "      <th>2</th>\n",
       "      <td>3.6</td>\n",
       "      <td>14.900000</td>\n",
       "      <td>3.200000</td>\n",
       "      <td>8.8</td>\n",
       "      <td>13.2</td>\n",
       "      <td>17.2</td>\n",
       "      <td>17.2</td>\n",
       "      <td>1.28</td>\n",
       "      <td>7.19</td>\n",
       "      <td>3.31</td>\n",
       "      <td>...</td>\n",
       "      <td>91.0</td>\n",
       "      <td>83.0</td>\n",
       "      <td>76.0</td>\n",
       "      <td>83.0</td>\n",
       "      <td>80.0</td>\n",
       "      <td>84.0</td>\n",
       "      <td>82.0</td>\n",
       "      <td>84.0</td>\n",
       "      <td>579.0</td>\n",
       "      <td>22.0</td>\n",
       "    </tr>\n",
       "    <tr>\n",
       "      <th>3</th>\n",
       "      <td>2.8</td>\n",
       "      <td>14.439599</td>\n",
       "      <td>3.997644</td>\n",
       "      <td>8.3</td>\n",
       "      <td>13.3</td>\n",
       "      <td>21.6</td>\n",
       "      <td>15.9</td>\n",
       "      <td>1.30</td>\n",
       "      <td>9.46</td>\n",
       "      <td>4.76</td>\n",
       "      <td>...</td>\n",
       "      <td>94.0</td>\n",
       "      <td>84.0</td>\n",
       "      <td>79.0</td>\n",
       "      <td>85.0</td>\n",
       "      <td>80.0</td>\n",
       "      <td>85.0</td>\n",
       "      <td>86.0</td>\n",
       "      <td>85.0</td>\n",
       "      <td>185.0</td>\n",
       "      <td>27.0</td>\n",
       "    </tr>\n",
       "    <tr>\n",
       "      <th>4</th>\n",
       "      <td>2.6</td>\n",
       "      <td>14.100000</td>\n",
       "      <td>3.700000</td>\n",
       "      <td>8.9</td>\n",
       "      <td>13.1</td>\n",
       "      <td>16.1</td>\n",
       "      <td>12.4</td>\n",
       "      <td>1.74</td>\n",
       "      <td>15.22</td>\n",
       "      <td>4.53</td>\n",
       "      <td>...</td>\n",
       "      <td>91.0</td>\n",
       "      <td>83.0</td>\n",
       "      <td>77.0</td>\n",
       "      <td>86.0</td>\n",
       "      <td>82.0</td>\n",
       "      <td>87.0</td>\n",
       "      <td>81.0</td>\n",
       "      <td>86.0</td>\n",
       "      <td>2193.0</td>\n",
       "      <td>33.0</td>\n",
       "    </tr>\n",
       "  </tbody>\n",
       "</table>\n",
       "<p>5 rows × 31 columns</p>\n",
       "</div>"
      ],
      "text/plain": [
       "   COMP_HIP_KNEE  MORT_30_AMI  MORT_30_CABG  MORT_30_COPD  MORT_30_HF  \\\n",
       "0            3.0    14.500000      4.500000           8.9        12.5   \n",
       "1            3.0    15.500000      3.996645          10.9        15.3   \n",
       "2            3.6    14.900000      3.200000           8.8        13.2   \n",
       "3            2.8    14.439599      3.997644           8.3        13.3   \n",
       "4            2.6    14.100000      3.700000           8.9        13.1   \n",
       "\n",
       "   MORT_30_PN  MORT_30_STK  PSI_10_POST_KIDNEY  PSI_11_POST_RESP  \\\n",
       "0        16.2         13.7                0.65              6.02   \n",
       "1        20.8         15.7                1.10             12.17   \n",
       "2        17.2         17.2                1.28              7.19   \n",
       "3        21.6         15.9                1.30              9.46   \n",
       "4        16.1         12.4                1.74             15.22   \n",
       "\n",
       "   PSI_12_POSTOP_PULMEMB_DVT              ...               \\\n",
       "0                       5.57              ...                \n",
       "1                       3.17              ...                \n",
       "2                       3.31              ...                \n",
       "3                       4.76              ...                \n",
       "4                       4.53              ...                \n",
       "\n",
       "   H_COMP_2_LINEAR_SCORE  H_COMP_3_LINEAR_SCORE  H_COMP_5_LINEAR_SCORE  \\\n",
       "0                   90.0                   75.0                   70.0   \n",
       "1                   94.0                   85.0                   81.0   \n",
       "2                   91.0                   83.0                   76.0   \n",
       "3                   94.0                   84.0                   79.0   \n",
       "4                   91.0                   83.0                   77.0   \n",
       "\n",
       "   H_COMP_6_LINEAR_SCORE  H_COMP_7_LINEAR_SCORE  H_HSP_RATING_LINEAR_SCORE  \\\n",
       "0                   85.0                   79.0                       83.0   \n",
       "1                   88.0                   81.0                       88.0   \n",
       "2                   83.0                   80.0                       84.0   \n",
       "3                   85.0                   80.0                       85.0   \n",
       "4                   86.0                   82.0                       87.0   \n",
       "\n",
       "   H_QUIET_LINEAR_SCORE  H_RECMND_LINEAR_SCORE  Number of Completed Surveys  \\\n",
       "0                  86.0                   84.0                        506.0   \n",
       "1                  85.0                   88.0                       1135.0   \n",
       "2                  82.0                   84.0                        579.0   \n",
       "3                  86.0                   85.0                        185.0   \n",
       "4                  81.0                   86.0                       2193.0   \n",
       "\n",
       "   Survey Response Rate Percent  \n",
       "0                          21.0  \n",
       "1                          34.0  \n",
       "2                          22.0  \n",
       "3                          27.0  \n",
       "4                          33.0  \n",
       "\n",
       "[5 rows x 31 columns]"
      ]
     },
     "execution_count": 20,
     "metadata": {},
     "output_type": "execute_result"
    }
   ],
   "source": [
    "dataset.head()"
   ]
  },
  {
   "cell_type": "markdown",
   "metadata": {},
   "source": [
    "#### Set Up X and Y / Train and Test Data Sets"
   ]
  },
  {
   "cell_type": "code",
   "execution_count": 21,
   "metadata": {},
   "outputs": [],
   "source": [
    "dataset = df_iterative\n",
    "y = dataset.loc[:,[\"H_RECMND_LINEAR_SCORE\"]]\n",
    "x_mod = dataset.loc[:,dataset.columns != \"H_RECMND_LINEAR_SCORE\"]\n",
    "x_mod = x_mod.drop([\"H_HSP_RATING_LINEAR_SCORE\", \"H_COMP_7_LINEAR_SCORE\", \"H_COMP_1_LINEAR_SCORE\", \"H_COMP_2_LINEAR_SCORE\", \\\n",
    "                   \"H_COMP_5_LINEAR_SCORE\", \"H_COMP_6_LINEAR_SCORE\"], axis = 1)\n",
    "#x_mod = x_mod.loc[:, [\"H_HSP_RATING_LINEAR_SCORE\", \"H_QUIET_LINEAR_SCORE\", \"Number of Completed Surveys\"]]\n",
    "#x_mod.drop([\"H_HSP_RATING_LINEAR_SCORE\", \"H_COMP_7_LINEAR_SCORE\", \"H_COMP_1_LINEAR_SCORE\", \"H_COMP_2_LINEAR_SCORE\",\\\n",
    "#           \"H_COMP_5_LINEAR_SCORE\", \"H_COMP_3_LINEAR_SCORE\", \"H_COMP_6_LINEAR_SCORE\", \"H_CLEAN_LINEAR_SCORE\",\\\n",
    "#           \"H_QUIET_LINEAR_SCORE\", \"Survey Response Rate Percent\", \"MORT_30_CABG\", \"Number of Completed Surveys\", \\\n",
    "#           \"PSI_11_POST_RESP\", \"MORT_30_AMI\"], axis = 1, inplace = True)"
   ]
  },
  {
   "cell_type": "markdown",
   "metadata": {},
   "source": [
    "<b>Note:</b> This step was performed several times with various combinations of features based upon the model outputs (e.g., feature importance, cross validation results, etc.). In addition, this exercise was attempted with various model parameters (e.g., maximum depth and minimum leaf size). For the purposes of this workbook, only one iteration is shown."
   ]
  },
  {
   "cell_type": "code",
   "execution_count": 22,
   "metadata": {},
   "outputs": [],
   "source": [
    "#Define train_x and train_y\n",
    "from sklearn.model_selection import train_test_split\n",
    "x_train,x_test,y_train,y_test=train_test_split(x_mod,y,test_size=0.2,random_state=0)"
   ]
  },
  {
   "cell_type": "markdown",
   "metadata": {},
   "source": [
    "#### Run Initial Model"
   ]
  },
  {
   "cell_type": "code",
   "execution_count": 23,
   "metadata": {
    "scrolled": true
   },
   "outputs": [
    {
     "name": "stderr",
     "output_type": "stream",
     "text": [
      "C:\\Users\\zainj\\Anaconda3\\envs\\py37\\lib\\site-packages\\sklearn\\ensemble\\forest.py:246: FutureWarning: The default value of n_estimators will change from 10 in version 0.20 to 100 in 0.22.\n",
      "  \"10 in version 0.20 to 100 in 0.22.\", FutureWarning)\n",
      "C:\\Users\\zainj\\Anaconda3\\envs\\py37\\lib\\site-packages\\ipykernel_launcher.py:1: DataConversionWarning: A column-vector y was passed when a 1d array was expected. Please change the shape of y to (n_samples,), for example using ravel().\n",
      "  \"\"\"Entry point for launching an IPython kernel.\n"
     ]
    }
   ],
   "source": [
    "rf.fit(x_train, y_train)\n",
    "y_pred = rf.predict(x_test)"
   ]
  },
  {
   "cell_type": "markdown",
   "metadata": {},
   "source": [
    "####  Evaluate Outputs"
   ]
  },
  {
   "cell_type": "code",
   "execution_count": 24,
   "metadata": {
    "scrolled": true
   },
   "outputs": [
    {
     "data": {
      "text/plain": [
       "<matplotlib.collections.PathCollection at 0x178d35709b0>"
      ]
     },
     "execution_count": 24,
     "metadata": {},
     "output_type": "execute_result"
    },
    {
     "data": {
      "image/png": "[encoded data removed]",
      "text/plain": [
       "<Figure size 432x288 with 1 Axes>"
      ]
     },
     "metadata": {
      "needs_background": "light"
     },
     "output_type": "display_data"
    }
   ],
   "source": [
    "#look at x vs. y_test\n",
    "plt.scatter(x = range(x_test.shape[0]), y = y_test)"
   ]
  },
  {
   "cell_type": "code",
   "execution_count": 25,
   "metadata": {},
   "outputs": [
    {
     "data": {
      "text/plain": [
       "<matplotlib.collections.PathCollection at 0x178d35c4cf8>"
      ]
     },
     "execution_count": 25,
     "metadata": {},
     "output_type": "execute_result"
    },
    {
     "data": {
      "image/png": "[encoded data removed]",
      "text/plain": [
       "<Figure size 432x288 with 1 Axes>"
      ]
     },
     "metadata": {
      "needs_background": "light"
     },
     "output_type": "display_data"
    }
   ],
   "source": [
    "#look at x vs. y_pred\n",
    "plt.scatter(x = range(x_test.shape[0]), y = y_pred)"
   ]
  },
  {
   "cell_type": "code",
   "execution_count": 26,
   "metadata": {},
   "outputs": [
    {
     "data": {
      "text/plain": [
       "<matplotlib.collections.PathCollection at 0x178d2504128>"
      ]
     },
     "execution_count": 26,
     "metadata": {},
     "output_type": "execute_result"
    },
    {
     "data": {
      "image/png": "[encoded data removed]",
      "text/plain": [
       "<Figure size 432x288 with 1 Axes>"
      ]
     },
     "metadata": {
      "needs_background": "light"
     },
     "output_type": "display_data"
    }
   ],
   "source": [
    "#look at y_test vs. y_pred\n",
    "plt.scatter(x = y_test, y = y_pred)"
   ]
  },
  {
   "cell_type": "code",
   "execution_count": 27,
   "metadata": {},
   "outputs": [
    {
     "data": {
      "text/plain": [
       "<matplotlib.collections.PathCollection at 0x178d2446a90>"
      ]
     },
     "execution_count": 27,
     "metadata": {},
     "output_type": "execute_result"
    },
    {
     "data": {
      "image/png": "[encoded data removed]",
      "text/plain": [
       "<Figure size 432x288 with 1 Axes>"
      ]
     },
     "metadata": {
      "needs_background": "light"
     },
     "output_type": "display_data"
    }
   ],
   "source": [
    "#look at residuals\n",
    "resids = y_test[\"H_RECMND_LINEAR_SCORE\"] - y_pred\n",
    "\n",
    "plt.scatter(x = range(x_test.shape[0]), y = resids)"
   ]
  },
  {
   "cell_type": "code",
   "execution_count": 28,
   "metadata": {
    "scrolled": true
   },
   "outputs": [
    {
     "data": {
      "image/png": "[encoded data removed]",
      "text/plain": [
       "<Figure size 432x288 with 1 Axes>"
      ]
     },
     "metadata": {
      "needs_background": "light"
     },
     "output_type": "display_data"
    }
   ],
   "source": [
    "# Create a pd.Series of features importances\n",
    "importances_rf = pd.Series(rf.feature_importances_,\n",
    "index = x_mod.columns)\n",
    "# Sort importances_rf\n",
    "sorted_importances_rf = importances_rf.sort_values()\n",
    "# Make a horizontal bar plot\n",
    "sorted_importances_rf.plot(kind='barh', color='blue')\n",
    "plt.show()"
   ]
  },
  {
   "cell_type": "markdown",
   "metadata": {},
   "source": [
    "####  Perform Cross Validation of Model"
   ]
  },
  {
   "cell_type": "markdown",
   "metadata": {},
   "source": [
    "##### Test RMSE"
   ]
  },
  {
   "cell_type": "code",
   "execution_count": 29,
   "metadata": {},
   "outputs": [
    {
     "name": "stdout",
     "output_type": "stream",
     "text": [
      "Test RMSE: 2.89547\n"
     ]
    }
   ],
   "source": [
    "from sklearn.metrics import mean_squared_error as MSE\n",
    "mse = MSE(y_test, y_pred)\n",
    "rmse = mse**(1/2)\n",
    "\n",
    "# Compute mse_dt\n",
    "mse_dt = MSE(y_test, y_pred)\n",
    "\n",
    "# Compute rmse_dt\n",
    "rmse_dt = mse_dt**(1/2)\n",
    "\n",
    "# Print rmse_dt\n",
    "print(\"Test RMSE: {:.5f}\".format(rmse_dt))"
   ]
  },
  {
   "cell_type": "markdown",
   "metadata": {},
   "source": [
    "##### CV RMSE"
   ]
  },
  {
   "cell_type": "code",
   "execution_count": 30,
   "metadata": {},
   "outputs": [
    {
     "name": "stdout",
     "output_type": "stream",
     "text": [
      "CV RMSE: 2.87115\n"
     ]
    }
   ],
   "source": [
    "from sklearn.model_selection import cross_val_score\n",
    "# Compute the array containing the 10-folds CV MSEs\n",
    "MSE_CV_scores = - cross_val_score(rf, x_train, y_train, cv=10, \n",
    "                                  scoring='neg_mean_squared_error', \n",
    "                                  n_jobs=-1) \n",
    "\n",
    "# Compute the 10-folds CV RMSE\n",
    "RMSE_CV = (MSE_CV_scores.mean())**(1/2)\n",
    "\n",
    "# Print RMSE_CV\n",
    "print(\"CV RMSE: {:.5f}\".format(RMSE_CV))"
   ]
  },
  {
   "cell_type": "markdown",
   "metadata": {},
   "source": [
    "##### Train MSE"
   ]
  },
  {
   "cell_type": "code",
   "execution_count": 31,
   "metadata": {},
   "outputs": [
    {
     "name": "stdout",
     "output_type": "stream",
     "text": [
      "Train RMSE: 2.68913\n"
     ]
    }
   ],
   "source": [
    "# Predict the labels of the training set\n",
    "y_pred_train = rf.predict(x_train)\n",
    "\n",
    "# Evaluate the training set RMSE of dt\n",
    "RMSE_train = (MSE(y_train, y_pred_train))**(1/2)\n",
    "\n",
    "# Print RMSE_train\n",
    "print('Train RMSE: {:.5f}'.format(RMSE_train))"
   ]
  },
  {
   "cell_type": "markdown",
   "metadata": {},
   "source": [
    "## Conclusion"
   ]
  },
  {
   "cell_type": "markdown",
   "metadata": {},
   "source": [
    "Based upon the cross-validation results accross several iterations of the random forest regression model - based upon modifying the features used and tuning the model parameters - we were unable to develop an effective model that did not overfit. We believe this may be due to the decision tree approach utilized by the random forest model and the relative small size of the data (approximately 3,500 hospitals). Therefore, we ultimately do not recommend utilizing the Random Forest Regression model."
   ]
  }
 ],
 "metadata": {
  "kernelspec": {
   "display_name": "Python 3",
   "language": "python",
   "name": "python3"
  },
  "language_info": {
   "codemirror_mode": {
    "name": "ipython",
    "version": 3
   },
   "file_extension": ".py",
   "mimetype": "text/x-python",
   "name": "python",
   "nbconvert_exporter": "python",
   "pygments_lexer": "ipython3",
   "version": "3.7.1"
  }
 },
 "nbformat": 4,
 "nbformat_minor": 2
}
