{
 "cells": [
  {
   "cell_type": "code",
   "execution_count": 1,
   "metadata": {},
   "outputs": [],
   "source": [
    "import pandas as pd\n",
    "import matplotlib.pyplot as plt\n",
    "import seaborn as sns\n",
    "import numpy as np"
   ]
  },
  {
   "cell_type": "code",
   "execution_count": 2,
   "metadata": {},
   "outputs": [],
   "source": [
    "df_mean=pd.read_csv('hospitaldata_mean.csv')\n",
    "df_knn=pd.read_csv('hospitaldata_knn.csv')\n",
    "df_iterative=pd.read_csv('hospitaldata_iterative.csv')"
   ]
  },
  {
   "cell_type": "code",
   "execution_count": 3,
   "metadata": {
    "scrolled": true
   },
   "outputs": [
    {
     "data": {
      "text/html": [
       "<div>\n",
       "<style scoped>\n",
       "    .dataframe tbody tr th:only-of-type {\n",
       "        vertical-align: middle;\n",
       "    }\n",
       "\n",
       "    .dataframe tbody tr th {\n",
       "        vertical-align: top;\n",
       "    }\n",
       "\n",
       "    .dataframe thead th {\n",
       "        text-align: right;\n",
       "    }\n",
       "</style>\n",
       "<table border=\"1\" class=\"dataframe\">\n",
       "  <thead>\n",
       "    <tr style=\"text-align: right;\">\n",
       "      <th></th>\n",
       "      <th>Unnamed: 0</th>\n",
       "      <th>Unnamed: 0.1</th>\n",
       "      <th>Provider ID</th>\n",
       "      <th>COMP_HIP_KNEE</th>\n",
       "      <th>MORT_30_AMI</th>\n",
       "      <th>MORT_30_CABG</th>\n",
       "      <th>MORT_30_COPD</th>\n",
       "      <th>MORT_30_HF</th>\n",
       "      <th>MORT_30_PN</th>\n",
       "      <th>MORT_30_STK</th>\n",
       "      <th>...</th>\n",
       "      <th>H_QUIET_LINEAR_SCORE</th>\n",
       "      <th>H_RECMND_LINEAR_SCORE</th>\n",
       "      <th>Hospital Name</th>\n",
       "      <th>Address</th>\n",
       "      <th>City</th>\n",
       "      <th>State</th>\n",
       "      <th>ZIP Code</th>\n",
       "      <th>Number of Completed Surveys</th>\n",
       "      <th>Survey Response Rate Percent</th>\n",
       "      <th>STAR_RATING</th>\n",
       "    </tr>\n",
       "  </thead>\n",
       "  <tbody>\n",
       "    <tr>\n",
       "      <th>0</th>\n",
       "      <td>0</td>\n",
       "      <td>0</td>\n",
       "      <td>10001</td>\n",
       "      <td>3.0</td>\n",
       "      <td>14.500000</td>\n",
       "      <td>4.500000</td>\n",
       "      <td>8.9</td>\n",
       "      <td>12.5</td>\n",
       "      <td>16.2</td>\n",
       "      <td>13.7</td>\n",
       "      <td>...</td>\n",
       "      <td>86</td>\n",
       "      <td>84</td>\n",
       "      <td>SOUTHEAST ALABAMA MEDICAL CENTER</td>\n",
       "      <td>1108 ROSS CLARK CIRCLE</td>\n",
       "      <td>DOTHAN</td>\n",
       "      <td>AL</td>\n",
       "      <td>36301</td>\n",
       "      <td>506</td>\n",
       "      <td>21</td>\n",
       "      <td>2</td>\n",
       "    </tr>\n",
       "    <tr>\n",
       "      <th>1</th>\n",
       "      <td>1</td>\n",
       "      <td>1</td>\n",
       "      <td>10005</td>\n",
       "      <td>3.0</td>\n",
       "      <td>15.500000</td>\n",
       "      <td>3.230405</td>\n",
       "      <td>10.9</td>\n",
       "      <td>15.3</td>\n",
       "      <td>20.8</td>\n",
       "      <td>15.7</td>\n",
       "      <td>...</td>\n",
       "      <td>85</td>\n",
       "      <td>88</td>\n",
       "      <td>MARSHALL MEDICAL CENTER SOUTH</td>\n",
       "      <td>2505 U S HIGHWAY 431 NORTH</td>\n",
       "      <td>BOAZ</td>\n",
       "      <td>AL</td>\n",
       "      <td>35957</td>\n",
       "      <td>1135</td>\n",
       "      <td>34</td>\n",
       "      <td>3</td>\n",
       "    </tr>\n",
       "    <tr>\n",
       "      <th>2</th>\n",
       "      <td>2</td>\n",
       "      <td>2</td>\n",
       "      <td>10006</td>\n",
       "      <td>3.6</td>\n",
       "      <td>14.900000</td>\n",
       "      <td>3.200000</td>\n",
       "      <td>8.8</td>\n",
       "      <td>13.2</td>\n",
       "      <td>17.2</td>\n",
       "      <td>17.2</td>\n",
       "      <td>...</td>\n",
       "      <td>82</td>\n",
       "      <td>84</td>\n",
       "      <td>ELIZA COFFEE MEMORIAL HOSPITAL</td>\n",
       "      <td>205 MARENGO STREET</td>\n",
       "      <td>FLORENCE</td>\n",
       "      <td>AL</td>\n",
       "      <td>35631</td>\n",
       "      <td>579</td>\n",
       "      <td>22</td>\n",
       "      <td>2</td>\n",
       "    </tr>\n",
       "    <tr>\n",
       "      <th>3</th>\n",
       "      <td>3</td>\n",
       "      <td>3</td>\n",
       "      <td>10007</td>\n",
       "      <td>2.8</td>\n",
       "      <td>13.172227</td>\n",
       "      <td>3.230405</td>\n",
       "      <td>8.3</td>\n",
       "      <td>13.3</td>\n",
       "      <td>21.6</td>\n",
       "      <td>15.9</td>\n",
       "      <td>...</td>\n",
       "      <td>86</td>\n",
       "      <td>85</td>\n",
       "      <td>MIZELL MEMORIAL HOSPITAL</td>\n",
       "      <td>702 N MAIN ST</td>\n",
       "      <td>OPP</td>\n",
       "      <td>AL</td>\n",
       "      <td>36467</td>\n",
       "      <td>185</td>\n",
       "      <td>27</td>\n",
       "      <td>2</td>\n",
       "    </tr>\n",
       "    <tr>\n",
       "      <th>4</th>\n",
       "      <td>4</td>\n",
       "      <td>4</td>\n",
       "      <td>10011</td>\n",
       "      <td>2.6</td>\n",
       "      <td>14.100000</td>\n",
       "      <td>3.700000</td>\n",
       "      <td>8.9</td>\n",
       "      <td>13.1</td>\n",
       "      <td>16.1</td>\n",
       "      <td>12.4</td>\n",
       "      <td>...</td>\n",
       "      <td>81</td>\n",
       "      <td>86</td>\n",
       "      <td>ST VINCENT'S EAST</td>\n",
       "      <td>50 MEDICAL PARK EAST DRIVE</td>\n",
       "      <td>BIRMINGHAM</td>\n",
       "      <td>AL</td>\n",
       "      <td>35235</td>\n",
       "      <td>2193</td>\n",
       "      <td>33</td>\n",
       "      <td>3</td>\n",
       "    </tr>\n",
       "  </tbody>\n",
       "</table>\n",
       "<p>5 rows × 40 columns</p>\n",
       "</div>"
      ],
      "text/plain": [
       "   Unnamed: 0  Unnamed: 0.1 Provider ID  COMP_HIP_KNEE  MORT_30_AMI  \\\n",
       "0           0             0       10001            3.0    14.500000   \n",
       "1           1             1       10005            3.0    15.500000   \n",
       "2           2             2       10006            3.6    14.900000   \n",
       "3           3             3       10007            2.8    13.172227   \n",
       "4           4             4       10011            2.6    14.100000   \n",
       "\n",
       "   MORT_30_CABG  MORT_30_COPD  MORT_30_HF  MORT_30_PN  MORT_30_STK  \\\n",
       "0      4.500000           8.9        12.5        16.2         13.7   \n",
       "1      3.230405          10.9        15.3        20.8         15.7   \n",
       "2      3.200000           8.8        13.2        17.2         17.2   \n",
       "3      3.230405           8.3        13.3        21.6         15.9   \n",
       "4      3.700000           8.9        13.1        16.1         12.4   \n",
       "\n",
       "      ...       H_QUIET_LINEAR_SCORE  H_RECMND_LINEAR_SCORE  \\\n",
       "0     ...                         86                     84   \n",
       "1     ...                         85                     88   \n",
       "2     ...                         82                     84   \n",
       "3     ...                         86                     85   \n",
       "4     ...                         81                     86   \n",
       "\n",
       "                      Hospital Name                     Address        City  \\\n",
       "0  SOUTHEAST ALABAMA MEDICAL CENTER      1108 ROSS CLARK CIRCLE      DOTHAN   \n",
       "1     MARSHALL MEDICAL CENTER SOUTH  2505 U S HIGHWAY 431 NORTH        BOAZ   \n",
       "2    ELIZA COFFEE MEMORIAL HOSPITAL          205 MARENGO STREET    FLORENCE   \n",
       "3          MIZELL MEMORIAL HOSPITAL               702 N MAIN ST         OPP   \n",
       "4                 ST VINCENT'S EAST  50 MEDICAL PARK EAST DRIVE  BIRMINGHAM   \n",
       "\n",
       "   State  ZIP Code  Number of Completed Surveys  Survey Response Rate Percent  \\\n",
       "0     AL     36301                          506                            21   \n",
       "1     AL     35957                         1135                            34   \n",
       "2     AL     35631                          579                            22   \n",
       "3     AL     36467                          185                            27   \n",
       "4     AL     35235                         2193                            33   \n",
       "\n",
       "   STAR_RATING  \n",
       "0            2  \n",
       "1            3  \n",
       "2            2  \n",
       "3            2  \n",
       "4            3  \n",
       "\n",
       "[5 rows x 40 columns]"
      ]
     },
     "execution_count": 3,
     "metadata": {},
     "output_type": "execute_result"
    }
   ],
   "source": [
    "df_mean.head()"
   ]
  },
  {
   "cell_type": "code",
   "execution_count": 4,
   "metadata": {},
   "outputs": [
    {
     "data": {
      "text/plain": [
       "(3529, 40)"
      ]
     },
     "execution_count": 4,
     "metadata": {},
     "output_type": "execute_result"
    }
   ],
   "source": [
    "df_mean.shape"
   ]
  },
  {
   "cell_type": "code",
   "execution_count": 5,
   "metadata": {
    "scrolled": true
   },
   "outputs": [
    {
     "data": {
      "text/html": [
       "<div>\n",
       "<style scoped>\n",
       "    .dataframe tbody tr th:only-of-type {\n",
       "        vertical-align: middle;\n",
       "    }\n",
       "\n",
       "    .dataframe tbody tr th {\n",
       "        vertical-align: top;\n",
       "    }\n",
       "\n",
       "    .dataframe thead th {\n",
       "        text-align: right;\n",
       "    }\n",
       "</style>\n",
       "<table border=\"1\" class=\"dataframe\">\n",
       "  <thead>\n",
       "    <tr style=\"text-align: right;\">\n",
       "      <th></th>\n",
       "      <th>counts</th>\n",
       "      <th>%</th>\n",
       "    </tr>\n",
       "  </thead>\n",
       "  <tbody>\n",
       "    <tr>\n",
       "      <th>3</th>\n",
       "      <td>1612</td>\n",
       "      <td>0.456787</td>\n",
       "    </tr>\n",
       "    <tr>\n",
       "      <th>4</th>\n",
       "      <td>890</td>\n",
       "      <td>0.252196</td>\n",
       "    </tr>\n",
       "    <tr>\n",
       "      <th>2</th>\n",
       "      <td>683</td>\n",
       "      <td>0.193539</td>\n",
       "    </tr>\n",
       "    <tr>\n",
       "      <th>1</th>\n",
       "      <td>180</td>\n",
       "      <td>0.051006</td>\n",
       "    </tr>\n",
       "    <tr>\n",
       "      <th>5</th>\n",
       "      <td>164</td>\n",
       "      <td>0.046472</td>\n",
       "    </tr>\n",
       "  </tbody>\n",
       "</table>\n",
       "</div>"
      ],
      "text/plain": [
       "   counts         %\n",
       "3    1612  0.456787\n",
       "4     890  0.252196\n",
       "2     683  0.193539\n",
       "1     180  0.051006\n",
       "5     164  0.046472"
      ]
     },
     "execution_count": 5,
     "metadata": {},
     "output_type": "execute_result"
    }
   ],
   "source": [
    "c = df_mean['STAR_RATING'].value_counts(dropna=True)\n",
    "p = df_mean['STAR_RATING'].value_counts(dropna=True, normalize=True)\n",
    "pd.concat([c,p], axis=1, keys=['counts', '%'])"
   ]
  },
  {
   "cell_type": "markdown",
   "metadata": {},
   "source": [
    "# Drop Last Two Digits of ZIP Code"
   ]
  },
  {
   "cell_type": "code",
   "execution_count": 6,
   "metadata": {},
   "outputs": [],
   "source": [
    "df_mean['ZIP Code'] = df_mean['ZIP Code'].astype(str).str[:-2].astype(np.int64)\n",
    "df_knn['ZIP Code'] = df_knn['ZIP Code'].astype(str).str[:-2].astype(np.int64)\n",
    "df_iterative['ZIP Code'] = df_iterative['ZIP Code'].astype(str).str[:-2].astype(np.int64)"
   ]
  },
  {
   "cell_type": "code",
   "execution_count": 7,
   "metadata": {},
   "outputs": [
    {
     "data": {
      "text/html": [
       "<div>\n",
       "<style scoped>\n",
       "    .dataframe tbody tr th:only-of-type {\n",
       "        vertical-align: middle;\n",
       "    }\n",
       "\n",
       "    .dataframe tbody tr th {\n",
       "        vertical-align: top;\n",
       "    }\n",
       "\n",
       "    .dataframe thead th {\n",
       "        text-align: right;\n",
       "    }\n",
       "</style>\n",
       "<table border=\"1\" class=\"dataframe\">\n",
       "  <thead>\n",
       "    <tr style=\"text-align: right;\">\n",
       "      <th></th>\n",
       "      <th>Unnamed: 0</th>\n",
       "      <th>Unnamed: 0.1</th>\n",
       "      <th>Provider ID</th>\n",
       "      <th>COMP_HIP_KNEE</th>\n",
       "      <th>MORT_30_AMI</th>\n",
       "      <th>MORT_30_CABG</th>\n",
       "      <th>MORT_30_COPD</th>\n",
       "      <th>MORT_30_HF</th>\n",
       "      <th>MORT_30_PN</th>\n",
       "      <th>MORT_30_STK</th>\n",
       "      <th>...</th>\n",
       "      <th>H_QUIET_LINEAR_SCORE</th>\n",
       "      <th>H_RECMND_LINEAR_SCORE</th>\n",
       "      <th>Hospital Name</th>\n",
       "      <th>Address</th>\n",
       "      <th>City</th>\n",
       "      <th>State</th>\n",
       "      <th>ZIP Code</th>\n",
       "      <th>Number of Completed Surveys</th>\n",
       "      <th>Survey Response Rate Percent</th>\n",
       "      <th>STAR_RATING</th>\n",
       "    </tr>\n",
       "  </thead>\n",
       "  <tbody>\n",
       "    <tr>\n",
       "      <th>0</th>\n",
       "      <td>0</td>\n",
       "      <td>0</td>\n",
       "      <td>10001</td>\n",
       "      <td>3.0</td>\n",
       "      <td>14.500000</td>\n",
       "      <td>4.500000</td>\n",
       "      <td>8.9</td>\n",
       "      <td>12.5</td>\n",
       "      <td>16.2</td>\n",
       "      <td>13.7</td>\n",
       "      <td>...</td>\n",
       "      <td>86</td>\n",
       "      <td>84</td>\n",
       "      <td>SOUTHEAST ALABAMA MEDICAL CENTER</td>\n",
       "      <td>1108 ROSS CLARK CIRCLE</td>\n",
       "      <td>DOTHAN</td>\n",
       "      <td>AL</td>\n",
       "      <td>363</td>\n",
       "      <td>506</td>\n",
       "      <td>21</td>\n",
       "      <td>2</td>\n",
       "    </tr>\n",
       "    <tr>\n",
       "      <th>1</th>\n",
       "      <td>1</td>\n",
       "      <td>1</td>\n",
       "      <td>10005</td>\n",
       "      <td>3.0</td>\n",
       "      <td>15.500000</td>\n",
       "      <td>3.230405</td>\n",
       "      <td>10.9</td>\n",
       "      <td>15.3</td>\n",
       "      <td>20.8</td>\n",
       "      <td>15.7</td>\n",
       "      <td>...</td>\n",
       "      <td>85</td>\n",
       "      <td>88</td>\n",
       "      <td>MARSHALL MEDICAL CENTER SOUTH</td>\n",
       "      <td>2505 U S HIGHWAY 431 NORTH</td>\n",
       "      <td>BOAZ</td>\n",
       "      <td>AL</td>\n",
       "      <td>359</td>\n",
       "      <td>1135</td>\n",
       "      <td>34</td>\n",
       "      <td>3</td>\n",
       "    </tr>\n",
       "    <tr>\n",
       "      <th>2</th>\n",
       "      <td>2</td>\n",
       "      <td>2</td>\n",
       "      <td>10006</td>\n",
       "      <td>3.6</td>\n",
       "      <td>14.900000</td>\n",
       "      <td>3.200000</td>\n",
       "      <td>8.8</td>\n",
       "      <td>13.2</td>\n",
       "      <td>17.2</td>\n",
       "      <td>17.2</td>\n",
       "      <td>...</td>\n",
       "      <td>82</td>\n",
       "      <td>84</td>\n",
       "      <td>ELIZA COFFEE MEMORIAL HOSPITAL</td>\n",
       "      <td>205 MARENGO STREET</td>\n",
       "      <td>FLORENCE</td>\n",
       "      <td>AL</td>\n",
       "      <td>356</td>\n",
       "      <td>579</td>\n",
       "      <td>22</td>\n",
       "      <td>2</td>\n",
       "    </tr>\n",
       "    <tr>\n",
       "      <th>3</th>\n",
       "      <td>3</td>\n",
       "      <td>3</td>\n",
       "      <td>10007</td>\n",
       "      <td>2.8</td>\n",
       "      <td>13.172227</td>\n",
       "      <td>3.230405</td>\n",
       "      <td>8.3</td>\n",
       "      <td>13.3</td>\n",
       "      <td>21.6</td>\n",
       "      <td>15.9</td>\n",
       "      <td>...</td>\n",
       "      <td>86</td>\n",
       "      <td>85</td>\n",
       "      <td>MIZELL MEMORIAL HOSPITAL</td>\n",
       "      <td>702 N MAIN ST</td>\n",
       "      <td>OPP</td>\n",
       "      <td>AL</td>\n",
       "      <td>364</td>\n",
       "      <td>185</td>\n",
       "      <td>27</td>\n",
       "      <td>2</td>\n",
       "    </tr>\n",
       "    <tr>\n",
       "      <th>4</th>\n",
       "      <td>4</td>\n",
       "      <td>4</td>\n",
       "      <td>10011</td>\n",
       "      <td>2.6</td>\n",
       "      <td>14.100000</td>\n",
       "      <td>3.700000</td>\n",
       "      <td>8.9</td>\n",
       "      <td>13.1</td>\n",
       "      <td>16.1</td>\n",
       "      <td>12.4</td>\n",
       "      <td>...</td>\n",
       "      <td>81</td>\n",
       "      <td>86</td>\n",
       "      <td>ST VINCENT'S EAST</td>\n",
       "      <td>50 MEDICAL PARK EAST DRIVE</td>\n",
       "      <td>BIRMINGHAM</td>\n",
       "      <td>AL</td>\n",
       "      <td>352</td>\n",
       "      <td>2193</td>\n",
       "      <td>33</td>\n",
       "      <td>3</td>\n",
       "    </tr>\n",
       "  </tbody>\n",
       "</table>\n",
       "<p>5 rows × 40 columns</p>\n",
       "</div>"
      ],
      "text/plain": [
       "   Unnamed: 0  Unnamed: 0.1 Provider ID  COMP_HIP_KNEE  MORT_30_AMI  \\\n",
       "0           0             0       10001            3.0    14.500000   \n",
       "1           1             1       10005            3.0    15.500000   \n",
       "2           2             2       10006            3.6    14.900000   \n",
       "3           3             3       10007            2.8    13.172227   \n",
       "4           4             4       10011            2.6    14.100000   \n",
       "\n",
       "   MORT_30_CABG  MORT_30_COPD  MORT_30_HF  MORT_30_PN  MORT_30_STK  \\\n",
       "0      4.500000           8.9        12.5        16.2         13.7   \n",
       "1      3.230405          10.9        15.3        20.8         15.7   \n",
       "2      3.200000           8.8        13.2        17.2         17.2   \n",
       "3      3.230405           8.3        13.3        21.6         15.9   \n",
       "4      3.700000           8.9        13.1        16.1         12.4   \n",
       "\n",
       "      ...       H_QUIET_LINEAR_SCORE  H_RECMND_LINEAR_SCORE  \\\n",
       "0     ...                         86                     84   \n",
       "1     ...                         85                     88   \n",
       "2     ...                         82                     84   \n",
       "3     ...                         86                     85   \n",
       "4     ...                         81                     86   \n",
       "\n",
       "                      Hospital Name                     Address        City  \\\n",
       "0  SOUTHEAST ALABAMA MEDICAL CENTER      1108 ROSS CLARK CIRCLE      DOTHAN   \n",
       "1     MARSHALL MEDICAL CENTER SOUTH  2505 U S HIGHWAY 431 NORTH        BOAZ   \n",
       "2    ELIZA COFFEE MEMORIAL HOSPITAL          205 MARENGO STREET    FLORENCE   \n",
       "3          MIZELL MEMORIAL HOSPITAL               702 N MAIN ST         OPP   \n",
       "4                 ST VINCENT'S EAST  50 MEDICAL PARK EAST DRIVE  BIRMINGHAM   \n",
       "\n",
       "   State  ZIP Code  Number of Completed Surveys  Survey Response Rate Percent  \\\n",
       "0     AL       363                          506                            21   \n",
       "1     AL       359                         1135                            34   \n",
       "2     AL       356                          579                            22   \n",
       "3     AL       364                          185                            27   \n",
       "4     AL       352                         2193                            33   \n",
       "\n",
       "   STAR_RATING  \n",
       "0            2  \n",
       "1            3  \n",
       "2            2  \n",
       "3            2  \n",
       "4            3  \n",
       "\n",
       "[5 rows x 40 columns]"
      ]
     },
     "execution_count": 7,
     "metadata": {},
     "output_type": "execute_result"
    }
   ],
   "source": [
    "df_mean.head()"
   ]
  },
  {
   "cell_type": "markdown",
   "metadata": {},
   "source": [
    "# Model Selection - Mean"
   ]
  },
  {
   "cell_type": "code",
   "execution_count": 8,
   "metadata": {},
   "outputs": [],
   "source": [
    "y=df_mean['STAR_RATING']\n",
    "cols=[\"COMP_HIP_KNEE\",\"MORT_30_AMI\",\"MORT_30_CABG\",\"MORT_30_COPD\",\"MORT_30_HF\",\"MORT_30_PN\",\"MORT_30_STK\",\n",
    "      \"PSI_10_POST_KIDNEY\",\"PSI_11_POST_RESP\",\"PSI_12_POSTOP_PULMEMB_DVT\",\"PSI_13_POST_SEPSIS\",\"PSI_14_POSTOP_DEHIS\",\n",
    "      \"PSI_15_ACC_LAC\",\"PSI_3_ULCER\",\"PSI_4_SURG_COMP\",\"PSI_6_IAT_PTX\",\"PSI_8_POST_HIP\",\"PSI_90_SAFETY\",\n",
    "      \"PSI_9_POST_HEM\"\n",
    "      ,\"H_CLEAN_LINEAR_SCORE\",\"H_COMP_1_LINEAR_SCORE\",\"H_COMP_2_LINEAR_SCORE\",\n",
    "      \"H_COMP_3_LINEAR_SCORE\",\"H_COMP_5_LINEAR_SCORE\",\"H_COMP_6_LINEAR_SCORE\",\"H_COMP_7_LINEAR_SCORE\"\n",
    "      ,\"H_QUIET_LINEAR_SCORE\"\n",
    "      #,'ZIP Code'\n",
    "      #,\"H_HSP_RATING_LINEAR_SCORE\"\n",
    "     ]\n",
    "x=df_mean[cols]"
   ]
  },
  {
   "cell_type": "code",
   "execution_count": 9,
   "metadata": {},
   "outputs": [],
   "source": [
    "#from sklearn.preprocessing import StandardScaler\n",
    "#import numpy as np\n",
    "#stscaler = StandardScaler().fit(x)\n",
    "#x_stand = stscaler.transform(x)"
   ]
  },
  {
   "cell_type": "code",
   "execution_count": 10,
   "metadata": {},
   "outputs": [],
   "source": [
    "#from sklearn.preprocessing import normalize\n",
    "#x_norm=x.values\n",
    "# Any Pre-processing needed?\n",
    "#x_norm = normalize(x_norm)"
   ]
  },
  {
   "cell_type": "code",
   "execution_count": 11,
   "metadata": {},
   "outputs": [],
   "source": [
    "import sklearn.model_selection as cv\n",
    "\n",
    "SEED = 1\n",
    "\n",
    "(x_train, x_test, y_train, y_test) = cv.train_test_split(x, y, test_size=.20, random_state = SEED)"
   ]
  },
  {
   "cell_type": "code",
   "execution_count": 12,
   "metadata": {},
   "outputs": [],
   "source": [
    "from sklearn.metrics import accuracy_score\n",
    "from sklearn.metrics import precision_score\n",
    "from sklearn.metrics import recall_score\n",
    "from sklearn.ensemble import RandomForestClassifier\n",
    "from sklearn.neighbors import KNeighborsClassifier as KNN\n",
    "from sklearn.metrics import f1_score\n",
    "\n",
    "\n",
    "# Instantiate individual classifiers\n",
    "rf = RandomForestClassifier(n_estimators=150, random_state=SEED)\n",
    "knn = KNN(n_neighbors=11)\n",
    "\n",
    "# Define a list called classifier that contains\n",
    "# the tuples (classifier_name, classifier)\n",
    "classifiers = [('Random Forest', rf),\n",
    "               ('K Nearest Neighbours', knn)\n",
    "              ]"
   ]
  },
  {
   "cell_type": "code",
   "execution_count": 13,
   "metadata": {
    "scrolled": true
   },
   "outputs": [
    {
     "name": "stdout",
     "output_type": "stream",
     "text": [
      "Accuracy: Random Forest : 0.661\n",
      "Precision: Random Forest : 0.672\n",
      "Recall: Random Forest : 0.562\n",
      "F1 Score: Random Forest : 0.602\n",
      "Accuracy: K Nearest Neighbours : 0.598\n",
      "Precision: K Nearest Neighbours : 0.639\n",
      "Recall: K Nearest Neighbours : 0.486\n",
      "F1 Score: K Nearest Neighbours : 0.532\n"
     ]
    }
   ],
   "source": [
    "for clf_name, clf in classifiers:\n",
    "#fit clf to the training set\n",
    "    clf.fit(x_train, y_train)\n",
    "# Predict the labels of the test set\n",
    "    y_pred = clf.predict(x_test)\n",
    "\n",
    "# Evaluate the accuracy of clf on the test set\n",
    "    print('Accuracy: {:s} : {:.3f}'.format(clf_name,accuracy_score(y_test, y_pred)))\n",
    "    print('Precision: {:s} : {:.3f}'.format(clf_name,precision_score(y_test, y_pred, average='macro')))\n",
    "    print('Recall: {:s} : {:.3f}'.format(clf_name,recall_score(y_test, y_pred, average='macro')))\n",
    "    print('F1 Score: {:s} : {:.3f}'.format(clf_name,f1_score(y_test, y_pred, average='macro')))"
   ]
  },
  {
   "cell_type": "markdown",
   "metadata": {},
   "source": [
    "# Feature Importance"
   ]
  },
  {
   "cell_type": "code",
   "execution_count": 14,
   "metadata": {},
   "outputs": [],
   "source": [
    "model = rf.fit(x_train, y_train)"
   ]
  },
  {
   "cell_type": "code",
   "execution_count": 15,
   "metadata": {
    "scrolled": true
   },
   "outputs": [
    {
     "data": {
      "text/plain": [
       "<matplotlib.axes._subplots.AxesSubplot at 0x1a1b2fc4a8>"
      ]
     },
     "execution_count": 15,
     "metadata": {},
     "output_type": "execute_result"
    },
    {
     "data": {
      "image/png": "[encoded data removed]",
      "text/plain": [
       "<Figure size 432x288 with 1 Axes>"
      ]
     },
     "metadata": {},
     "output_type": "display_data"
    }
   ],
   "source": [
    "feat_importances = pd.Series(model.feature_importances_, index=cols)\n",
    "feat_importances.nlargest(10).plot(kind='barh')"
   ]
  },
  {
   "cell_type": "markdown",
   "metadata": {},
   "source": [
    "# Model Selection - KNN"
   ]
  },
  {
   "cell_type": "code",
   "execution_count": 16,
   "metadata": {},
   "outputs": [],
   "source": [
    "y=df_knn['STAR_RATING']\n",
    "cols=[\"COMP_HIP_KNEE\",\"MORT_30_AMI\",\"MORT_30_CABG\",\"MORT_30_COPD\",\"MORT_30_HF\",\"MORT_30_PN\",\"MORT_30_STK\",\n",
    "      \"PSI_10_POST_KIDNEY\",\"PSI_11_POST_RESP\",\"PSI_12_POSTOP_PULMEMB_DVT\",\"PSI_13_POST_SEPSIS\",\"PSI_14_POSTOP_DEHIS\",\n",
    "      \"PSI_15_ACC_LAC\",\"PSI_3_ULCER\",\"PSI_4_SURG_COMP\",\"PSI_6_IAT_PTX\",\"PSI_8_POST_HIP\",\"PSI_90_SAFETY\",\n",
    "      \"PSI_9_POST_HEM\"\n",
    "      ,\"H_CLEAN_LINEAR_SCORE\",\"H_COMP_1_LINEAR_SCORE\",\"H_COMP_2_LINEAR_SCORE\",\n",
    "      \"H_COMP_3_LINEAR_SCORE\",\"H_COMP_5_LINEAR_SCORE\",\"H_COMP_6_LINEAR_SCORE\",\"H_COMP_7_LINEAR_SCORE\"\n",
    "      ,\"H_QUIET_LINEAR_SCORE\"\n",
    "      #,'ZIP Code'\n",
    "      #,\"H_HSP_RATING_LINEAR_SCORE\"\n",
    "     ]\n",
    "x=df_knn[cols]"
   ]
  },
  {
   "cell_type": "code",
   "execution_count": 17,
   "metadata": {},
   "outputs": [],
   "source": [
    "#from sklearn.preprocessing import StandardScaler\n",
    "#import numpy as np\n",
    "#stscaler = StandardScaler().fit(x)\n",
    "#x_stand = stscaler.transform(x)"
   ]
  },
  {
   "cell_type": "code",
   "execution_count": 18,
   "metadata": {},
   "outputs": [],
   "source": [
    "#from sklearn.preprocessing import normalize\n",
    "#x_norm=x.values\n",
    "# Any Pre-processing needed?\n",
    "#x_norm = normalize(x_norm)"
   ]
  },
  {
   "cell_type": "code",
   "execution_count": 19,
   "metadata": {},
   "outputs": [],
   "source": [
    "import sklearn.model_selection as cv\n",
    "\n",
    "SEED = 1\n",
    "\n",
    "(x_train, x_test, y_train, y_test) = cv.train_test_split(x, y, test_size=.20, random_state = SEED)"
   ]
  },
  {
   "cell_type": "code",
   "execution_count": 20,
   "metadata": {},
   "outputs": [],
   "source": [
    "from sklearn.metrics import accuracy_score\n",
    "from sklearn.metrics import precision_score\n",
    "from sklearn.metrics import recall_score\n",
    "from sklearn.ensemble import RandomForestClassifier\n",
    "from sklearn.neighbors import KNeighborsClassifier as KNN\n",
    "from sklearn.metrics import f1_score\n",
    "\n",
    "\n",
    "# Instantiate individual classifiers\n",
    "rf = RandomForestClassifier(n_estimators=125, random_state=SEED)\n",
    "knn = KNN(n_neighbors=15)\n",
    "\n",
    "# Define a list called classifier that contains\n",
    "# the tuples (classifier_name, classifier)\n",
    "classifiers = [('Random Forest', rf),\n",
    "               ('K Nearest Neighbours', knn)\n",
    "              ]"
   ]
  },
  {
   "cell_type": "code",
   "execution_count": 21,
   "metadata": {
    "scrolled": true
   },
   "outputs": [
    {
     "name": "stdout",
     "output_type": "stream",
     "text": [
      "Accuracy: Random Forest : 0.669\n",
      "Precision: Random Forest : 0.682\n",
      "Recall: Random Forest : 0.560\n",
      "F1 Score: Random Forest : 0.603\n",
      "Accuracy: K Nearest Neighbours : 0.609\n",
      "Precision: K Nearest Neighbours : 0.635\n",
      "Recall: K Nearest Neighbours : 0.490\n",
      "F1 Score: K Nearest Neighbours : 0.532\n"
     ]
    }
   ],
   "source": [
    "for clf_name, clf in classifiers:\n",
    "#fit clf to the training set\n",
    "    clf.fit(x_train, y_train)\n",
    "# Predict the labels of the test set\n",
    "    y_pred = clf.predict(x_test)\n",
    "\n",
    "# Evaluate the accuracy of clf on the test set\n",
    "    print('Accuracy: {:s} : {:.3f}'.format(clf_name,accuracy_score(y_test, y_pred)))\n",
    "    print('Precision: {:s} : {:.3f}'.format(clf_name,precision_score(y_test, y_pred, average='macro')))\n",
    "    print('Recall: {:s} : {:.3f}'.format(clf_name,recall_score(y_test, y_pred, average='macro')))\n",
    "    print('F1 Score: {:s} : {:.3f}'.format(clf_name,f1_score(y_test, y_pred, average='macro')))"
   ]
  },
  {
   "cell_type": "markdown",
   "metadata": {},
   "source": [
    "# Feature Importance"
   ]
  },
  {
   "cell_type": "code",
   "execution_count": 22,
   "metadata": {},
   "outputs": [],
   "source": [
    "model = rf.fit(x_train, y_train)"
   ]
  },
  {
   "cell_type": "code",
   "execution_count": 23,
   "metadata": {},
   "outputs": [
    {
     "data": {
      "text/plain": [
       "<matplotlib.axes._subplots.AxesSubplot at 0x1a1b1ae208>"
      ]
     },
     "execution_count": 23,
     "metadata": {},
     "output_type": "execute_result"
    },
    {
     "data": {
      "image/png": "[encoded data removed]",
      "text/plain": [
       "<Figure size 432x288 with 1 Axes>"
      ]
     },
     "metadata": {},
     "output_type": "display_data"
    }
   ],
   "source": [
    "feat_importances = pd.Series(model.feature_importances_, index=cols)\n",
    "feat_importances.nlargest(10).plot(kind='barh')"
   ]
  },
  {
   "cell_type": "markdown",
   "metadata": {},
   "source": [
    "# Model Selection - Iterative"
   ]
  },
  {
   "cell_type": "code",
   "execution_count": 24,
   "metadata": {},
   "outputs": [],
   "source": [
    "y=df_iterative['STAR_RATING']\n",
    "cols=[\"COMP_HIP_KNEE\",\"MORT_30_AMI\",\"MORT_30_CABG\",\"MORT_30_COPD\",\"MORT_30_HF\",\"MORT_30_PN\",\"MORT_30_STK\",\n",
    "      \"PSI_10_POST_KIDNEY\",\"PSI_11_POST_RESP\",\"PSI_12_POSTOP_PULMEMB_DVT\",\"PSI_13_POST_SEPSIS\",\"PSI_14_POSTOP_DEHIS\",\n",
    "      \"PSI_15_ACC_LAC\",\"PSI_3_ULCER\",\"PSI_4_SURG_COMP\",\"PSI_6_IAT_PTX\",\"PSI_8_POST_HIP\",\"PSI_90_SAFETY\",\n",
    "      \"PSI_9_POST_HEM\"\n",
    "      ,\"H_CLEAN_LINEAR_SCORE\",\"H_COMP_1_LINEAR_SCORE\",\"H_COMP_2_LINEAR_SCORE\",\n",
    "      \"H_COMP_3_LINEAR_SCORE\",\"H_COMP_5_LINEAR_SCORE\",\"H_COMP_6_LINEAR_SCORE\",\"H_COMP_7_LINEAR_SCORE\"\n",
    "      ,\"H_QUIET_LINEAR_SCORE\"\n",
    "      #,'ZIP Code'\n",
    "      #,\"H_HSP_RATING_LINEAR_SCORE\"\n",
    "     ]\n",
    "x=df_iterative[cols]"
   ]
  },
  {
   "cell_type": "code",
   "execution_count": 25,
   "metadata": {},
   "outputs": [],
   "source": [
    "#from sklearn.preprocessing import StandardScaler\n",
    "#import numpy as np\n",
    "#stscaler = StandardScaler().fit(x)\n",
    "#x_stand = stscaler.transform(x)"
   ]
  },
  {
   "cell_type": "code",
   "execution_count": 26,
   "metadata": {},
   "outputs": [],
   "source": [
    "#from sklearn.preprocessing import normalize\n",
    "#x_norm=x.values\n",
    "# Any Pre-processing needed?\n",
    "#x_norm = normalize(x_norm)"
   ]
  },
  {
   "cell_type": "code",
   "execution_count": 27,
   "metadata": {},
   "outputs": [],
   "source": [
    "import sklearn.model_selection as cv\n",
    "\n",
    "SEED = 1\n",
    "\n",
    "(x_train, x_test, y_train, y_test) = cv.train_test_split(x, y, test_size=.20, random_state = SEED)"
   ]
  },
  {
   "cell_type": "code",
   "execution_count": 28,
   "metadata": {},
   "outputs": [],
   "source": [
    "from sklearn.metrics import accuracy_score\n",
    "from sklearn.metrics import precision_score\n",
    "from sklearn.metrics import recall_score\n",
    "from sklearn.ensemble import RandomForestClassifier\n",
    "from sklearn.neighbors import KNeighborsClassifier as KNN\n",
    "from sklearn.metrics import f1_score\n",
    "\n",
    "\n",
    "# Instantiate individual classifiers\n",
    "rf = RandomForestClassifier(n_estimators=120, random_state=SEED)\n",
    "knn = KNN(n_neighbors=15)\n",
    "\n",
    "# Define a list called classifier that contains\n",
    "# the tuples (classifier_name, classifier)\n",
    "classifiers = [('Random Forest', rf),\n",
    "               ('K Nearest Neighbours', knn)\n",
    "              ]"
   ]
  },
  {
   "cell_type": "code",
   "execution_count": 29,
   "metadata": {
    "scrolled": false
   },
   "outputs": [
    {
     "name": "stdout",
     "output_type": "stream",
     "text": [
      "Accuracy: Random Forest : 0.700\n",
      "Precision: Random Forest : 0.731\n",
      "Recall: Random Forest : 0.595\n",
      "F1 Score: Random Forest : 0.643\n",
      "Accuracy: K Nearest Neighbours : 0.623\n",
      "Precision: K Nearest Neighbours : 0.638\n",
      "Recall: K Nearest Neighbours : 0.485\n",
      "F1 Score: K Nearest Neighbours : 0.529\n"
     ]
    }
   ],
   "source": [
    "for clf_name, clf in classifiers:\n",
    "#fit clf to the training set\n",
    "    clf.fit(x_train, y_train)\n",
    "# Predict the labels of the test set\n",
    "    y_pred = clf.predict(x_test)\n",
    "\n",
    "# Evaluate the accuracy of clf on the test set\n",
    "    print('Accuracy: {:s} : {:.3f}'.format(clf_name,accuracy_score(y_test, y_pred)))\n",
    "    print('Precision: {:s} : {:.3f}'.format(clf_name,precision_score(y_test, y_pred, average='macro')))\n",
    "    print('Recall: {:s} : {:.3f}'.format(clf_name,recall_score(y_test, y_pred, average='macro')))\n",
    "    print('F1 Score: {:s} : {:.3f}'.format(clf_name,f1_score(y_test, y_pred, average='macro')))"
   ]
  },
  {
   "cell_type": "markdown",
   "metadata": {},
   "source": [
    "# Feature Importance"
   ]
  },
  {
   "cell_type": "code",
   "execution_count": 30,
   "metadata": {},
   "outputs": [],
   "source": [
    "model = rf.fit(x_train, y_train)"
   ]
  },
  {
   "cell_type": "code",
   "execution_count": 31,
   "metadata": {},
   "outputs": [
    {
     "data": {
      "text/plain": [
       "<matplotlib.axes._subplots.AxesSubplot at 0x1a1b2afeb8>"
      ]
     },
     "execution_count": 31,
     "metadata": {},
     "output_type": "execute_result"
    },
    {
     "data": {
      "image/png": "[encoded data removed]",
      "text/plain": [
       "<Figure size 432x288 with 1 Axes>"
      ]
     },
     "metadata": {},
     "output_type": "display_data"
    }
   ],
   "source": [
    "feat_importances = pd.Series(model.feature_importances_, index=cols)\n",
    "feat_importances.nlargest(10).plot(kind='barh')"
   ]
  }
 ],
 "metadata": {
  "kernelspec": {
   "display_name": "Python 3",
   "language": "python",
   "name": "python3"
  },
  "language_info": {
   "codemirror_mode": {
    "name": "ipython",
    "version": 3
   },
   "file_extension": ".py",
   "mimetype": "text/x-python",
   "name": "python",
   "nbconvert_exporter": "python",
   "pygments_lexer": "ipython3",
   "version": "3.6.5"
  }
 },
 "nbformat": 4,
 "nbformat_minor": 2
}
