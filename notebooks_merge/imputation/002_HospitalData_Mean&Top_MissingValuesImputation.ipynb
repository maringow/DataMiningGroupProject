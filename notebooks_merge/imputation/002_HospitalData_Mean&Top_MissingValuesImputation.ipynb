{
 "cells": [
  {
   "cell_type": "code",
   "execution_count": 145,
   "metadata": {},
   "outputs": [],
   "source": [
    "#import the required packages\n",
    "%matplotlib inline\n",
    "import numpy as np\n",
    "import pandas as pd\n",
    "from scipy import stats"
   ]
  },
  {
   "cell_type": "code",
   "execution_count": 146,
   "metadata": {},
   "outputs": [
    {
     "data": {
      "text/html": [
       "<div>\n",
       "<style scoped>\n",
       "    .dataframe tbody tr th:only-of-type {\n",
       "        vertical-align: middle;\n",
       "    }\n",
       "\n",
       "    .dataframe tbody tr th {\n",
       "        vertical-align: top;\n",
       "    }\n",
       "\n",
       "    .dataframe thead th {\n",
       "        text-align: right;\n",
       "    }\n",
       "</style>\n",
       "<table border=\"1\" class=\"dataframe\">\n",
       "  <thead>\n",
       "    <tr style=\"text-align: right;\">\n",
       "      <th></th>\n",
       "      <th>Unnamed: 0</th>\n",
       "      <th>Provider ID</th>\n",
       "      <th>COMP_HIP_KNEE</th>\n",
       "      <th>MORT_30_AMI</th>\n",
       "      <th>MORT_30_CABG</th>\n",
       "      <th>MORT_30_COPD</th>\n",
       "      <th>MORT_30_HF</th>\n",
       "      <th>MORT_30_PN</th>\n",
       "      <th>MORT_30_STK</th>\n",
       "      <th>PSI_10_POST_KIDNEY</th>\n",
       "      <th>...</th>\n",
       "      <th>H_HSP_RATING_LINEAR_SCORE</th>\n",
       "      <th>H_QUIET_LINEAR_SCORE</th>\n",
       "      <th>H_RECMND_LINEAR_SCORE</th>\n",
       "      <th>Hospital Name</th>\n",
       "      <th>Address</th>\n",
       "      <th>City</th>\n",
       "      <th>State</th>\n",
       "      <th>ZIP Code</th>\n",
       "      <th>Number of Completed Surveys</th>\n",
       "      <th>Survey Response Rate Percent</th>\n",
       "    </tr>\n",
       "  </thead>\n",
       "  <tbody>\n",
       "    <tr>\n",
       "      <th>0</th>\n",
       "      <td>0</td>\n",
       "      <td>010001</td>\n",
       "      <td>3.0</td>\n",
       "      <td>14.5</td>\n",
       "      <td>4.5</td>\n",
       "      <td>8.9</td>\n",
       "      <td>12.5</td>\n",
       "      <td>16.2</td>\n",
       "      <td>13.7</td>\n",
       "      <td>0.65</td>\n",
       "      <td>...</td>\n",
       "      <td>83</td>\n",
       "      <td>86</td>\n",
       "      <td>84</td>\n",
       "      <td>SOUTHEAST ALABAMA MEDICAL CENTER</td>\n",
       "      <td>1108 ROSS CLARK CIRCLE</td>\n",
       "      <td>DOTHAN</td>\n",
       "      <td>AL</td>\n",
       "      <td>36301.0</td>\n",
       "      <td>506</td>\n",
       "      <td>21</td>\n",
       "    </tr>\n",
       "    <tr>\n",
       "      <th>1</th>\n",
       "      <td>1</td>\n",
       "      <td>010005</td>\n",
       "      <td>3.0</td>\n",
       "      <td>15.5</td>\n",
       "      <td>NaN</td>\n",
       "      <td>10.9</td>\n",
       "      <td>15.3</td>\n",
       "      <td>20.8</td>\n",
       "      <td>15.7</td>\n",
       "      <td>1.10</td>\n",
       "      <td>...</td>\n",
       "      <td>88</td>\n",
       "      <td>85</td>\n",
       "      <td>88</td>\n",
       "      <td>MARSHALL MEDICAL CENTER SOUTH</td>\n",
       "      <td>2505 U S HIGHWAY 431 NORTH</td>\n",
       "      <td>BOAZ</td>\n",
       "      <td>AL</td>\n",
       "      <td>35957.0</td>\n",
       "      <td>1135</td>\n",
       "      <td>34</td>\n",
       "    </tr>\n",
       "  </tbody>\n",
       "</table>\n",
       "<p>2 rows × 38 columns</p>\n",
       "</div>"
      ],
      "text/plain": [
       "   Unnamed: 0 Provider ID  COMP_HIP_KNEE  MORT_30_AMI  MORT_30_CABG  \\\n",
       "0           0      010001            3.0         14.5           4.5   \n",
       "1           1      010005            3.0         15.5           NaN   \n",
       "\n",
       "   MORT_30_COPD  MORT_30_HF  MORT_30_PN  MORT_30_STK  PSI_10_POST_KIDNEY  ...  \\\n",
       "0           8.9        12.5        16.2         13.7                0.65  ...   \n",
       "1          10.9        15.3        20.8         15.7                1.10  ...   \n",
       "\n",
       "   H_HSP_RATING_LINEAR_SCORE  H_QUIET_LINEAR_SCORE  H_RECMND_LINEAR_SCORE  \\\n",
       "0                         83                    86                     84   \n",
       "1                         88                    85                     88   \n",
       "\n",
       "                      Hospital Name                     Address    City  \\\n",
       "0  SOUTHEAST ALABAMA MEDICAL CENTER      1108 ROSS CLARK CIRCLE  DOTHAN   \n",
       "1     MARSHALL MEDICAL CENTER SOUTH  2505 U S HIGHWAY 431 NORTH    BOAZ   \n",
       "\n",
       "   State  ZIP Code  Number of Completed Surveys  Survey Response Rate Percent  \n",
       "0     AL   36301.0                          506                            21  \n",
       "1     AL   35957.0                         1135                            34  \n",
       "\n",
       "[2 rows x 38 columns]"
      ]
     },
     "execution_count": 146,
     "metadata": {},
     "output_type": "execute_result"
    }
   ],
   "source": [
    "## Upload CSV File\n",
    "Hospital_data = pd.read_csv('/Users/michaeldiarra/OneDrive/Samsung Ultra/U Chicago Ms Analytics/Program/Spring 2019/MSCA 31008 01 - Data Mining Principles/Graded Assignments/Group Project/hospitalDataTarget.csv')\n",
    "Hospital_data.head(2)"
   ]
  },
  {
   "cell_type": "code",
   "execution_count": 148,
   "metadata": {},
   "outputs": [
    {
     "name": "stdout",
     "output_type": "stream",
     "text": [
      "<class 'pandas.core.frame.DataFrame'>\n",
      "RangeIndex: 3529 entries, 0 to 3528\n",
      "Data columns (total 38 columns):\n",
      "Unnamed: 0                      3529 non-null int64\n",
      "Provider ID                     3529 non-null object\n",
      "COMP_HIP_KNEE                   2659 non-null float64\n",
      "MORT_30_AMI                     2380 non-null float64\n",
      "MORT_30_CABG                    1013 non-null float64\n",
      "MORT_30_COPD                    3091 non-null float64\n",
      "MORT_30_HF                      3238 non-null float64\n",
      "MORT_30_PN                      3333 non-null float64\n",
      "MORT_30_STK                     2538 non-null float64\n",
      "PSI_10_POST_KIDNEY              2701 non-null float64\n",
      "PSI_11_POST_RESP                2681 non-null float64\n",
      "PSI_12_POSTOP_PULMEMB_DVT       2904 non-null float64\n",
      "PSI_13_POST_SEPSIS              2688 non-null float64\n",
      "PSI_14_POSTOP_DEHIS             2724 non-null float64\n",
      "PSI_15_ACC_LAC                  2874 non-null float64\n",
      "PSI_3_ULCER                     2956 non-null float64\n",
      "PSI_4_SURG_COMP                 1706 non-null float64\n",
      "PSI_6_IAT_PTX                   2965 non-null float64\n",
      "PSI_8_POST_HIP                  2965 non-null float64\n",
      "PSI_90_SAFETY                   2967 non-null float64\n",
      "PSI_9_POST_HEM                  2901 non-null float64\n",
      "H_CLEAN_LINEAR_SCORE            3529 non-null int64\n",
      "H_COMP_1_LINEAR_SCORE           3529 non-null int64\n",
      "H_COMP_2_LINEAR_SCORE           3529 non-null int64\n",
      "H_COMP_3_LINEAR_SCORE           3529 non-null int64\n",
      "H_COMP_5_LINEAR_SCORE           3529 non-null int64\n",
      "H_COMP_6_LINEAR_SCORE           3529 non-null int64\n",
      "H_COMP_7_LINEAR_SCORE           3529 non-null int64\n",
      "H_HSP_RATING_LINEAR_SCORE       3529 non-null int64\n",
      "H_QUIET_LINEAR_SCORE            3529 non-null int64\n",
      "H_RECMND_LINEAR_SCORE           3529 non-null int64\n",
      "Hospital Name                   3529 non-null object\n",
      "Address                         3529 non-null object\n",
      "City                            3529 non-null object\n",
      "State                           3529 non-null object\n",
      "ZIP Code                        3529 non-null float64\n",
      "Number of Completed Surveys     3529 non-null int64\n",
      "Survey Response Rate Percent    3529 non-null int64\n",
      "dtypes: float64(20), int64(13), object(5)\n",
      "memory usage: 1.0+ MB\n"
     ]
    }
   ],
   "source": [
    "# Explore dataset\n",
    "Hospital_data.info()"
   ]
  },
  {
   "cell_type": "code",
   "execution_count": 149,
   "metadata": {},
   "outputs": [
    {
     "data": {
      "text/html": [
       "<div>\n",
       "<style scoped>\n",
       "    .dataframe tbody tr th:only-of-type {\n",
       "        vertical-align: middle;\n",
       "    }\n",
       "\n",
       "    .dataframe tbody tr th {\n",
       "        vertical-align: top;\n",
       "    }\n",
       "\n",
       "    .dataframe thead th {\n",
       "        text-align: right;\n",
       "    }\n",
       "</style>\n",
       "<table border=\"1\" class=\"dataframe\">\n",
       "  <thead>\n",
       "    <tr style=\"text-align: right;\">\n",
       "      <th></th>\n",
       "      <th>Number of missing Values</th>\n",
       "      <th>Percentage of missing values</th>\n",
       "    </tr>\n",
       "  </thead>\n",
       "  <tbody>\n",
       "    <tr>\n",
       "      <th>Address</th>\n",
       "      <td>0</td>\n",
       "      <td>0.000000</td>\n",
       "    </tr>\n",
       "    <tr>\n",
       "      <th>COMP_HIP_KNEE</th>\n",
       "      <td>870</td>\n",
       "      <td>24.652876</td>\n",
       "    </tr>\n",
       "    <tr>\n",
       "      <th>City</th>\n",
       "      <td>0</td>\n",
       "      <td>0.000000</td>\n",
       "    </tr>\n",
       "    <tr>\n",
       "      <th>H_CLEAN_LINEAR_SCORE</th>\n",
       "      <td>0</td>\n",
       "      <td>0.000000</td>\n",
       "    </tr>\n",
       "    <tr>\n",
       "      <th>H_COMP_1_LINEAR_SCORE</th>\n",
       "      <td>0</td>\n",
       "      <td>0.000000</td>\n",
       "    </tr>\n",
       "    <tr>\n",
       "      <th>H_COMP_2_LINEAR_SCORE</th>\n",
       "      <td>0</td>\n",
       "      <td>0.000000</td>\n",
       "    </tr>\n",
       "    <tr>\n",
       "      <th>H_COMP_3_LINEAR_SCORE</th>\n",
       "      <td>0</td>\n",
       "      <td>0.000000</td>\n",
       "    </tr>\n",
       "    <tr>\n",
       "      <th>H_COMP_5_LINEAR_SCORE</th>\n",
       "      <td>0</td>\n",
       "      <td>0.000000</td>\n",
       "    </tr>\n",
       "    <tr>\n",
       "      <th>H_COMP_6_LINEAR_SCORE</th>\n",
       "      <td>0</td>\n",
       "      <td>0.000000</td>\n",
       "    </tr>\n",
       "    <tr>\n",
       "      <th>H_COMP_7_LINEAR_SCORE</th>\n",
       "      <td>0</td>\n",
       "      <td>0.000000</td>\n",
       "    </tr>\n",
       "    <tr>\n",
       "      <th>H_HSP_RATING_LINEAR_SCORE</th>\n",
       "      <td>0</td>\n",
       "      <td>0.000000</td>\n",
       "    </tr>\n",
       "    <tr>\n",
       "      <th>H_QUIET_LINEAR_SCORE</th>\n",
       "      <td>0</td>\n",
       "      <td>0.000000</td>\n",
       "    </tr>\n",
       "    <tr>\n",
       "      <th>H_RECMND_LINEAR_SCORE</th>\n",
       "      <td>0</td>\n",
       "      <td>0.000000</td>\n",
       "    </tr>\n",
       "    <tr>\n",
       "      <th>Hospital Name</th>\n",
       "      <td>0</td>\n",
       "      <td>0.000000</td>\n",
       "    </tr>\n",
       "    <tr>\n",
       "      <th>MORT_30_AMI</th>\n",
       "      <td>1149</td>\n",
       "      <td>32.558799</td>\n",
       "    </tr>\n",
       "    <tr>\n",
       "      <th>MORT_30_CABG</th>\n",
       "      <td>2516</td>\n",
       "      <td>71.294984</td>\n",
       "    </tr>\n",
       "    <tr>\n",
       "      <th>MORT_30_COPD</th>\n",
       "      <td>438</td>\n",
       "      <td>12.411448</td>\n",
       "    </tr>\n",
       "    <tr>\n",
       "      <th>MORT_30_HF</th>\n",
       "      <td>291</td>\n",
       "      <td>8.245962</td>\n",
       "    </tr>\n",
       "    <tr>\n",
       "      <th>MORT_30_PN</th>\n",
       "      <td>196</td>\n",
       "      <td>5.553981</td>\n",
       "    </tr>\n",
       "    <tr>\n",
       "      <th>MORT_30_STK</th>\n",
       "      <td>991</td>\n",
       "      <td>28.081610</td>\n",
       "    </tr>\n",
       "    <tr>\n",
       "      <th>Number of Completed Surveys</th>\n",
       "      <td>0</td>\n",
       "      <td>0.000000</td>\n",
       "    </tr>\n",
       "    <tr>\n",
       "      <th>PSI_10_POST_KIDNEY</th>\n",
       "      <td>828</td>\n",
       "      <td>23.462737</td>\n",
       "    </tr>\n",
       "    <tr>\n",
       "      <th>PSI_11_POST_RESP</th>\n",
       "      <td>848</td>\n",
       "      <td>24.029470</td>\n",
       "    </tr>\n",
       "    <tr>\n",
       "      <th>PSI_12_POSTOP_PULMEMB_DVT</th>\n",
       "      <td>625</td>\n",
       "      <td>17.710400</td>\n",
       "    </tr>\n",
       "    <tr>\n",
       "      <th>PSI_13_POST_SEPSIS</th>\n",
       "      <td>841</td>\n",
       "      <td>23.831114</td>\n",
       "    </tr>\n",
       "    <tr>\n",
       "      <th>PSI_14_POSTOP_DEHIS</th>\n",
       "      <td>805</td>\n",
       "      <td>22.810995</td>\n",
       "    </tr>\n",
       "    <tr>\n",
       "      <th>PSI_15_ACC_LAC</th>\n",
       "      <td>655</td>\n",
       "      <td>18.560499</td>\n",
       "    </tr>\n",
       "    <tr>\n",
       "      <th>PSI_3_ULCER</th>\n",
       "      <td>573</td>\n",
       "      <td>16.236894</td>\n",
       "    </tr>\n",
       "    <tr>\n",
       "      <th>PSI_4_SURG_COMP</th>\n",
       "      <td>1823</td>\n",
       "      <td>51.657693</td>\n",
       "    </tr>\n",
       "    <tr>\n",
       "      <th>PSI_6_IAT_PTX</th>\n",
       "      <td>564</td>\n",
       "      <td>15.981865</td>\n",
       "    </tr>\n",
       "    <tr>\n",
       "      <th>PSI_8_POST_HIP</th>\n",
       "      <td>564</td>\n",
       "      <td>15.981865</td>\n",
       "    </tr>\n",
       "    <tr>\n",
       "      <th>PSI_90_SAFETY</th>\n",
       "      <td>562</td>\n",
       "      <td>15.925191</td>\n",
       "    </tr>\n",
       "    <tr>\n",
       "      <th>PSI_9_POST_HEM</th>\n",
       "      <td>628</td>\n",
       "      <td>17.795409</td>\n",
       "    </tr>\n",
       "    <tr>\n",
       "      <th>Provider ID</th>\n",
       "      <td>0</td>\n",
       "      <td>0.000000</td>\n",
       "    </tr>\n",
       "    <tr>\n",
       "      <th>State</th>\n",
       "      <td>0</td>\n",
       "      <td>0.000000</td>\n",
       "    </tr>\n",
       "    <tr>\n",
       "      <th>Survey Response Rate Percent</th>\n",
       "      <td>0</td>\n",
       "      <td>0.000000</td>\n",
       "    </tr>\n",
       "    <tr>\n",
       "      <th>Unnamed: 0</th>\n",
       "      <td>0</td>\n",
       "      <td>0.000000</td>\n",
       "    </tr>\n",
       "    <tr>\n",
       "      <th>ZIP Code</th>\n",
       "      <td>0</td>\n",
       "      <td>0.000000</td>\n",
       "    </tr>\n",
       "  </tbody>\n",
       "</table>\n",
       "</div>"
      ],
      "text/plain": [
       "                              Number of missing Values  \\\n",
       "Address                                              0   \n",
       "COMP_HIP_KNEE                                      870   \n",
       "City                                                 0   \n",
       "H_CLEAN_LINEAR_SCORE                                 0   \n",
       "H_COMP_1_LINEAR_SCORE                                0   \n",
       "H_COMP_2_LINEAR_SCORE                                0   \n",
       "H_COMP_3_LINEAR_SCORE                                0   \n",
       "H_COMP_5_LINEAR_SCORE                                0   \n",
       "H_COMP_6_LINEAR_SCORE                                0   \n",
       "H_COMP_7_LINEAR_SCORE                                0   \n",
       "H_HSP_RATING_LINEAR_SCORE                            0   \n",
       "H_QUIET_LINEAR_SCORE                                 0   \n",
       "H_RECMND_LINEAR_SCORE                                0   \n",
       "Hospital Name                                        0   \n",
       "MORT_30_AMI                                       1149   \n",
       "MORT_30_CABG                                      2516   \n",
       "MORT_30_COPD                                       438   \n",
       "MORT_30_HF                                         291   \n",
       "MORT_30_PN                                         196   \n",
       "MORT_30_STK                                        991   \n",
       "Number of Completed Surveys                          0   \n",
       "PSI_10_POST_KIDNEY                                 828   \n",
       "PSI_11_POST_RESP                                   848   \n",
       "PSI_12_POSTOP_PULMEMB_DVT                          625   \n",
       "PSI_13_POST_SEPSIS                                 841   \n",
       "PSI_14_POSTOP_DEHIS                                805   \n",
       "PSI_15_ACC_LAC                                     655   \n",
       "PSI_3_ULCER                                        573   \n",
       "PSI_4_SURG_COMP                                   1823   \n",
       "PSI_6_IAT_PTX                                      564   \n",
       "PSI_8_POST_HIP                                     564   \n",
       "PSI_90_SAFETY                                      562   \n",
       "PSI_9_POST_HEM                                     628   \n",
       "Provider ID                                          0   \n",
       "State                                                0   \n",
       "Survey Response Rate Percent                         0   \n",
       "Unnamed: 0                                           0   \n",
       "ZIP Code                                             0   \n",
       "\n",
       "                              Percentage of missing values  \n",
       "Address                                           0.000000  \n",
       "COMP_HIP_KNEE                                    24.652876  \n",
       "City                                              0.000000  \n",
       "H_CLEAN_LINEAR_SCORE                              0.000000  \n",
       "H_COMP_1_LINEAR_SCORE                             0.000000  \n",
       "H_COMP_2_LINEAR_SCORE                             0.000000  \n",
       "H_COMP_3_LINEAR_SCORE                             0.000000  \n",
       "H_COMP_5_LINEAR_SCORE                             0.000000  \n",
       "H_COMP_6_LINEAR_SCORE                             0.000000  \n",
       "H_COMP_7_LINEAR_SCORE                             0.000000  \n",
       "H_HSP_RATING_LINEAR_SCORE                         0.000000  \n",
       "H_QUIET_LINEAR_SCORE                              0.000000  \n",
       "H_RECMND_LINEAR_SCORE                             0.000000  \n",
       "Hospital Name                                     0.000000  \n",
       "MORT_30_AMI                                      32.558799  \n",
       "MORT_30_CABG                                     71.294984  \n",
       "MORT_30_COPD                                     12.411448  \n",
       "MORT_30_HF                                        8.245962  \n",
       "MORT_30_PN                                        5.553981  \n",
       "MORT_30_STK                                      28.081610  \n",
       "Number of Completed Surveys                       0.000000  \n",
       "PSI_10_POST_KIDNEY                               23.462737  \n",
       "PSI_11_POST_RESP                                 24.029470  \n",
       "PSI_12_POSTOP_PULMEMB_DVT                        17.710400  \n",
       "PSI_13_POST_SEPSIS                               23.831114  \n",
       "PSI_14_POSTOP_DEHIS                              22.810995  \n",
       "PSI_15_ACC_LAC                                   18.560499  \n",
       "PSI_3_ULCER                                      16.236894  \n",
       "PSI_4_SURG_COMP                                  51.657693  \n",
       "PSI_6_IAT_PTX                                    15.981865  \n",
       "PSI_8_POST_HIP                                   15.981865  \n",
       "PSI_90_SAFETY                                    15.925191  \n",
       "PSI_9_POST_HEM                                   17.795409  \n",
       "Provider ID                                       0.000000  \n",
       "State                                             0.000000  \n",
       "Survey Response Rate Percent                      0.000000  \n",
       "Unnamed: 0                                        0.000000  \n",
       "ZIP Code                                          0.000000  "
      ]
     },
     "execution_count": 149,
     "metadata": {},
     "output_type": "execute_result"
    }
   ],
   "source": [
    "# Explore missing values\n",
    "import warnings\n",
    "warnings.filterwarnings('ignore')\n",
    "total = Hospital_data.isnull().sum().sort_values(ascending=False)\n",
    "percent = Hospital_data.isnull().sum()/Hospital_data.isnull().count()*100\n",
    "percent_2H = (round(percent, 1)).sort_values(ascending=False)\n",
    "missing_data = pd.concat([total, percent], axis=1, keys=['Number of missing Values','Percentage of missing values'])\n",
    "missing_data"
   ]
  },
  {
   "cell_type": "code",
   "execution_count": 150,
   "metadata": {},
   "outputs": [
    {
     "data": {
      "text/plain": [
       "count    2659.000000\n",
       "mean        2.598270\n",
       "std         0.520227\n",
       "min         1.200000\n",
       "25%         2.200000\n",
       "50%         2.500000\n",
       "75%         2.900000\n",
       "max         5.400000\n",
       "Name: COMP_HIP_KNEE, dtype: float64"
      ]
     },
     "execution_count": 150,
     "metadata": {},
     "output_type": "execute_result"
    }
   ],
   "source": [
    "# Compute Column non-missing values mean\n",
    "Hospital_data['COMP_HIP_KNEE'].describe()"
   ]
  },
  {
   "cell_type": "code",
   "execution_count": 151,
   "metadata": {},
   "outputs": [],
   "source": [
    "# Use the computed mean to impute missing values\n",
    "mean_value = 2.598270\n",
    "data = [Hospital_data]\n",
    "\n",
    "for dataset in data:\n",
    "    dataset['COMP_HIP_KNEE'] = dataset['COMP_HIP_KNEE'].fillna(mean_value)"
   ]
  },
  {
   "cell_type": "code",
   "execution_count": 152,
   "metadata": {},
   "outputs": [
    {
     "data": {
      "text/plain": [
       "count    2380.000000\n",
       "mean       13.172227\n",
       "std         1.220191\n",
       "min         8.900000\n",
       "25%        12.400000\n",
       "50%        13.100000\n",
       "75%        13.900000\n",
       "max        18.700000\n",
       "Name: MORT_30_AMI, dtype: float64"
      ]
     },
     "execution_count": 152,
     "metadata": {},
     "output_type": "execute_result"
    }
   ],
   "source": [
    "# Compute Column non-missing values mean\n",
    "Hospital_data['MORT_30_AMI'].describe()"
   ]
  },
  {
   "cell_type": "code",
   "execution_count": 153,
   "metadata": {},
   "outputs": [],
   "source": [
    "# Use the computed mean to impute missing values\n",
    "mean_value = 13.172227\n",
    "data = [Hospital_data]\n",
    "\n",
    "for dataset in data:\n",
    "    dataset['MORT_30_AMI'] = dataset['MORT_30_AMI'].fillna(mean_value)"
   ]
  },
  {
   "cell_type": "code",
   "execution_count": 154,
   "metadata": {},
   "outputs": [
    {
     "data": {
      "text/plain": [
       "count    1013.000000\n",
       "mean        3.230405\n",
       "std         0.951815\n",
       "min         1.300000\n",
       "25%         2.600000\n",
       "50%         3.000000\n",
       "75%         3.700000\n",
       "max         8.500000\n",
       "Name: MORT_30_CABG, dtype: float64"
      ]
     },
     "execution_count": 154,
     "metadata": {},
     "output_type": "execute_result"
    }
   ],
   "source": [
    "# Compute Column non-missing values mean\n",
    "Hospital_data['MORT_30_CABG'].describe()"
   ]
  },
  {
   "cell_type": "code",
   "execution_count": 155,
   "metadata": {},
   "outputs": [],
   "source": [
    "# Use the computed mean to impute missing values\n",
    "mean_value = 3.230405\n",
    "data = [Hospital_data]\n",
    "\n",
    "for dataset in data:\n",
    "    dataset['MORT_30_CABG'] = dataset['MORT_30_CABG'].fillna(mean_value)"
   ]
  },
  {
   "cell_type": "code",
   "execution_count": 156,
   "metadata": {},
   "outputs": [
    {
     "data": {
      "text/plain": [
       "count    3091.000000\n",
       "mean        8.409609\n",
       "std         1.153897\n",
       "min         4.900000\n",
       "25%         7.600000\n",
       "50%         8.300000\n",
       "75%         9.100000\n",
       "max        14.400000\n",
       "Name: MORT_30_COPD, dtype: float64"
      ]
     },
     "execution_count": 156,
     "metadata": {},
     "output_type": "execute_result"
    }
   ],
   "source": [
    "# Compute Column non-missing values mean\n",
    "Hospital_data['MORT_30_COPD'].describe()"
   ]
  },
  {
   "cell_type": "code",
   "execution_count": 157,
   "metadata": {},
   "outputs": [],
   "source": [
    "# Use the computed mean to impute missing values\n",
    "mean_value = 8.409609\n",
    "data = [Hospital_data]\n",
    "\n",
    "for dataset in data:\n",
    "    dataset['MORT_30_COPD'] = dataset['MORT_30_COPD'].fillna(mean_value)"
   ]
  },
  {
   "cell_type": "code",
   "execution_count": 158,
   "metadata": {},
   "outputs": [
    {
     "data": {
      "text/plain": [
       "count    3238.000000\n",
       "mean       11.720568\n",
       "std         1.757129\n",
       "min         5.000000\n",
       "25%        10.500000\n",
       "50%        11.600000\n",
       "75%        12.900000\n",
       "max        18.500000\n",
       "Name: MORT_30_HF, dtype: float64"
      ]
     },
     "execution_count": 158,
     "metadata": {},
     "output_type": "execute_result"
    }
   ],
   "source": [
    "# Compute Column non-missing values mean\n",
    "Hospital_data['MORT_30_HF'].describe()"
   ]
  },
  {
   "cell_type": "code",
   "execution_count": 159,
   "metadata": {},
   "outputs": [],
   "source": [
    "# Use the computed mean to impute missing values\n",
    "mean_value = 11.720568\n",
    "data = [Hospital_data]\n",
    "\n",
    "for dataset in data:\n",
    "    dataset['MORT_30_HF'] = dataset['MORT_30_HF'].fillna(mean_value)"
   ]
  },
  {
   "cell_type": "code",
   "execution_count": 160,
   "metadata": {},
   "outputs": [
    {
     "data": {
      "text/plain": [
       "count    3333.000000\n",
       "mean       15.772187\n",
       "std         2.051998\n",
       "min         9.000000\n",
       "25%        14.400000\n",
       "50%        15.700000\n",
       "75%        17.000000\n",
       "max        24.800000\n",
       "Name: MORT_30_PN, dtype: float64"
      ]
     },
     "execution_count": 160,
     "metadata": {},
     "output_type": "execute_result"
    }
   ],
   "source": [
    "# Compute Column non-missing values mean\n",
    "Hospital_data['MORT_30_PN'].describe()"
   ]
  },
  {
   "cell_type": "code",
   "execution_count": 161,
   "metadata": {},
   "outputs": [],
   "source": [
    "# Use the computed mean to impute missing values\n",
    "mean_value = 15.772187\n",
    "data = [Hospital_data]\n",
    "\n",
    "for dataset in data:\n",
    "    dataset['MORT_30_PN'] = dataset['MORT_30_PN'].fillna(mean_value)"
   ]
  },
  {
   "cell_type": "code",
   "execution_count": 162,
   "metadata": {},
   "outputs": [
    {
     "data": {
      "text/plain": [
       "count    2538.000000\n",
       "mean       14.284555\n",
       "std         1.526956\n",
       "min         8.900000\n",
       "25%        13.300000\n",
       "50%        14.200000\n",
       "75%        15.200000\n",
       "max        21.400000\n",
       "Name: MORT_30_STK, dtype: float64"
      ]
     },
     "execution_count": 162,
     "metadata": {},
     "output_type": "execute_result"
    }
   ],
   "source": [
    "# Compute Column non-missing values mean\n",
    "Hospital_data['MORT_30_STK'].describe()"
   ]
  },
  {
   "cell_type": "code",
   "execution_count": 163,
   "metadata": {},
   "outputs": [],
   "source": [
    "# Use the computed mean to impute missing values\n",
    "mean_value = 14.284555\n",
    "data = [Hospital_data]\n",
    "\n",
    "for dataset in data:\n",
    "    dataset['MORT_30_STK'] = dataset['MORT_30_STK'].fillna(mean_value)"
   ]
  },
  {
   "cell_type": "code",
   "execution_count": 164,
   "metadata": {},
   "outputs": [
    {
     "data": {
      "text/plain": [
       "count    2701.000000\n",
       "mean        1.307827\n",
       "std         0.313357\n",
       "min         0.330000\n",
       "25%         1.180000\n",
       "50%         1.270000\n",
       "75%         1.310000\n",
       "max         4.310000\n",
       "Name: PSI_10_POST_KIDNEY, dtype: float64"
      ]
     },
     "execution_count": 164,
     "metadata": {},
     "output_type": "execute_result"
    }
   ],
   "source": [
    "# Compute Column non-missing values mean\n",
    "Hospital_data['PSI_10_POST_KIDNEY'].describe()"
   ]
  },
  {
   "cell_type": "code",
   "execution_count": 165,
   "metadata": {},
   "outputs": [],
   "source": [
    "# Use the computed mean to impute missing values\n",
    "mean_value = 1.307827\n",
    "data = [Hospital_data]\n",
    "\n",
    "for dataset in data:\n",
    "    dataset['PSI_10_POST_KIDNEY'] = dataset['PSI_10_POST_KIDNEY'].fillna(mean_value)"
   ]
  },
  {
   "cell_type": "code",
   "execution_count": 166,
   "metadata": {},
   "outputs": [
    {
     "data": {
      "text/plain": [
       "count    2681.000000\n",
       "mean        8.047139\n",
       "std         2.950221\n",
       "min         1.550000\n",
       "25%         6.160000\n",
       "50%         7.370000\n",
       "75%         9.440000\n",
       "max        34.750000\n",
       "Name: PSI_11_POST_RESP, dtype: float64"
      ]
     },
     "execution_count": 166,
     "metadata": {},
     "output_type": "execute_result"
    }
   ],
   "source": [
    "# Compute Column non-missing values mean\n",
    "Hospital_data['PSI_11_POST_RESP'].describe()"
   ]
  },
  {
   "cell_type": "code",
   "execution_count": 167,
   "metadata": {},
   "outputs": [],
   "source": [
    "# Use the computed mean to impute missing values\n",
    "mean_value = 8.047139\n",
    "data = [Hospital_data]\n",
    "\n",
    "for dataset in data:\n",
    "    dataset['PSI_11_POST_RESP'] = dataset['PSI_11_POST_RESP'].fillna(mean_value)"
   ]
  },
  {
   "cell_type": "code",
   "execution_count": 168,
   "metadata": {},
   "outputs": [
    {
     "data": {
      "text/plain": [
       "count    2904.000000\n",
       "mean        3.812930\n",
       "std         0.924873\n",
       "min         1.210000\n",
       "25%         3.250000\n",
       "50%         3.680000\n",
       "75%         4.240000\n",
       "max         9.820000\n",
       "Name: PSI_12_POSTOP_PULMEMB_DVT, dtype: float64"
      ]
     },
     "execution_count": 168,
     "metadata": {},
     "output_type": "execute_result"
    }
   ],
   "source": [
    "# Compute Column non-missing values mean\n",
    "Hospital_data['PSI_12_POSTOP_PULMEMB_DVT'].describe()"
   ]
  },
  {
   "cell_type": "code",
   "execution_count": 169,
   "metadata": {},
   "outputs": [],
   "source": [
    "# Use the computed mean to impute missing values\n",
    "mean_value = 3.812930\n",
    "data = [Hospital_data]\n",
    "\n",
    "for dataset in data:\n",
    "    dataset['PSI_12_POSTOP_PULMEMB_DVT'] = dataset['PSI_12_POSTOP_PULMEMB_DVT'].fillna(mean_value)"
   ]
  },
  {
   "cell_type": "code",
   "execution_count": 170,
   "metadata": {},
   "outputs": [
    {
     "data": {
      "text/plain": [
       "count    2688.000000\n",
       "mean        5.214059\n",
       "std         1.081294\n",
       "min         2.090000\n",
       "25%         4.610000\n",
       "50%         5.050000\n",
       "75%         5.660000\n",
       "max        14.450000\n",
       "Name: PSI_13_POST_SEPSIS, dtype: float64"
      ]
     },
     "execution_count": 170,
     "metadata": {},
     "output_type": "execute_result"
    }
   ],
   "source": [
    "# Compute Column non-missing values mean\n",
    "Hospital_data['PSI_13_POST_SEPSIS'].describe()"
   ]
  },
  {
   "cell_type": "code",
   "execution_count": 171,
   "metadata": {},
   "outputs": [],
   "source": [
    "# Use the computed mean to impute missing values\n",
    "mean_value = 5.214059\n",
    "data = [Hospital_data]\n",
    "\n",
    "for dataset in data:\n",
    "    dataset['PSI_13_POST_SEPSIS'] = dataset['PSI_13_POST_SEPSIS'].fillna(mean_value)"
   ]
  },
  {
   "cell_type": "code",
   "execution_count": 172,
   "metadata": {},
   "outputs": [
    {
     "data": {
      "text/plain": [
       "count    2724.000000\n",
       "mean        0.857948\n",
       "std         0.251599\n",
       "min         0.270000\n",
       "25%         0.730000\n",
       "50%         0.800000\n",
       "75%         0.840000\n",
       "max         2.700000\n",
       "Name: PSI_14_POSTOP_DEHIS, dtype: float64"
      ]
     },
     "execution_count": 172,
     "metadata": {},
     "output_type": "execute_result"
    }
   ],
   "source": [
    "# Compute Column non-missing values mean\n",
    "Hospital_data['PSI_14_POSTOP_DEHIS'].describe()"
   ]
  },
  {
   "cell_type": "code",
   "execution_count": 173,
   "metadata": {},
   "outputs": [],
   "source": [
    "# Use the computed mean to impute missing values\n",
    "mean_value = 0.857948\n",
    "data = [Hospital_data]\n",
    "\n",
    "for dataset in data:\n",
    "    dataset['PSI_14_POSTOP_DEHIS'] = dataset['PSI_14_POSTOP_DEHIS'].fillna(mean_value)"
   ]
  },
  {
   "cell_type": "code",
   "execution_count": 174,
   "metadata": {},
   "outputs": [
    {
     "data": {
      "text/plain": [
       "count    2874.000000\n",
       "mean        1.290052\n",
       "std         0.238634\n",
       "min         0.570000\n",
       "25%         1.160000\n",
       "50%         1.250000\n",
       "75%         1.380000\n",
       "max         2.980000\n",
       "Name: PSI_15_ACC_LAC, dtype: float64"
      ]
     },
     "execution_count": 174,
     "metadata": {},
     "output_type": "execute_result"
    }
   ],
   "source": [
    "# Compute Column non-missing values mean\n",
    "Hospital_data['PSI_15_ACC_LAC'].describe()"
   ]
  },
  {
   "cell_type": "code",
   "execution_count": 175,
   "metadata": {},
   "outputs": [],
   "source": [
    "# Use the computed mean to impute missing values\n",
    "mean_value = 1.290052\n",
    "data = [Hospital_data]\n",
    "\n",
    "for dataset in data:\n",
    "    dataset['PSI_15_ACC_LAC'] = dataset['PSI_15_ACC_LAC'].fillna(mean_value)"
   ]
  },
  {
   "cell_type": "code",
   "execution_count": 176,
   "metadata": {},
   "outputs": [
    {
     "data": {
      "text/plain": [
       "count    2956.000000\n",
       "mean        0.383332\n",
       "std         0.429161\n",
       "min         0.020000\n",
       "25%         0.170000\n",
       "50%         0.280000\n",
       "75%         0.440000\n",
       "max        12.600000\n",
       "Name: PSI_3_ULCER, dtype: float64"
      ]
     },
     "execution_count": 176,
     "metadata": {},
     "output_type": "execute_result"
    }
   ],
   "source": [
    "# Compute Column non-missing values mean\n",
    "Hospital_data['PSI_3_ULCER'].describe()"
   ]
  },
  {
   "cell_type": "code",
   "execution_count": 177,
   "metadata": {},
   "outputs": [],
   "source": [
    "# Use the computed mean to impute missing values\n",
    "mean_value = 0.383332\n",
    "data = [Hospital_data]\n",
    "\n",
    "for dataset in data:\n",
    "    dataset['PSI_3_ULCER'] = dataset['PSI_3_ULCER'].fillna(mean_value)"
   ]
  },
  {
   "cell_type": "code",
   "execution_count": 178,
   "metadata": {},
   "outputs": [
    {
     "data": {
      "text/plain": [
       "count    1706.000000\n",
       "mean      161.794959\n",
       "std        17.033773\n",
       "min        96.820000\n",
       "25%       150.687500\n",
       "50%       160.900000\n",
       "75%       172.277500\n",
       "max       225.890000\n",
       "Name: PSI_4_SURG_COMP, dtype: float64"
      ]
     },
     "execution_count": 178,
     "metadata": {},
     "output_type": "execute_result"
    }
   ],
   "source": [
    "# Compute Column non-missing values mean\n",
    "Hospital_data['PSI_4_SURG_COMP'].describe()"
   ]
  },
  {
   "cell_type": "code",
   "execution_count": 179,
   "metadata": {},
   "outputs": [],
   "source": [
    "# Use the computed mean to impute missing values\n",
    "mean_value = 161.794959\n",
    "data = [Hospital_data]\n",
    "\n",
    "for dataset in data:\n",
    "    dataset['PSI_4_SURG_COMP'] = dataset['PSI_4_SURG_COMP'].fillna(mean_value)"
   ]
  },
  {
   "cell_type": "code",
   "execution_count": 180,
   "metadata": {},
   "outputs": [
    {
     "data": {
      "text/plain": [
       "count    2965.000000\n",
       "mean        0.287423\n",
       "std         0.048992\n",
       "min         0.110000\n",
       "25%         0.260000\n",
       "50%         0.280000\n",
       "75%         0.310000\n",
       "max         0.680000\n",
       "Name: PSI_6_IAT_PTX, dtype: float64"
      ]
     },
     "execution_count": 180,
     "metadata": {},
     "output_type": "execute_result"
    }
   ],
   "source": [
    "# Compute Column non-missing values mean\n",
    "Hospital_data['PSI_6_IAT_PTX'].describe()"
   ]
  },
  {
   "cell_type": "code",
   "execution_count": 181,
   "metadata": {},
   "outputs": [],
   "source": [
    "# Use the computed mean to impute missing values\n",
    "mean_value = 0.287423\n",
    "data = [Hospital_data]\n",
    "\n",
    "for dataset in data:\n",
    "    dataset['PSI_6_IAT_PTX'] = dataset['PSI_6_IAT_PTX'].fillna(mean_value)"
   ]
  },
  {
   "cell_type": "code",
   "execution_count": 182,
   "metadata": {},
   "outputs": [
    {
     "data": {
      "text/plain": [
       "count    2965.000000\n",
       "mean        0.110958\n",
       "std         0.009690\n",
       "min         0.080000\n",
       "25%         0.110000\n",
       "50%         0.110000\n",
       "75%         0.110000\n",
       "max         0.170000\n",
       "Name: PSI_8_POST_HIP, dtype: float64"
      ]
     },
     "execution_count": 182,
     "metadata": {},
     "output_type": "execute_result"
    }
   ],
   "source": [
    "# Compute Column non-missing values mean\n",
    "Hospital_data['PSI_8_POST_HIP'].describe()"
   ]
  },
  {
   "cell_type": "code",
   "execution_count": 183,
   "metadata": {},
   "outputs": [],
   "source": [
    "# Use the computed mean to impute missing values\n",
    "mean_value = 0.110958\n",
    "data = [Hospital_data]\n",
    "\n",
    "for dataset in data:\n",
    "    dataset['PSI_8_POST_HIP'] = dataset['PSI_8_POST_HIP'].fillna(mean_value)"
   ]
  },
  {
   "cell_type": "code",
   "execution_count": 184,
   "metadata": {},
   "outputs": [
    {
     "data": {
      "text/plain": [
       "count    2967.000000\n",
       "mean        0.994392\n",
       "std         0.180281\n",
       "min         0.520000\n",
       "25%         0.890000\n",
       "50%         0.970000\n",
       "75%         1.070000\n",
       "max         4.210000\n",
       "Name: PSI_90_SAFETY, dtype: float64"
      ]
     },
     "execution_count": 184,
     "metadata": {},
     "output_type": "execute_result"
    }
   ],
   "source": [
    "# Compute Column non-missing values mean\n",
    "Hospital_data['PSI_90_SAFETY'].describe()"
   ]
  },
  {
   "cell_type": "code",
   "execution_count": 185,
   "metadata": {},
   "outputs": [],
   "source": [
    "# Use the computed mean to impute missing values\n",
    "mean_value = 0.994392\n",
    "data = [Hospital_data]\n",
    "\n",
    "for dataset in data:\n",
    "    dataset['PSI_90_SAFETY'] = dataset['PSI_90_SAFETY'].fillna(mean_value)"
   ]
  },
  {
   "cell_type": "code",
   "execution_count": 186,
   "metadata": {},
   "outputs": [
    {
     "data": {
      "text/plain": [
       "count    2901.000000\n",
       "mean        2.589211\n",
       "std         0.362182\n",
       "min         1.290000\n",
       "25%         2.410000\n",
       "50%         2.540000\n",
       "75%         2.730000\n",
       "max         4.690000\n",
       "Name: PSI_9_POST_HEM, dtype: float64"
      ]
     },
     "execution_count": 186,
     "metadata": {},
     "output_type": "execute_result"
    }
   ],
   "source": [
    "# Compute Column non-missing values mean\n",
    "Hospital_data['PSI_9_POST_HEM'].describe()"
   ]
  },
  {
   "cell_type": "code",
   "execution_count": 187,
   "metadata": {},
   "outputs": [],
   "source": [
    "# Use the computed mean to impute missing values\n",
    "mean_value = 2.589211\n",
    "data = [Hospital_data]\n",
    "\n",
    "for dataset in data:\n",
    "    dataset['PSI_9_POST_HEM'] = dataset['PSI_9_POST_HEM'].fillna(mean_value)"
   ]
  },
  {
   "cell_type": "code",
   "execution_count": 188,
   "metadata": {},
   "outputs": [
    {
     "data": {
      "text/html": [
       "<div>\n",
       "<style scoped>\n",
       "    .dataframe tbody tr th:only-of-type {\n",
       "        vertical-align: middle;\n",
       "    }\n",
       "\n",
       "    .dataframe tbody tr th {\n",
       "        vertical-align: top;\n",
       "    }\n",
       "\n",
       "    .dataframe thead th {\n",
       "        text-align: right;\n",
       "    }\n",
       "</style>\n",
       "<table border=\"1\" class=\"dataframe\">\n",
       "  <thead>\n",
       "    <tr style=\"text-align: right;\">\n",
       "      <th></th>\n",
       "      <th>Number of missing Values</th>\n",
       "      <th>Percentage of missing values</th>\n",
       "    </tr>\n",
       "  </thead>\n",
       "  <tbody>\n",
       "    <tr>\n",
       "      <th>Address</th>\n",
       "      <td>0</td>\n",
       "      <td>0.0</td>\n",
       "    </tr>\n",
       "    <tr>\n",
       "      <th>COMP_HIP_KNEE</th>\n",
       "      <td>0</td>\n",
       "      <td>0.0</td>\n",
       "    </tr>\n",
       "    <tr>\n",
       "      <th>City</th>\n",
       "      <td>0</td>\n",
       "      <td>0.0</td>\n",
       "    </tr>\n",
       "    <tr>\n",
       "      <th>H_CLEAN_LINEAR_SCORE</th>\n",
       "      <td>0</td>\n",
       "      <td>0.0</td>\n",
       "    </tr>\n",
       "    <tr>\n",
       "      <th>H_COMP_1_LINEAR_SCORE</th>\n",
       "      <td>0</td>\n",
       "      <td>0.0</td>\n",
       "    </tr>\n",
       "    <tr>\n",
       "      <th>H_COMP_2_LINEAR_SCORE</th>\n",
       "      <td>0</td>\n",
       "      <td>0.0</td>\n",
       "    </tr>\n",
       "    <tr>\n",
       "      <th>H_COMP_3_LINEAR_SCORE</th>\n",
       "      <td>0</td>\n",
       "      <td>0.0</td>\n",
       "    </tr>\n",
       "    <tr>\n",
       "      <th>H_COMP_5_LINEAR_SCORE</th>\n",
       "      <td>0</td>\n",
       "      <td>0.0</td>\n",
       "    </tr>\n",
       "    <tr>\n",
       "      <th>H_COMP_6_LINEAR_SCORE</th>\n",
       "      <td>0</td>\n",
       "      <td>0.0</td>\n",
       "    </tr>\n",
       "    <tr>\n",
       "      <th>H_COMP_7_LINEAR_SCORE</th>\n",
       "      <td>0</td>\n",
       "      <td>0.0</td>\n",
       "    </tr>\n",
       "    <tr>\n",
       "      <th>H_HSP_RATING_LINEAR_SCORE</th>\n",
       "      <td>0</td>\n",
       "      <td>0.0</td>\n",
       "    </tr>\n",
       "    <tr>\n",
       "      <th>H_QUIET_LINEAR_SCORE</th>\n",
       "      <td>0</td>\n",
       "      <td>0.0</td>\n",
       "    </tr>\n",
       "    <tr>\n",
       "      <th>H_RECMND_LINEAR_SCORE</th>\n",
       "      <td>0</td>\n",
       "      <td>0.0</td>\n",
       "    </tr>\n",
       "    <tr>\n",
       "      <th>Hospital Name</th>\n",
       "      <td>0</td>\n",
       "      <td>0.0</td>\n",
       "    </tr>\n",
       "    <tr>\n",
       "      <th>MORT_30_AMI</th>\n",
       "      <td>0</td>\n",
       "      <td>0.0</td>\n",
       "    </tr>\n",
       "    <tr>\n",
       "      <th>MORT_30_CABG</th>\n",
       "      <td>0</td>\n",
       "      <td>0.0</td>\n",
       "    </tr>\n",
       "    <tr>\n",
       "      <th>MORT_30_COPD</th>\n",
       "      <td>0</td>\n",
       "      <td>0.0</td>\n",
       "    </tr>\n",
       "    <tr>\n",
       "      <th>MORT_30_HF</th>\n",
       "      <td>0</td>\n",
       "      <td>0.0</td>\n",
       "    </tr>\n",
       "    <tr>\n",
       "      <th>MORT_30_PN</th>\n",
       "      <td>0</td>\n",
       "      <td>0.0</td>\n",
       "    </tr>\n",
       "    <tr>\n",
       "      <th>MORT_30_STK</th>\n",
       "      <td>0</td>\n",
       "      <td>0.0</td>\n",
       "    </tr>\n",
       "    <tr>\n",
       "      <th>Number of Completed Surveys</th>\n",
       "      <td>0</td>\n",
       "      <td>0.0</td>\n",
       "    </tr>\n",
       "    <tr>\n",
       "      <th>PSI_10_POST_KIDNEY</th>\n",
       "      <td>0</td>\n",
       "      <td>0.0</td>\n",
       "    </tr>\n",
       "    <tr>\n",
       "      <th>PSI_11_POST_RESP</th>\n",
       "      <td>0</td>\n",
       "      <td>0.0</td>\n",
       "    </tr>\n",
       "    <tr>\n",
       "      <th>PSI_12_POSTOP_PULMEMB_DVT</th>\n",
       "      <td>0</td>\n",
       "      <td>0.0</td>\n",
       "    </tr>\n",
       "    <tr>\n",
       "      <th>PSI_13_POST_SEPSIS</th>\n",
       "      <td>0</td>\n",
       "      <td>0.0</td>\n",
       "    </tr>\n",
       "    <tr>\n",
       "      <th>PSI_14_POSTOP_DEHIS</th>\n",
       "      <td>0</td>\n",
       "      <td>0.0</td>\n",
       "    </tr>\n",
       "    <tr>\n",
       "      <th>PSI_15_ACC_LAC</th>\n",
       "      <td>0</td>\n",
       "      <td>0.0</td>\n",
       "    </tr>\n",
       "    <tr>\n",
       "      <th>PSI_3_ULCER</th>\n",
       "      <td>0</td>\n",
       "      <td>0.0</td>\n",
       "    </tr>\n",
       "    <tr>\n",
       "      <th>PSI_4_SURG_COMP</th>\n",
       "      <td>0</td>\n",
       "      <td>0.0</td>\n",
       "    </tr>\n",
       "    <tr>\n",
       "      <th>PSI_6_IAT_PTX</th>\n",
       "      <td>0</td>\n",
       "      <td>0.0</td>\n",
       "    </tr>\n",
       "    <tr>\n",
       "      <th>PSI_8_POST_HIP</th>\n",
       "      <td>0</td>\n",
       "      <td>0.0</td>\n",
       "    </tr>\n",
       "    <tr>\n",
       "      <th>PSI_90_SAFETY</th>\n",
       "      <td>0</td>\n",
       "      <td>0.0</td>\n",
       "    </tr>\n",
       "    <tr>\n",
       "      <th>PSI_9_POST_HEM</th>\n",
       "      <td>0</td>\n",
       "      <td>0.0</td>\n",
       "    </tr>\n",
       "    <tr>\n",
       "      <th>Provider ID</th>\n",
       "      <td>0</td>\n",
       "      <td>0.0</td>\n",
       "    </tr>\n",
       "    <tr>\n",
       "      <th>State</th>\n",
       "      <td>0</td>\n",
       "      <td>0.0</td>\n",
       "    </tr>\n",
       "    <tr>\n",
       "      <th>Survey Response Rate Percent</th>\n",
       "      <td>0</td>\n",
       "      <td>0.0</td>\n",
       "    </tr>\n",
       "    <tr>\n",
       "      <th>Unnamed: 0</th>\n",
       "      <td>0</td>\n",
       "      <td>0.0</td>\n",
       "    </tr>\n",
       "    <tr>\n",
       "      <th>ZIP Code</th>\n",
       "      <td>0</td>\n",
       "      <td>0.0</td>\n",
       "    </tr>\n",
       "  </tbody>\n",
       "</table>\n",
       "</div>"
      ],
      "text/plain": [
       "                              Number of missing Values  \\\n",
       "Address                                              0   \n",
       "COMP_HIP_KNEE                                        0   \n",
       "City                                                 0   \n",
       "H_CLEAN_LINEAR_SCORE                                 0   \n",
       "H_COMP_1_LINEAR_SCORE                                0   \n",
       "H_COMP_2_LINEAR_SCORE                                0   \n",
       "H_COMP_3_LINEAR_SCORE                                0   \n",
       "H_COMP_5_LINEAR_SCORE                                0   \n",
       "H_COMP_6_LINEAR_SCORE                                0   \n",
       "H_COMP_7_LINEAR_SCORE                                0   \n",
       "H_HSP_RATING_LINEAR_SCORE                            0   \n",
       "H_QUIET_LINEAR_SCORE                                 0   \n",
       "H_RECMND_LINEAR_SCORE                                0   \n",
       "Hospital Name                                        0   \n",
       "MORT_30_AMI                                          0   \n",
       "MORT_30_CABG                                         0   \n",
       "MORT_30_COPD                                         0   \n",
       "MORT_30_HF                                           0   \n",
       "MORT_30_PN                                           0   \n",
       "MORT_30_STK                                          0   \n",
       "Number of Completed Surveys                          0   \n",
       "PSI_10_POST_KIDNEY                                   0   \n",
       "PSI_11_POST_RESP                                     0   \n",
       "PSI_12_POSTOP_PULMEMB_DVT                            0   \n",
       "PSI_13_POST_SEPSIS                                   0   \n",
       "PSI_14_POSTOP_DEHIS                                  0   \n",
       "PSI_15_ACC_LAC                                       0   \n",
       "PSI_3_ULCER                                          0   \n",
       "PSI_4_SURG_COMP                                      0   \n",
       "PSI_6_IAT_PTX                                        0   \n",
       "PSI_8_POST_HIP                                       0   \n",
       "PSI_90_SAFETY                                        0   \n",
       "PSI_9_POST_HEM                                       0   \n",
       "Provider ID                                          0   \n",
       "State                                                0   \n",
       "Survey Response Rate Percent                         0   \n",
       "Unnamed: 0                                           0   \n",
       "ZIP Code                                             0   \n",
       "\n",
       "                              Percentage of missing values  \n",
       "Address                                                0.0  \n",
       "COMP_HIP_KNEE                                          0.0  \n",
       "City                                                   0.0  \n",
       "H_CLEAN_LINEAR_SCORE                                   0.0  \n",
       "H_COMP_1_LINEAR_SCORE                                  0.0  \n",
       "H_COMP_2_LINEAR_SCORE                                  0.0  \n",
       "H_COMP_3_LINEAR_SCORE                                  0.0  \n",
       "H_COMP_5_LINEAR_SCORE                                  0.0  \n",
       "H_COMP_6_LINEAR_SCORE                                  0.0  \n",
       "H_COMP_7_LINEAR_SCORE                                  0.0  \n",
       "H_HSP_RATING_LINEAR_SCORE                              0.0  \n",
       "H_QUIET_LINEAR_SCORE                                   0.0  \n",
       "H_RECMND_LINEAR_SCORE                                  0.0  \n",
       "Hospital Name                                          0.0  \n",
       "MORT_30_AMI                                            0.0  \n",
       "MORT_30_CABG                                           0.0  \n",
       "MORT_30_COPD                                           0.0  \n",
       "MORT_30_HF                                             0.0  \n",
       "MORT_30_PN                                             0.0  \n",
       "MORT_30_STK                                            0.0  \n",
       "Number of Completed Surveys                            0.0  \n",
       "PSI_10_POST_KIDNEY                                     0.0  \n",
       "PSI_11_POST_RESP                                       0.0  \n",
       "PSI_12_POSTOP_PULMEMB_DVT                              0.0  \n",
       "PSI_13_POST_SEPSIS                                     0.0  \n",
       "PSI_14_POSTOP_DEHIS                                    0.0  \n",
       "PSI_15_ACC_LAC                                         0.0  \n",
       "PSI_3_ULCER                                            0.0  \n",
       "PSI_4_SURG_COMP                                        0.0  \n",
       "PSI_6_IAT_PTX                                          0.0  \n",
       "PSI_8_POST_HIP                                         0.0  \n",
       "PSI_90_SAFETY                                          0.0  \n",
       "PSI_9_POST_HEM                                         0.0  \n",
       "Provider ID                                            0.0  \n",
       "State                                                  0.0  \n",
       "Survey Response Rate Percent                           0.0  \n",
       "Unnamed: 0                                             0.0  \n",
       "ZIP Code                                               0.0  "
      ]
     },
     "execution_count": 188,
     "metadata": {},
     "output_type": "execute_result"
    }
   ],
   "source": [
    "# Explore missing values\n",
    "import warnings\n",
    "warnings.filterwarnings('ignore')\n",
    "total = Hospital_data.isnull().sum().sort_values(ascending=False)\n",
    "percent = Hospital_data.isnull().sum()/Hospital_data.isnull().count()*100\n",
    "percent_2H = (round(percent, 1)).sort_values(ascending=False)\n",
    "missing_data = pd.concat([total, percent], axis=1, keys=['Number of missing Values','Percentage of missing values'])\n",
    "missing_data"
   ]
  },
  {
   "cell_type": "code",
   "execution_count": 189,
   "metadata": {},
   "outputs": [
    {
     "name": "stdout",
     "output_type": "stream",
     "text": [
      "<class 'pandas.core.frame.DataFrame'>\n",
      "RangeIndex: 3529 entries, 0 to 3528\n",
      "Data columns (total 38 columns):\n",
      "Unnamed: 0                      3529 non-null int64\n",
      "Provider ID                     3529 non-null object\n",
      "COMP_HIP_KNEE                   3529 non-null float64\n",
      "MORT_30_AMI                     3529 non-null float64\n",
      "MORT_30_CABG                    3529 non-null float64\n",
      "MORT_30_COPD                    3529 non-null float64\n",
      "MORT_30_HF                      3529 non-null float64\n",
      "MORT_30_PN                      3529 non-null float64\n",
      "MORT_30_STK                     3529 non-null float64\n",
      "PSI_10_POST_KIDNEY              3529 non-null float64\n",
      "PSI_11_POST_RESP                3529 non-null float64\n",
      "PSI_12_POSTOP_PULMEMB_DVT       3529 non-null float64\n",
      "PSI_13_POST_SEPSIS              3529 non-null float64\n",
      "PSI_14_POSTOP_DEHIS             3529 non-null float64\n",
      "PSI_15_ACC_LAC                  3529 non-null float64\n",
      "PSI_3_ULCER                     3529 non-null float64\n",
      "PSI_4_SURG_COMP                 3529 non-null float64\n",
      "PSI_6_IAT_PTX                   3529 non-null float64\n",
      "PSI_8_POST_HIP                  3529 non-null float64\n",
      "PSI_90_SAFETY                   3529 non-null float64\n",
      "PSI_9_POST_HEM                  3529 non-null float64\n",
      "H_CLEAN_LINEAR_SCORE            3529 non-null int64\n",
      "H_COMP_1_LINEAR_SCORE           3529 non-null int64\n",
      "H_COMP_2_LINEAR_SCORE           3529 non-null int64\n",
      "H_COMP_3_LINEAR_SCORE           3529 non-null int64\n",
      "H_COMP_5_LINEAR_SCORE           3529 non-null int64\n",
      "H_COMP_6_LINEAR_SCORE           3529 non-null int64\n",
      "H_COMP_7_LINEAR_SCORE           3529 non-null int64\n",
      "H_HSP_RATING_LINEAR_SCORE       3529 non-null int64\n",
      "H_QUIET_LINEAR_SCORE            3529 non-null int64\n",
      "H_RECMND_LINEAR_SCORE           3529 non-null int64\n",
      "Hospital Name                   3529 non-null object\n",
      "Address                         3529 non-null object\n",
      "City                            3529 non-null object\n",
      "State                           3529 non-null object\n",
      "ZIP Code                        3529 non-null float64\n",
      "Number of Completed Surveys     3529 non-null int64\n",
      "Survey Response Rate Percent    3529 non-null int64\n",
      "dtypes: float64(20), int64(13), object(5)\n",
      "memory usage: 1.0+ MB\n"
     ]
    }
   ],
   "source": [
    "# Explore dataset\n",
    "Hospital_data.info()"
   ]
  },
  {
   "cell_type": "code",
   "execution_count": 190,
   "metadata": {},
   "outputs": [
    {
     "data": {
      "text/html": [
       "<div>\n",
       "<style scoped>\n",
       "    .dataframe tbody tr th:only-of-type {\n",
       "        vertical-align: middle;\n",
       "    }\n",
       "\n",
       "    .dataframe tbody tr th {\n",
       "        vertical-align: top;\n",
       "    }\n",
       "\n",
       "    .dataframe thead th {\n",
       "        text-align: right;\n",
       "    }\n",
       "</style>\n",
       "<table border=\"1\" class=\"dataframe\">\n",
       "  <thead>\n",
       "    <tr style=\"text-align: right;\">\n",
       "      <th></th>\n",
       "      <th>Unnamed: 0</th>\n",
       "      <th>Provider ID</th>\n",
       "      <th>COMP_HIP_KNEE</th>\n",
       "      <th>MORT_30_AMI</th>\n",
       "      <th>MORT_30_CABG</th>\n",
       "      <th>MORT_30_COPD</th>\n",
       "      <th>MORT_30_HF</th>\n",
       "      <th>MORT_30_PN</th>\n",
       "      <th>MORT_30_STK</th>\n",
       "      <th>PSI_10_POST_KIDNEY</th>\n",
       "      <th>...</th>\n",
       "      <th>H_HSP_RATING_LINEAR_SCORE</th>\n",
       "      <th>H_QUIET_LINEAR_SCORE</th>\n",
       "      <th>H_RECMND_LINEAR_SCORE</th>\n",
       "      <th>Hospital Name</th>\n",
       "      <th>Address</th>\n",
       "      <th>City</th>\n",
       "      <th>State</th>\n",
       "      <th>ZIP Code</th>\n",
       "      <th>Number of Completed Surveys</th>\n",
       "      <th>Survey Response Rate Percent</th>\n",
       "    </tr>\n",
       "  </thead>\n",
       "  <tbody>\n",
       "    <tr>\n",
       "      <th>0</th>\n",
       "      <td>0</td>\n",
       "      <td>010001</td>\n",
       "      <td>3.0</td>\n",
       "      <td>14.5</td>\n",
       "      <td>4.500000</td>\n",
       "      <td>8.9</td>\n",
       "      <td>12.5</td>\n",
       "      <td>16.2</td>\n",
       "      <td>13.7</td>\n",
       "      <td>0.65</td>\n",
       "      <td>...</td>\n",
       "      <td>83</td>\n",
       "      <td>86</td>\n",
       "      <td>84</td>\n",
       "      <td>SOUTHEAST ALABAMA MEDICAL CENTER</td>\n",
       "      <td>1108 ROSS CLARK CIRCLE</td>\n",
       "      <td>DOTHAN</td>\n",
       "      <td>AL</td>\n",
       "      <td>36301.0</td>\n",
       "      <td>506</td>\n",
       "      <td>21</td>\n",
       "    </tr>\n",
       "    <tr>\n",
       "      <th>1</th>\n",
       "      <td>1</td>\n",
       "      <td>010005</td>\n",
       "      <td>3.0</td>\n",
       "      <td>15.5</td>\n",
       "      <td>3.230405</td>\n",
       "      <td>10.9</td>\n",
       "      <td>15.3</td>\n",
       "      <td>20.8</td>\n",
       "      <td>15.7</td>\n",
       "      <td>1.10</td>\n",
       "      <td>...</td>\n",
       "      <td>88</td>\n",
       "      <td>85</td>\n",
       "      <td>88</td>\n",
       "      <td>MARSHALL MEDICAL CENTER SOUTH</td>\n",
       "      <td>2505 U S HIGHWAY 431 NORTH</td>\n",
       "      <td>BOAZ</td>\n",
       "      <td>AL</td>\n",
       "      <td>35957.0</td>\n",
       "      <td>1135</td>\n",
       "      <td>34</td>\n",
       "    </tr>\n",
       "  </tbody>\n",
       "</table>\n",
       "<p>2 rows × 38 columns</p>\n",
       "</div>"
      ],
      "text/plain": [
       "   Unnamed: 0 Provider ID  COMP_HIP_KNEE  MORT_30_AMI  MORT_30_CABG  \\\n",
       "0           0      010001            3.0         14.5      4.500000   \n",
       "1           1      010005            3.0         15.5      3.230405   \n",
       "\n",
       "   MORT_30_COPD  MORT_30_HF  MORT_30_PN  MORT_30_STK  PSI_10_POST_KIDNEY  ...  \\\n",
       "0           8.9        12.5        16.2         13.7                0.65  ...   \n",
       "1          10.9        15.3        20.8         15.7                1.10  ...   \n",
       "\n",
       "   H_HSP_RATING_LINEAR_SCORE  H_QUIET_LINEAR_SCORE  H_RECMND_LINEAR_SCORE  \\\n",
       "0                         83                    86                     84   \n",
       "1                         88                    85                     88   \n",
       "\n",
       "                      Hospital Name                     Address    City  \\\n",
       "0  SOUTHEAST ALABAMA MEDICAL CENTER      1108 ROSS CLARK CIRCLE  DOTHAN   \n",
       "1     MARSHALL MEDICAL CENTER SOUTH  2505 U S HIGHWAY 431 NORTH    BOAZ   \n",
       "\n",
       "   State  ZIP Code  Number of Completed Surveys  Survey Response Rate Percent  \n",
       "0     AL   36301.0                          506                            21  \n",
       "1     AL   35957.0                         1135                            34  \n",
       "\n",
       "[2 rows x 38 columns]"
      ]
     },
     "execution_count": 190,
     "metadata": {},
     "output_type": "execute_result"
    }
   ],
   "source": [
    "Hospital_data.head(2)"
   ]
  },
  {
   "cell_type": "code",
   "execution_count": 191,
   "metadata": {},
   "outputs": [],
   "source": [
    "# Export Data to a CSV File\n",
    "Hospital_data.to_csv(r'/Users/michaeldiarra/OneDrive/Samsung Ultra/U Chicago Ms Analytics/Program/Spring 2019/MSCA 31008 01 - Data Mining Principles/Graded Assignments/Group Project/hospitalDataTarget_MeanImpute.csv')"
   ]
  }
 ],
 "metadata": {
  "kernelspec": {
   "display_name": "Python 3",
   "language": "python",
   "name": "python3"
  },
  "language_info": {
   "codemirror_mode": {
    "name": "ipython",
    "version": 3
   },
   "file_extension": ".py",
   "mimetype": "text/x-python",
   "name": "python",
   "nbconvert_exporter": "python",
   "pygments_lexer": "ipython3",
   "version": "3.6.8"
  }
 },
 "nbformat": 4,
 "nbformat_minor": 2
}
